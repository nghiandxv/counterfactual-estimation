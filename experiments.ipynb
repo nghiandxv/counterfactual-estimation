{
 "cells": [
  {
   "cell_type": "code",
   "execution_count": 1,
   "metadata": {},
   "outputs": [],
   "source": [
    "%load_ext autoreload\n",
    "%autoreload 2\n",
    "\n",
    "from abc import ABC, abstractmethod\n",
    "from functools import partial\n",
    "from typing import Literal\n",
    "\n",
    "import einops as ei\n",
    "import jaxtyping as jty\n",
    "import matplotlib.pyplot as plt\n",
    "import numpy as np\n",
    "import polars as pl\n",
    "from beartype import beartype\n",
    "from IPython.display import display\n",
    "from sklearn import metrics\n",
    "\n",
    "from src.utils.misc import dataclass, tqdm\n",
    "\n",
    "typed = partial(jty.jaxtyped, typechecker=beartype)"
   ]
  },
  {
   "cell_type": "code",
   "execution_count": 2,
   "metadata": {},
   "outputs": [
    {
     "data": {
      "text/html": [
       "<div><style>\n",
       ".dataframe > thead > tr,\n",
       ".dataframe > tbody > tr {\n",
       "  text-align: right;\n",
       "  white-space: pre-wrap;\n",
       "}\n",
       "</style>\n",
       "<small>shape: (38, 39)</small><table border=\"1\" class=\"dataframe\"><thead><tr><th>state</th><th>1970</th><th>1971</th><th>1972</th><th>1973</th><th>1974</th><th>1975</th><th>1976</th><th>1977</th><th>1978</th><th>1979</th><th>1980</th><th>1981</th><th>1982</th><th>1983</th><th>1984</th><th>1985</th><th>1986</th><th>1987</th><th>1988</th><th>1989</th><th>1990</th><th>1991</th><th>1992</th><th>1993</th><th>1994</th><th>1995</th><th>1996</th><th>1997</th><th>1998</th><th>1999</th><th>2000</th><th>2001</th><th>2002</th><th>2003</th><th>2004</th><th>2005</th><th>2006</th><th>2007</th></tr><tr><td>str</td><td>f64</td><td>f64</td><td>f64</td><td>f64</td><td>f64</td><td>f64</td><td>f64</td><td>f64</td><td>f64</td><td>f64</td><td>f64</td><td>f64</td><td>f64</td><td>f64</td><td>f64</td><td>f64</td><td>f64</td><td>f64</td><td>f64</td><td>f64</td><td>f64</td><td>f64</td><td>f64</td><td>f64</td><td>f64</td><td>f64</td><td>f64</td><td>f64</td><td>f64</td><td>f64</td><td>f64</td><td>f64</td><td>f64</td><td>f64</td><td>f64</td><td>f64</td><td>f64</td><td>f64</td></tr></thead><tbody><tr><td>&quot;Alabama&quot;</td><td>9.678974</td><td>89.344445</td><td>0.174802</td><td>18.96</td><td>112.099998</td><td>123.199997</td><td>111.699997</td><td>89.800003</td><td>95.400002</td><td>101.099998</td><td>102.900002</td><td>108.199997</td><td>111.699997</td><td>116.199997</td><td>117.099998</td><td>123.0</td><td>121.400002</td><td>123.199997</td><td>119.599998</td><td>119.099998</td><td>116.300003</td><td>113.0</td><td>114.5</td><td>116.300003</td><td>114.0</td><td>112.099998</td><td>105.599998</td><td>108.599998</td><td>107.900002</td><td>109.099998</td><td>108.5</td><td>107.099998</td><td>102.599998</td><td>101.400002</td><td>104.900002</td><td>106.199997</td><td>100.699997</td><td>96.199997</td></tr><tr><td>&quot;Arkansas&quot;</td><td>9.643623</td><td>89.877777</td><td>0.164611</td><td>18.52</td><td>121.5</td><td>131.800003</td><td>114.800003</td><td>100.300003</td><td>104.099998</td><td>103.900002</td><td>108.0</td><td>109.699997</td><td>114.800003</td><td>119.099998</td><td>122.599998</td><td>127.300003</td><td>126.5</td><td>131.800003</td><td>128.699997</td><td>127.400002</td><td>128.0</td><td>123.099998</td><td>125.800003</td><td>126.0</td><td>122.300003</td><td>121.5</td><td>118.300003</td><td>113.099998</td><td>116.800003</td><td>126.0</td><td>113.800003</td><td>108.800003</td><td>113.0</td><td>110.699997</td><td>108.699997</td><td>109.5</td><td>104.800003</td><td>99.400002</td></tr><tr><td>&quot;Colorado&quot;</td><td>9.984357</td><td>82.622222</td><td>0.173703</td><td>25.08</td><td>94.599998</td><td>131.0</td><td>131.0</td><td>124.800003</td><td>125.5</td><td>134.300003</td><td>137.899994</td><td>132.800003</td><td>131.0</td><td>134.199997</td><td>132.0</td><td>129.199997</td><td>131.5</td><td>131.0</td><td>133.800003</td><td>130.5</td><td>125.300003</td><td>119.699997</td><td>112.400002</td><td>109.900002</td><td>102.400002</td><td>94.599998</td><td>88.800003</td><td>87.400002</td><td>90.199997</td><td>88.300003</td><td>88.599998</td><td>89.099998</td><td>85.400002</td><td>83.099998</td><td>81.300003</td><td>81.199997</td><td>79.599998</td><td>73.0</td></tr><tr><td>&quot;Connecticut&quot;</td><td>10.188035</td><td>103.477776</td><td>0.16366</td><td>20.7</td><td>104.800003</td><td>118.0</td><td>110.199997</td><td>120.0</td><td>117.599998</td><td>110.800003</td><td>109.300003</td><td>112.400002</td><td>110.199997</td><td>113.400002</td><td>117.300003</td><td>117.5</td><td>117.400002</td><td>118.0</td><td>116.400002</td><td>114.699997</td><td>114.099998</td><td>112.5</td><td>111.0</td><td>108.5</td><td>109.0</td><td>104.800003</td><td>100.599998</td><td>91.5</td><td>86.699997</td><td>83.5</td><td>79.099998</td><td>76.599998</td><td>79.300003</td><td>76.0</td><td>75.900002</td><td>75.5</td><td>73.400002</td><td>71.400002</td></tr><tr><td>&quot;Delaware&quot;</td><td>9.974561</td><td>90.055555</td><td>0.178224</td><td>26.08</td><td>137.100006</td><td>150.5</td><td>147.600006</td><td>155.0</td><td>161.100006</td><td>156.300003</td><td>154.699997</td><td>151.300003</td><td>147.600006</td><td>153.0</td><td>153.300003</td><td>155.5</td><td>150.199997</td><td>150.5</td><td>152.600006</td><td>154.100006</td><td>149.600006</td><td>144.0</td><td>144.5</td><td>142.399994</td><td>141.0</td><td>137.100006</td><td>131.699997</td><td>127.199997</td><td>118.800003</td><td>120.0</td><td>123.800003</td><td>126.099998</td><td>127.199997</td><td>128.300003</td><td>124.099998</td><td>132.800003</td><td>139.5</td><td>140.699997</td></tr><tr><td>&hellip;</td><td>&hellip;</td><td>&hellip;</td><td>&hellip;</td><td>&hellip;</td><td>&hellip;</td><td>&hellip;</td><td>&hellip;</td><td>&hellip;</td><td>&hellip;</td><td>&hellip;</td><td>&hellip;</td><td>&hellip;</td><td>&hellip;</td><td>&hellip;</td><td>&hellip;</td><td>&hellip;</td><td>&hellip;</td><td>&hellip;</td><td>&hellip;</td><td>&hellip;</td><td>&hellip;</td><td>&hellip;</td><td>&hellip;</td><td>&hellip;</td><td>&hellip;</td><td>&hellip;</td><td>&hellip;</td><td>&hellip;</td><td>&hellip;</td><td>&hellip;</td><td>&hellip;</td><td>&hellip;</td><td>&hellip;</td><td>&hellip;</td><td>&hellip;</td><td>&hellip;</td><td>&hellip;</td><td>&hellip;</td></tr><tr><td>&quot;Vermont&quot;</td><td>9.821149</td><td>88.022223</td><td>0.177342</td><td>27.06</td><td>128.699997</td><td>161.600006</td><td>155.5</td><td>122.599998</td><td>124.400002</td><td>138.0</td><td>146.800003</td><td>151.800003</td><td>155.5</td><td>171.100006</td><td>169.399994</td><td>162.399994</td><td>160.899994</td><td>161.600006</td><td>163.800003</td><td>162.300003</td><td>153.800003</td><td>144.300003</td><td>144.5</td><td>131.199997</td><td>128.300003</td><td>128.699997</td><td>120.900002</td><td>124.300003</td><td>120.900002</td><td>126.5</td><td>117.199997</td><td>120.300003</td><td>123.199997</td><td>102.5</td><td>97.699997</td><td>97.0</td><td>94.099998</td><td>88.900002</td></tr><tr><td>&quot;Virginia&quot;</td><td>9.957433</td><td>74.788889</td><td>0.177403</td><td>23.0</td><td>129.5</td><td>148.899994</td><td>152.699997</td><td>124.300003</td><td>128.399994</td><td>137.0</td><td>143.100006</td><td>149.600006</td><td>152.699997</td><td>158.100006</td><td>157.699997</td><td>155.899994</td><td>151.800003</td><td>148.899994</td><td>149.899994</td><td>147.399994</td><td>144.699997</td><td>136.800003</td><td>134.600006</td><td>135.800003</td><td>133.0</td><td>129.5</td><td>122.5</td><td>118.900002</td><td>109.099998</td><td>108.199997</td><td>105.400002</td><td>106.199997</td><td>106.699997</td><td>104.599998</td><td>108.0</td><td>105.599998</td><td>102.099998</td><td>96.699997</td></tr><tr><td>&quot;West Virginia&quot;</td><td>9.654764</td><td>92.588888</td><td>0.164831</td><td>19.8</td><td>109.099998</td><td>122.300003</td><td>123.199997</td><td>114.5</td><td>111.5</td><td>117.5</td><td>116.599998</td><td>119.900002</td><td>123.199997</td><td>129.699997</td><td>133.899994</td><td>131.600006</td><td>122.099998</td><td>122.300003</td><td>120.5</td><td>119.800003</td><td>115.699997</td><td>111.900002</td><td>109.099998</td><td>112.099998</td><td>107.5</td><td>109.099998</td><td>104.0</td><td>104.099998</td><td>100.099998</td><td>97.900002</td><td>111.0</td><td>104.199997</td><td>115.199997</td><td>112.699997</td><td>114.5</td><td>114.599998</td><td>112.400002</td><td>107.900002</td></tr><tr><td>&quot;Wisconsin&quot;</td><td>9.882994</td><td>95.155558</td><td>0.174546</td><td>32.04</td><td>102.599998</td><td>117.599998</td><td>113.5</td><td>106.400002</td><td>105.400002</td><td>108.800003</td><td>109.5</td><td>111.800003</td><td>113.5</td><td>115.400002</td><td>117.199997</td><td>116.699997</td><td>117.099998</td><td>117.599998</td><td>119.900002</td><td>115.599998</td><td>106.300003</td><td>105.599998</td><td>107.0</td><td>105.400002</td><td>106.0</td><td>102.599998</td><td>100.300003</td><td>94.0</td><td>95.5</td><td>96.199997</td><td>91.199997</td><td>91.800003</td><td>93.5</td><td>92.099998</td><td>91.900002</td><td>88.699997</td><td>84.400002</td><td>80.099998</td></tr><tr><td>&quot;Wyoming&quot;</td><td>9.913661</td><td>81.0</td><td>0.174207</td><td>24.98</td><td>114.300003</td><td>158.100006</td><td>160.699997</td><td>132.199997</td><td>131.699997</td><td>140.0</td><td>141.199997</td><td>145.800003</td><td>160.699997</td><td>161.5</td><td>160.399994</td><td>160.300003</td><td>168.600006</td><td>158.100006</td><td>163.100006</td><td>157.699997</td><td>141.199997</td><td>128.899994</td><td>125.699997</td><td>124.800003</td><td>110.400002</td><td>114.300003</td><td>111.400002</td><td>96.900002</td><td>109.099998</td><td>110.800003</td><td>108.400002</td><td>111.199997</td><td>115.0</td><td>110.300003</td><td>108.800003</td><td>102.900002</td><td>104.800003</td><td>90.5</td></tr></tbody></table></div>"
      ],
      "text/plain": [
       "shape: (38, 39)\n",
       "┌───────────┬───────────┬───────────┬──────────┬───┬───────────┬───────────┬───────────┬───────────┐\n",
       "│ state     ┆ 1970      ┆ 1971      ┆ 1972     ┆ … ┆ 2004      ┆ 2005      ┆ 2006      ┆ 2007      │\n",
       "│ ---       ┆ ---       ┆ ---       ┆ ---      ┆   ┆ ---       ┆ ---       ┆ ---       ┆ ---       │\n",
       "│ str       ┆ f64       ┆ f64       ┆ f64      ┆   ┆ f64       ┆ f64       ┆ f64       ┆ f64       │\n",
       "╞═══════════╪═══════════╪═══════════╪══════════╪═══╪═══════════╪═══════════╪═══════════╪═══════════╡\n",
       "│ Alabama   ┆ 9.678974  ┆ 89.344445 ┆ 0.174802 ┆ … ┆ 104.90000 ┆ 106.19999 ┆ 100.69999 ┆ 96.199997 │\n",
       "│           ┆           ┆           ┆          ┆   ┆ 2         ┆ 7         ┆ 7         ┆           │\n",
       "│ Arkansas  ┆ 9.643623  ┆ 89.877777 ┆ 0.164611 ┆ … ┆ 108.69999 ┆ 109.5     ┆ 104.80000 ┆ 99.400002 │\n",
       "│           ┆           ┆           ┆          ┆   ┆ 7         ┆           ┆ 3         ┆           │\n",
       "│ Colorado  ┆ 9.984357  ┆ 82.622222 ┆ 0.173703 ┆ … ┆ 81.300003 ┆ 81.199997 ┆ 79.599998 ┆ 73.0      │\n",
       "│ Connectic ┆ 10.188035 ┆ 103.47777 ┆ 0.16366  ┆ … ┆ 75.900002 ┆ 75.5      ┆ 73.400002 ┆ 71.400002 │\n",
       "│ ut        ┆           ┆ 6         ┆          ┆   ┆           ┆           ┆           ┆           │\n",
       "│ Delaware  ┆ 9.974561  ┆ 90.055555 ┆ 0.178224 ┆ … ┆ 124.09999 ┆ 132.80000 ┆ 139.5     ┆ 140.69999 │\n",
       "│           ┆           ┆           ┆          ┆   ┆ 8         ┆ 3         ┆           ┆ 7         │\n",
       "│ …         ┆ …         ┆ …         ┆ …        ┆ … ┆ …         ┆ …         ┆ …         ┆ …         │\n",
       "│ Vermont   ┆ 9.821149  ┆ 88.022223 ┆ 0.177342 ┆ … ┆ 97.699997 ┆ 97.0      ┆ 94.099998 ┆ 88.900002 │\n",
       "│ Virginia  ┆ 9.957433  ┆ 74.788889 ┆ 0.177403 ┆ … ┆ 108.0     ┆ 105.59999 ┆ 102.09999 ┆ 96.699997 │\n",
       "│           ┆           ┆           ┆          ┆   ┆           ┆ 8         ┆ 8         ┆           │\n",
       "│ West      ┆ 9.654764  ┆ 92.588888 ┆ 0.164831 ┆ … ┆ 114.5     ┆ 114.59999 ┆ 112.40000 ┆ 107.90000 │\n",
       "│ Virginia  ┆           ┆           ┆          ┆   ┆           ┆ 8         ┆ 2         ┆ 2         │\n",
       "│ Wisconsin ┆ 9.882994  ┆ 95.155558 ┆ 0.174546 ┆ … ┆ 91.900002 ┆ 88.699997 ┆ 84.400002 ┆ 80.099998 │\n",
       "│ Wyoming   ┆ 9.913661  ┆ 81.0      ┆ 0.174207 ┆ … ┆ 108.80000 ┆ 102.90000 ┆ 104.80000 ┆ 90.5      │\n",
       "│           ┆           ┆           ┆          ┆   ┆ 3         ┆ 2         ┆ 3         ┆           │\n",
       "└───────────┴───────────┴───────────┴──────────┴───┴───────────┴───────────┴───────────┴───────────┘"
      ]
     },
     "metadata": {},
     "output_type": "display_data"
    },
    {
     "data": {
      "text/plain": [
       "array([[  9.67897362,  89.34444512,   0.1748019 , ..., 106.1999969 ,\n",
       "        100.6999969 ,  96.19999695],\n",
       "       [  9.64362325,  89.8777771 ,   0.16461137, ..., 109.5       ,\n",
       "        104.8000031 ,  99.40000153],\n",
       "       [  9.9843572 ,  82.62222205,   0.17370325, ...,  81.19999695,\n",
       "         79.59999847,  73.        ],\n",
       "       ...,\n",
       "       [  9.65476354,  92.58888753,   0.16483051, ..., 114.5999985 ,\n",
       "        112.4000015 , 107.9000015 ],\n",
       "       [  9.88299359,  95.15555784,   0.17454639, ...,  88.69999695,\n",
       "         84.40000153,  80.09999847],\n",
       "       [  9.91366111,  81.00000042,   0.17420705, ..., 102.9000015 ,\n",
       "        104.8000031 ,  90.5       ]], shape=(38, 38))"
      ]
     },
     "metadata": {},
     "output_type": "display_data"
    }
   ],
   "source": [
    "prop99_df = pl.read_csv('data/california_prop_99.txt', separator='\\t')\n",
    "prop99_df = prop99_df.rename(\n",
    "    mapping={\n",
    "        '1': 'Alabama',\n",
    "        '2': 'Arkansas',\n",
    "        '3': 'California',\n",
    "        '4': 'Colorado',\n",
    "        '5': 'Connecticut',\n",
    "        '6': 'Delaware',\n",
    "        '7': 'Georgia',\n",
    "        '8': 'Idaho',\n",
    "        '9': 'Illinois',\n",
    "        '10': 'Indiana',\n",
    "        '11': 'Iowa',\n",
    "        '12': 'Kansas',\n",
    "        '13': 'Kentucky',\n",
    "        '14': 'Louisiana',\n",
    "        '15': 'Maine',\n",
    "        '16': 'Minnesota',\n",
    "        '17': 'Mississippi',\n",
    "        '18': 'Missouri',\n",
    "        '19': 'Montana',\n",
    "        '20': 'Nebraska',\n",
    "        '21': 'Nevada',\n",
    "        '22': 'New Hampshire',\n",
    "        '23': 'New Mexico',\n",
    "        '24': 'North Carolina',\n",
    "        '25': 'North Dakota',\n",
    "        '26': 'Ohio',\n",
    "        '27': 'Oklahoma',\n",
    "        '28': 'Pennsylvania',\n",
    "        '29': 'Rhode Island',\n",
    "        '30': 'South Carolina',\n",
    "        '31': 'South Dakota',\n",
    "        '32': 'Tennessee',\n",
    "        '33': 'Texas',\n",
    "        '34': 'Utah',\n",
    "        '35': 'Vermont',\n",
    "        '36': 'Virginia',\n",
    "        '37': 'West Virginia',\n",
    "        '38': 'Wisconsin',\n",
    "        '39': 'Wyoming',\n",
    "    },\n",
    ")\n",
    "prop99_df = prop99_df.drop('California')  # [7:]\n",
    "\n",
    "prop99_df = prop99_df.with_row_index(name='year', offset=1970)\n",
    "prop99_df = prop99_df.cast(dtypes={'year': str})\n",
    "prop99_df = prop99_df.transpose(include_header=True, header_name='state', column_names='year')\n",
    "display(prop99_df)\n",
    "\n",
    "prop99_data = prop99_df[:, 1:].to_numpy()\n",
    "display(prop99_data)"
   ]
  },
  {
   "cell_type": "code",
   "execution_count": 3,
   "metadata": {},
   "outputs": [
    {
     "data": {
      "text/plain": [
       "masked_array(\n",
       "  data=[[1.0, 2.0, 3.0, 4.0, 5.0, 6.0],\n",
       "        [2.0, 3.0, 4.0, 5.0, 6.0, 7.0],\n",
       "        [3.0, 4.0, 5.0, 6.0, 7.0, 8.0],\n",
       "        [4.0, 5.0, 6.0, 7.0, 8.0, 9.0],\n",
       "        [5.0, 6.0, 7.0, --, --, --],\n",
       "        [6.0, 7.0, 8.0, --, --, --],\n",
       "        [7.0, 8.0, 9.0, 10.0, 11.0, 12.0]],\n",
       "  mask=[[False, False, False, False, False, False],\n",
       "        [False, False, False, False, False, False],\n",
       "        [False, False, False, False, False, False],\n",
       "        [False, False, False, False, False, False],\n",
       "        [False, False, False,  True,  True,  True],\n",
       "        [False, False, False,  True,  True,  True],\n",
       "        [False, False, False, False, False, False]],\n",
       "  fill_value=1e+20)"
      ]
     },
     "execution_count": 3,
     "metadata": {},
     "output_type": "execute_result"
    }
   ],
   "source": [
    "@typed\n",
    "def simulate_treatment(\n",
    "    data: jty.Float[np.ndarray, 'N T'],\n",
    "    treatment_time_idx: int,\n",
    "    num_treated_units: int,\n",
    "    treatment_type: Literal['simultaneous', 'staggered'],\n",
    "    seed: int = 0,\n",
    ") -> jty.Float[np.ma.masked_array, 'N T']:\n",
    "    dim_N, dim_T = data.shape\n",
    "    rng = np.random.default_rng(seed=seed)\n",
    "    treated_unit_idxs = rng.choice(np.arange(dim_N), size=num_treated_units, replace=False)\n",
    "    treatment_mask = np.zeros_like(data, dtype=int)\n",
    "\n",
    "    match treatment_type:\n",
    "        case 'simultaneous':\n",
    "            treatment_mask[treated_unit_idxs, treatment_time_idx:] = 1\n",
    "        case 'staggered':\n",
    "            staggered_treatment_time_idxs = rng.choice(\n",
    "                np.arange(treatment_time_idx, dim_T), size=num_treated_units\n",
    "            )\n",
    "            for unit_idx, time_idx in zip(treated_unit_idxs, staggered_treatment_time_idxs):\n",
    "                treatment_mask[unit_idx, time_idx:] = 1\n",
    "\n",
    "    return np.ma.masked_array(data, mask=treatment_mask.astype(bool))\n",
    "\n",
    "\n",
    "fake_data = np.asarray(\n",
    "    [\n",
    "        [1, 2, 3, 4, 5, 6],\n",
    "        [2, 3, 4, 5, 6, 7],\n",
    "        [3, 4, 5, 6, 7, 8],\n",
    "        [4, 5, 6, 7, 8, 9],\n",
    "        [5, 6, 7, 8, 9, 10],\n",
    "        [6, 7, 8, 9, 10, 11],\n",
    "        [7, 8, 9, 10, 11, 12.0],\n",
    "    ],\n",
    "    dtype=float,\n",
    ")\n",
    "\n",
    "data = fake_data\n",
    "masked_data = simulate_treatment(\n",
    "    data=data,\n",
    "    treatment_time_idx=3,\n",
    "    num_treated_units=2,\n",
    "    treatment_type='simultaneous',\n",
    "    seed=0,\n",
    ")\n",
    "\n",
    "# data = prop99_data\n",
    "# masked_data = simulate_treatment(\n",
    "#     data=data,\n",
    "#     treatment_time_idx=15,\n",
    "#     num_treated_units=1,\n",
    "#     treatment_type='simultaneous',\n",
    "#     seed=0\n",
    "# )\n",
    "\n",
    "masked_data"
   ]
  },
  {
   "cell_type": "code",
   "execution_count": 4,
   "metadata": {},
   "outputs": [
    {
     "data": {
      "application/vnd.jupyter.widget-view+json": {
       "model_id": "10c08ac40ed540d688662f54d327b500",
       "version_major": 2,
       "version_minor": 0
      },
      "text/plain": [
       "Iterative optimization:   0%|          | 0/100 [00:00<?, ?it/s]"
      ]
     },
     "metadata": {},
     "output_type": "display_data"
    },
    {
     "name": "stdout",
     "output_type": "stream",
     "text": [
      "[[1.0 2.0 3.0 4.0 5.0 6.0]\n",
      " [2.0 3.0 4.0 5.0 6.0 7.0]\n",
      " [3.0 4.0 5.0 6.0 7.0 8.0]\n",
      " [4.0 5.0 6.0 7.0 8.0 9.0]\n",
      " [5.0 6.0 7.0 8.0 9.0 10.0]\n",
      " [6.0 7.0 8.0 9.0 10.0 11.0]\n",
      " [7.0 8.0 9.0 10.0 11.0 12.0]]\n",
      "0.0\n"
     ]
    }
   ],
   "source": [
    "@dataclass\n",
    "class BaseOutput:\n",
    "    imputed_data: jty.Float[np.ndarray, 'N T']\n",
    "\n",
    "\n",
    "@typed\n",
    "class BaseImputer(ABC):\n",
    "    @abstractmethod\n",
    "    def impute(self, data: jty.Float[np.ma.masked_array, 'N T']) -> BaseOutput:\n",
    "        pass\n",
    "\n",
    "\n",
    "@typed\n",
    "def threshold_singular_value(\n",
    "    inputs: jty.Float[np.ndarray, 'N T'], threshold: float\n",
    ") -> jty.Float[np.ndarray, 'N T']:\n",
    "    mat_U, vec_S, mat_Vt = np.linalg.svd(inputs, full_matrices=False)\n",
    "    vec_S_hat = (vec_S - threshold).clip(min=0.0)\n",
    "    return mat_U @ np.diag(vec_S_hat) @ mat_Vt\n",
    "\n",
    "\n",
    "@typed\n",
    "def transpose(\n",
    "    inputs: jty.Float[np.ndarray, 'A B'] | jty.Float[np.ndarray, 'A'],\n",
    "):\n",
    "    match inputs.shape:\n",
    "        case (_, _):\n",
    "            return ei.rearrange(inputs, 'A B -> B A')\n",
    "        case (_,):\n",
    "            return ei.rearrange(inputs, 'A -> 1 A')\n",
    "        case _:\n",
    "            raise ValueError\n",
    "    return inputs\n",
    "\n",
    "\n",
    "class MCNNMOutput(BaseOutput):\n",
    "    covariates: jty.Float[np.ndarray, 'N T']\n",
    "    time_fixed_effects: jty.Float[np.ndarray, 'T']\n",
    "    unit_fixed_effects: jty.Float[np.ndarray, 'N']\n",
    "\n",
    "\n",
    "@typed\n",
    "class MCNNM(BaseImputer):\n",
    "    def __init__(\n",
    "        self,\n",
    "        shrinkage_threshold: float,\n",
    "        num_iters: int,\n",
    "    ):\n",
    "        self.shrinkage_threshold = shrinkage_threshold\n",
    "        self.num_iters = num_iters\n",
    "\n",
    "    def _compute_tfe(\n",
    "        self,\n",
    "        mat_Y_masked: jty.Float[np.ma.masked_array, 'N T'],\n",
    "        mat_L: jty.Float[np.ndarray, 'N T'],\n",
    "        vec_gamma: jty.Float[np.ndarray, 'N T'],\n",
    "    ):\n",
    "        _, dim_T = mat_Y_masked.shape\n",
    "\n",
    "        mat_tfe = mat_Y_masked - mat_L - ei.repeat(vec_gamma, 'N -> N T', T=dim_T)\n",
    "        # np.ma.mask_array automatically ignore missing values\n",
    "        return ei.reduce(mat_tfe, 'N T -> T', np.mean)\n",
    "\n",
    "    def _compute_ufe(\n",
    "        self,\n",
    "        mat_Y_masked: jty.Float[np.ma.masked_array, 'N T'],\n",
    "        mat_L: jty.Float[np.ndarray, 'N T'],\n",
    "        vec_delta: jty.Float[np.ndarray, 'T'],\n",
    "    ):\n",
    "        dim_N, _ = mat_Y_masked.shape\n",
    "\n",
    "        mat_ufe = mat_Y_masked - mat_L - ei.repeat(vec_delta, 'T -> N T', N=dim_N)\n",
    "        # np.ma.mask_array automatically ignore missing values\n",
    "        return ei.reduce(mat_ufe, 'N T -> N', np.mean)\n",
    "\n",
    "    def _compute_Y(\n",
    "        self,\n",
    "        mat_L: jty.Float[np.ndarray, 'N T'],\n",
    "        vec_delta: jty.Float[np.ndarray, 'T'],\n",
    "        vec_gamma: jty.Float[np.ndarray, 'N'],\n",
    "    ):\n",
    "        dim_N, dim_T = mat_L.shape\n",
    "        return (\n",
    "            mat_L\n",
    "            + ei.repeat(vec_delta, 'T -> N T', N=dim_N)\n",
    "            + ei.repeat(vec_gamma, 'N -> N T', T=dim_T)\n",
    "        )\n",
    "\n",
    "    def impute(self, data: jty.Float[np.ma.masked_array, 'N T']) -> jty.Float[np.ndarray, 'N T']:\n",
    "        dim_N, dim_T = data.shape\n",
    "\n",
    "        mat_Y_masked = data\n",
    "        vec_delta = np.zeros(dim_T)\n",
    "        vec_gamma = np.zeros(dim_N)\n",
    "        mat_L = np.zeros((dim_N, dim_T))\n",
    "\n",
    "        for _ in tqdm(range(self.num_iters), desc='Iterative optimization'):\n",
    "            vec_gamma = self._compute_ufe(mat_Y_masked, mat_L, vec_delta)\n",
    "            vec_delta = self._compute_tfe(mat_Y_masked, mat_L, vec_gamma)\n",
    "\n",
    "            mat_Y = self._compute_Y(mat_L, vec_delta, vec_gamma)\n",
    "\n",
    "            mat_L = threshold_singular_value(\n",
    "                # fill missing value with 0\n",
    "                inputs=(mat_Y_masked - mat_Y).filled(0) + mat_L,\n",
    "                threshold=self.shrinkage_threshold * mat_Y_masked.count() / 2,\n",
    "            )\n",
    "\n",
    "        mat_Y = self._compute_Y(mat_L, vec_delta, vec_gamma)\n",
    "\n",
    "        return MCNNMOutput(\n",
    "            imputed_data=mat_Y,\n",
    "            covariates=mat_L,\n",
    "            time_fixed_effects=vec_delta,\n",
    "            unit_fixed_effects=vec_gamma,\n",
    "        )\n",
    "\n",
    "\n",
    "mcnnm = MCNNM(\n",
    "    shrinkage_threshold=0.005,\n",
    "    num_iters=100,\n",
    ")\n",
    "mcnnm_output = mcnnm.impute(masked_data)\n",
    "print(mcnnm_output.imputed_data)\n",
    "print(metrics.root_mean_squared_error(data, mcnnm_output.imputed_data))"
   ]
  },
  {
   "cell_type": "code",
   "execution_count": 5,
   "metadata": {},
   "outputs": [
    {
     "data": {
      "application/vnd.jupyter.widget-view+json": {
       "model_id": "03d8d51b5c7640d28b3a6249c843bea4",
       "version_major": 2,
       "version_minor": 0
      },
      "text/plain": [
       "Computing synthetic controls:   0%|          | 0/2 [00:00<?, ?it/s]"
      ]
     },
     "metadata": {},
     "output_type": "display_data"
    },
    {
     "name": "stdout",
     "output_type": "stream",
     "text": [
      "[[ 1.          2.          3.          4.          5.          6.        ]\n",
      " [ 2.          3.          4.          5.          6.          7.        ]\n",
      " [ 3.          4.          5.          6.          7.          8.        ]\n",
      " [ 4.          5.          6.          7.          8.          9.        ]\n",
      " [ 5.          6.          7.          8.00001069  9.0000173  10.0000239 ]\n",
      " [ 6.          7.          8.          9.00002987 10.00004685 11.00006384]\n",
      " [ 7.          8.          9.         10.         11.         12.        ]]\n",
      "9.439351897423904e-06\n"
     ]
    }
   ],
   "source": [
    "@dataclass\n",
    "class EOpROutput(BaseOutput):\n",
    "    covariance: jty.Float[np.ndarray, 'T T']\n",
    "    representation: jty.Float[np.ndarray, 'T T']\n",
    "    error_bound: jty.Float[np.ndarray, 'N T']\n",
    "\n",
    "\n",
    "@typed\n",
    "class EOpR(BaseImputer):\n",
    "    def __init__(self, reg_coef: float):\n",
    "        self.reg_coef = reg_coef\n",
    "        self.state = None\n",
    "\n",
    "    def _compute_idxs(self, data: jty.Float[np.ma.masked_array, 'N T']):\n",
    "        mask_counts = np.ma.count_masked(data, axis=1)\n",
    "        treated_idxs = (mask_counts != 0).nonzero()[0]\n",
    "        control_idxs = (mask_counts == 0).nonzero()[0]\n",
    "        return treated_idxs, control_idxs\n",
    "\n",
    "    def impute(self, data: jty.Float[np.ma.masked_array, 'N T']) -> jty.Float[np.ndarray, 'N T']:\n",
    "        _, dim_T = data.shape\n",
    "\n",
    "        treated_idxs, control_idxs = self._compute_idxs(data)\n",
    "\n",
    "        mat_S = data[control_idxs].filled(0)\n",
    "        mat_Sigma = transpose(mat_S) @ mat_S + np.identity(dim_T) * self.reg_coef\n",
    "        mat_Q = np.linalg.pinv(mat_Sigma)\n",
    "\n",
    "        mat_Phi = mat_Sigma.T @ mat_Q @ mat_Sigma\n",
    "        # We can similarly have\n",
    "        # mat_Phi[:t0, :t0] = transpose(mat_Sigma[:, :t0]) @ mat_Q @ mat_Sigma[:, :t0]\n",
    "        # Therefore, doing this, we only have to compute it once\n",
    "\n",
    "        all_vec_s = []\n",
    "        all_vec_delta = []\n",
    "\n",
    "        # Simplest approach, compute separate synthetic control for each treated unit\n",
    "        # May have some drawbacks, improve later\n",
    "        for treated_idx in tqdm(treated_idxs, 'Computing synthetic controls'):\n",
    "            vec_s_masked = data[treated_idx]\n",
    "            t0 = vec_s_masked.mask.nonzero()[0][0]\n",
    "            vec_s_pre = vec_s_masked[:t0].filled(0)\n",
    "\n",
    "            mat_Phi_inv = np.linalg.inv(mat_Phi[:t0, :t0])\n",
    "            vec_w = mat_Phi_inv @ vec_s_pre\n",
    "            vec_s = mat_Sigma[:, :t0] @ vec_w\n",
    "            all_vec_s.append(vec_s)\n",
    "\n",
    "            # It is still unclear how to compute the error bound\n",
    "            # The current error bound implementation is more of a direct translation of original code\n",
    "            # May still have some error since it was pretty difficult to read\n",
    "            # ERROR BOUND ====\n",
    "            mat_C = mat_Phi_inv @ mat_Phi[:t0, :]\n",
    "            mat_Y = mat_Sigma - mat_Sigma[:, :t0] @ mat_C\n",
    "\n",
    "            vec_y = np.where(\n",
    "                np.diag(mat_Y) > 0.001,\n",
    "                np.diag(mat_Y) / np.sqrt(np.diag(transpose(mat_Y) @ mat_Q @ mat_Y)),\n",
    "                np.diag(mat_Y),\n",
    "            )\n",
    "            vec_delta = np.sqrt(np.abs(1e-5 - transpose(vec_s) @ mat_Q @ vec_s)) * vec_y\n",
    "            all_vec_delta.append(vec_delta)\n",
    "            # END ERROR BOUND ===\n",
    "\n",
    "        imputed_data = data.filled(0)\n",
    "        imputed_data[treated_idxs] = ei.pack(all_vec_s, '* T')[0]\n",
    "\n",
    "        error_bound = np.zeros_like(imputed_data)\n",
    "        error_bound[treated_idxs] = ei.pack(all_vec_delta, '* T')[0]\n",
    "        return EOpROutput(\n",
    "            imputed_data=imputed_data,\n",
    "            covariance=mat_Sigma,\n",
    "            representation=mat_Phi,\n",
    "            error_bound=error_bound,\n",
    "        )\n",
    "\n",
    "\n",
    "eopr_output = EOpR(reg_coef=1e-4).impute(masked_data)\n",
    "print(eopr_output.imputed_data)\n",
    "print(metrics.root_mean_squared_error(data, eopr_output.imputed_data))"
   ]
  },
  {
   "cell_type": "code",
   "execution_count": 6,
   "metadata": {},
   "outputs": [
    {
     "data": {
      "application/vnd.jupyter.widget-view+json": {
       "model_id": "6fc800ac40b74ef3ad98a2626eb0405f",
       "version_major": 2,
       "version_minor": 0
      },
      "text/plain": [
       "Simulating patients:   0%|          | 0/1 [00:00<?, ?it/s]"
      ]
     },
     "metadata": {},
     "output_type": "display_data"
    },
    {
     "data": {
      "application/vnd.jupyter.widget-view+json": {
       "model_id": "1c4d24425a64491bbb1279eff85e6a92",
       "version_major": 2,
       "version_minor": 0
      },
      "text/plain": [
       "Simulating patients:   0%|          | 0/1 [00:00<?, ?it/s]"
      ]
     },
     "metadata": {},
     "output_type": "display_data"
    },
    {
     "data": {
      "application/vnd.jupyter.widget-view+json": {
       "model_id": "7b21f283918749e9ac3003e2050c1752",
       "version_major": 2,
       "version_minor": 0
      },
      "text/plain": [
       "Simulating patients:   0%|          | 0/1 [00:00<?, ?it/s]"
      ]
     },
     "metadata": {},
     "output_type": "display_data"
    },
    {
     "data": {
      "application/vnd.jupyter.widget-view+json": {
       "model_id": "e9cbd0501645467da365682f287995f2",
       "version_major": 2,
       "version_minor": 0
      },
      "text/plain": [
       "Simulating patients:   0%|          | 0/1 [00:00<?, ?it/s]"
      ]
     },
     "metadata": {},
     "output_type": "display_data"
    },
    {
     "data": {
      "application/vnd.jupyter.widget-view+json": {
       "model_id": "9777483229c44d1ca2863937ff9e5cd2",
       "version_major": 2,
       "version_minor": 0
      },
      "text/plain": [
       "Simulating patients:   0%|          | 0/1 [00:00<?, ?it/s]"
      ]
     },
     "metadata": {},
     "output_type": "display_data"
    },
    {
     "data": {
      "application/vnd.jupyter.widget-view+json": {
       "model_id": "1461cf9764b548409819b6486e4859ae",
       "version_major": 2,
       "version_minor": 0
      },
      "text/plain": [
       "Simulating patients:   0%|          | 0/1 [00:00<?, ?it/s]"
      ]
     },
     "metadata": {},
     "output_type": "display_data"
    },
    {
     "data": {
      "application/vnd.jupyter.widget-view+json": {
       "model_id": "4f3cb7e1431c470b818227f636b0d29f",
       "version_major": 2,
       "version_minor": 0
      },
      "text/plain": [
       "Simulating patients:   0%|          | 0/1 [00:00<?, ?it/s]"
      ]
     },
     "metadata": {},
     "output_type": "display_data"
    },
    {
     "data": {
      "image/png": "[encoded data removed]",
      "text/plain": [
       "<Figure size 640x480 with 1 Axes>"
      ]
     },
     "metadata": {},
     "output_type": "display_data"
    }
   ],
   "source": [
    "from src.simulations.non_small_lung_cancer import (\n",
    "    DoNothingPlan,\n",
    "    plot_results,\n",
    "    run_simulation,\n",
    ")\n",
    "\n",
    "num_time_steps = 20\n",
    "num_patients = 10\n",
    "num_treated_units = 10\n",
    "\n",
    "patient_profiles = []\n",
    "results = []\n",
    "\n",
    "for idx, mask in enumerate(masked_data.mask):\n",
    "    (patient_params,), (result,) = run_simulation(\n",
    "        num_patients=1,\n",
    "        num_time_steps=num_time_steps,\n",
    "        treatment_plan=DoNothingPlan(),\n",
    "        seed=idx,\n",
    "    )\n",
    "    patient_profiles.append(patient_params)\n",
    "    results.append(result)\n",
    "\n",
    "cancer_data = ei.pack(\n",
    "    [np.asarray(result.tumor_model.state.volumes) for result in results],\n",
    "    '* t',\n",
    ")[0]\n",
    "plot_results(results=results)"
   ]
  },
  {
   "cell_type": "code",
   "execution_count": 9,
   "metadata": {},
   "outputs": [
    {
     "data": {
      "application/vnd.jupyter.widget-view+json": {
       "model_id": "326f8d4cb7b9454d8c6c5bdb1b1ff836",
       "version_major": 2,
       "version_minor": 0
      },
      "text/plain": [
       "  0%|          | 0/4 [00:00<?, ?it/s]"
      ]
     },
     "metadata": {},
     "output_type": "display_data"
    },
    {
     "data": {
      "application/vnd.jupyter.widget-view+json": {
       "model_id": "0834de81aab24d3b8018fc27a3869693",
       "version_major": 2,
       "version_minor": 0
      },
      "text/plain": [
       "  0%|          | 0/33 [00:00<?, ?it/s]"
      ]
     },
     "metadata": {},
     "output_type": "display_data"
    },
    {
     "data": {
      "application/vnd.jupyter.widget-view+json": {
       "model_id": "9c0832d603974f9a91d8dbf87f32931a",
       "version_major": 2,
       "version_minor": 0
      },
      "text/plain": [
       "Iterative optimization:   0%|          | 0/200 [00:00<?, ?it/s]"
      ]
     },
     "metadata": {},
     "output_type": "display_data"
    },
    {
     "data": {
      "application/vnd.jupyter.widget-view+json": {
       "model_id": "f15a90aad3d04faab9dcdc2328e43ef3",
       "version_major": 2,
       "version_minor": 0
      },
      "text/plain": [
       "Iterative optimization:   0%|          | 0/200 [00:00<?, ?it/s]"
      ]
     },
     "metadata": {},
     "output_type": "display_data"
    },
    {
     "data": {
      "application/vnd.jupyter.widget-view+json": {
       "model_id": "17f510b344e44cdda5783a5cc0710429",
       "version_major": 2,
       "version_minor": 0
      },
      "text/plain": [
       "Iterative optimization:   0%|          | 0/200 [00:00<?, ?it/s]"
      ]
     },
     "metadata": {},
     "output_type": "display_data"
    },
    {
     "data": {
      "application/vnd.jupyter.widget-view+json": {
       "model_id": "d311878922d54e1f9288ce4be9a04cb2",
       "version_major": 2,
       "version_minor": 0
      },
      "text/plain": [
       "Iterative optimization:   0%|          | 0/200 [00:00<?, ?it/s]"
      ]
     },
     "metadata": {},
     "output_type": "display_data"
    },
    {
     "data": {
      "application/vnd.jupyter.widget-view+json": {
       "model_id": "6709613f638b449494ba4b1a0efe8bd2",
       "version_major": 2,
       "version_minor": 0
      },
      "text/plain": [
       "Iterative optimization:   0%|          | 0/200 [00:00<?, ?it/s]"
      ]
     },
     "metadata": {},
     "output_type": "display_data"
    },
    {
     "data": {
      "application/vnd.jupyter.widget-view+json": {
       "model_id": "38c3003e067a4b5886ea331b8459f09d",
       "version_major": 2,
       "version_minor": 0
      },
      "text/plain": [
       "Iterative optimization:   0%|          | 0/200 [00:00<?, ?it/s]"
      ]
     },
     "metadata": {},
     "output_type": "display_data"
    },
    {
     "data": {
      "application/vnd.jupyter.widget-view+json": {
       "model_id": "19b74b10741d4702bc4543265004dba3",
       "version_major": 2,
       "version_minor": 0
      },
      "text/plain": [
       "Computing synthetic controls:   0%|          | 0/5 [00:00<?, ?it/s]"
      ]
     },
     "metadata": {},
     "output_type": "display_data"
    },
    {
     "data": {
      "application/vnd.jupyter.widget-view+json": {
       "model_id": "ffe124230cd84a3d90f36928d1be1c13",
       "version_major": 2,
       "version_minor": 0
      },
      "text/plain": [
       "Iterative optimization:   0%|          | 0/200 [00:00<?, ?it/s]"
      ]
     },
     "metadata": {},
     "output_type": "display_data"
    },
    {
     "data": {
      "application/vnd.jupyter.widget-view+json": {
       "model_id": "00dc76641d5a4de095ab80312ff6625d",
       "version_major": 2,
       "version_minor": 0
      },
      "text/plain": [
       "Iterative optimization:   0%|          | 0/200 [00:00<?, ?it/s]"
      ]
     },
     "metadata": {},
     "output_type": "display_data"
    },
    {
     "data": {
      "application/vnd.jupyter.widget-view+json": {
       "model_id": "489c573c55d7465684997c74759ce78d",
       "version_major": 2,
       "version_minor": 0
      },
      "text/plain": [
       "Iterative optimization:   0%|          | 0/200 [00:00<?, ?it/s]"
      ]
     },
     "metadata": {},
     "output_type": "display_data"
    },
    {
     "data": {
      "application/vnd.jupyter.widget-view+json": {
       "model_id": "6e5edf7f8a5a427aab9784211eff7f96",
       "version_major": 2,
       "version_minor": 0
      },
      "text/plain": [
       "Iterative optimization:   0%|          | 0/200 [00:00<?, ?it/s]"
      ]
     },
     "metadata": {},
     "output_type": "display_data"
    },
    {
     "data": {
      "application/vnd.jupyter.widget-view+json": {
       "model_id": "5fe3625da2c04bc194f1b0c4850fab51",
       "version_major": 2,
       "version_minor": 0
      },
      "text/plain": [
       "Iterative optimization:   0%|          | 0/200 [00:00<?, ?it/s]"
      ]
     },
     "metadata": {},
     "output_type": "display_data"
    },
    {
     "data": {
      "application/vnd.jupyter.widget-view+json": {
       "model_id": "1f40ff7946f444c691e7442024049663",
       "version_major": 2,
       "version_minor": 0
      },
      "text/plain": [
       "Iterative optimization:   0%|          | 0/200 [00:00<?, ?it/s]"
      ]
     },
     "metadata": {},
     "output_type": "display_data"
    },
    {
     "data": {
      "application/vnd.jupyter.widget-view+json": {
       "model_id": "cffaf9792521416a99ce42f9b0d3de17",
       "version_major": 2,
       "version_minor": 0
      },
      "text/plain": [
       "Computing synthetic controls:   0%|          | 0/5 [00:00<?, ?it/s]"
      ]
     },
     "metadata": {},
     "output_type": "display_data"
    },
    {
     "data": {
      "application/vnd.jupyter.widget-view+json": {
       "model_id": "045247589b574224b9ddd22d41a2ba2b",
       "version_major": 2,
       "version_minor": 0
      },
      "text/plain": [
       "Iterative optimization:   0%|          | 0/200 [00:00<?, ?it/s]"
      ]
     },
     "metadata": {},
     "output_type": "display_data"
    },
    {
     "data": {
      "application/vnd.jupyter.widget-view+json": {
       "model_id": "8360caed5e0a4cd9b2adad83e0078bff",
       "version_major": 2,
       "version_minor": 0
      },
      "text/plain": [
       "Iterative optimization:   0%|          | 0/200 [00:00<?, ?it/s]"
      ]
     },
     "metadata": {},
     "output_type": "display_data"
    },
    {
     "data": {
      "application/vnd.jupyter.widget-view+json": {
       "model_id": "94179cbbeb1a4c248bb92dd701be0612",
       "version_major": 2,
       "version_minor": 0
      },
      "text/plain": [
       "Iterative optimization:   0%|          | 0/200 [00:00<?, ?it/s]"
      ]
     },
     "metadata": {},
     "output_type": "display_data"
    },
    {
     "data": {
      "application/vnd.jupyter.widget-view+json": {
       "model_id": "8fd218a830ef46eea93f5890a73a550e",
       "version_major": 2,
       "version_minor": 0
      },
      "text/plain": [
       "Iterative optimization:   0%|          | 0/200 [00:00<?, ?it/s]"
      ]
     },
     "metadata": {},
     "output_type": "display_data"
    },
    {
     "data": {
      "application/vnd.jupyter.widget-view+json": {
       "model_id": "5e48c5094cb44e3d812340861c791bad",
       "version_major": 2,
       "version_minor": 0
      },
      "text/plain": [
       "Iterative optimization:   0%|          | 0/200 [00:00<?, ?it/s]"
      ]
     },
     "metadata": {},
     "output_type": "display_data"
    },
    {
     "data": {
      "application/vnd.jupyter.widget-view+json": {
       "model_id": "928b6a1840ec4aeb9511e7dbd0f46477",
       "version_major": 2,
       "version_minor": 0
      },
      "text/plain": [
       "Iterative optimization:   0%|          | 0/200 [00:00<?, ?it/s]"
      ]
     },
     "metadata": {},
     "output_type": "display_data"
    },
    {
     "data": {
      "application/vnd.jupyter.widget-view+json": {
       "model_id": "3a8a92a168cf474ab022c17a5f20b690",
       "version_major": 2,
       "version_minor": 0
      },
      "text/plain": [
       "Computing synthetic controls:   0%|          | 0/5 [00:00<?, ?it/s]"
      ]
     },
     "metadata": {},
     "output_type": "display_data"
    },
    {
     "data": {
      "application/vnd.jupyter.widget-view+json": {
       "model_id": "da559538fd4141f8a04ec10d41aef1cf",
       "version_major": 2,
       "version_minor": 0
      },
      "text/plain": [
       "Iterative optimization:   0%|          | 0/200 [00:00<?, ?it/s]"
      ]
     },
     "metadata": {},
     "output_type": "display_data"
    },
    {
     "data": {
      "application/vnd.jupyter.widget-view+json": {
       "model_id": "d486b8eb64014b33b0398a013c33f65f",
       "version_major": 2,
       "version_minor": 0
      },
      "text/plain": [
       "Iterative optimization:   0%|          | 0/200 [00:00<?, ?it/s]"
      ]
     },
     "metadata": {},
     "output_type": "display_data"
    },
    {
     "data": {
      "application/vnd.jupyter.widget-view+json": {
       "model_id": "c2315aa4447149d0b4baab7ec2374c11",
       "version_major": 2,
       "version_minor": 0
      },
      "text/plain": [
       "Iterative optimization:   0%|          | 0/200 [00:00<?, ?it/s]"
      ]
     },
     "metadata": {},
     "output_type": "display_data"
    },
    {
     "data": {
      "application/vnd.jupyter.widget-view+json": {
       "model_id": "beb7e589ef61482d9cc1d6cb2b2a2187",
       "version_major": 2,
       "version_minor": 0
      },
      "text/plain": [
       "Iterative optimization:   0%|          | 0/200 [00:00<?, ?it/s]"
      ]
     },
     "metadata": {},
     "output_type": "display_data"
    },
    {
     "data": {
      "application/vnd.jupyter.widget-view+json": {
       "model_id": "23eb94c2de03405485a71a6f991ac1ea",
       "version_major": 2,
       "version_minor": 0
      },
      "text/plain": [
       "Iterative optimization:   0%|          | 0/200 [00:00<?, ?it/s]"
      ]
     },
     "metadata": {},
     "output_type": "display_data"
    },
    {
     "data": {
      "application/vnd.jupyter.widget-view+json": {
       "model_id": "55469248acb14fdcb1f14b1d7ab4c01d",
       "version_major": 2,
       "version_minor": 0
      },
      "text/plain": [
       "Iterative optimization:   0%|          | 0/200 [00:00<?, ?it/s]"
      ]
     },
     "metadata": {},
     "output_type": "display_data"
    },
    {
     "data": {
      "application/vnd.jupyter.widget-view+json": {
       "model_id": "f784e5bd24a74260a9edfef688df9d01",
       "version_major": 2,
       "version_minor": 0
      },
      "text/plain": [
       "Computing synthetic controls:   0%|          | 0/5 [00:00<?, ?it/s]"
      ]
     },
     "metadata": {},
     "output_type": "display_data"
    },
    {
     "data": {
      "application/vnd.jupyter.widget-view+json": {
       "model_id": "ec0c7548574d4b7294ca4fd35fbfb430",
       "version_major": 2,
       "version_minor": 0
      },
      "text/plain": [
       "Iterative optimization:   0%|          | 0/200 [00:00<?, ?it/s]"
      ]
     },
     "metadata": {},
     "output_type": "display_data"
    },
    {
     "data": {
      "application/vnd.jupyter.widget-view+json": {
       "model_id": "e25b85d6f029451a971293322f1613de",
       "version_major": 2,
       "version_minor": 0
      },
      "text/plain": [
       "Iterative optimization:   0%|          | 0/200 [00:00<?, ?it/s]"
      ]
     },
     "metadata": {},
     "output_type": "display_data"
    },
    {
     "data": {
      "application/vnd.jupyter.widget-view+json": {
       "model_id": "774987fe505f40e780b15e26a17450ad",
       "version_major": 2,
       "version_minor": 0
      },
      "text/plain": [
       "Iterative optimization:   0%|          | 0/200 [00:00<?, ?it/s]"
      ]
     },
     "metadata": {},
     "output_type": "display_data"
    },
    {
     "data": {
      "application/vnd.jupyter.widget-view+json": {
       "model_id": "cef3e93ab448435ab938b2e2d7b873b0",
       "version_major": 2,
       "version_minor": 0
      },
      "text/plain": [
       "Iterative optimization:   0%|          | 0/200 [00:00<?, ?it/s]"
      ]
     },
     "metadata": {},
     "output_type": "display_data"
    },
    {
     "data": {
      "application/vnd.jupyter.widget-view+json": {
       "model_id": "949e8b977159464cabbe917107b85217",
       "version_major": 2,
       "version_minor": 0
      },
      "text/plain": [
       "Iterative optimization:   0%|          | 0/200 [00:00<?, ?it/s]"
      ]
     },
     "metadata": {},
     "output_type": "display_data"
    },
    {
     "data": {
      "application/vnd.jupyter.widget-view+json": {
       "model_id": "117b1e521f6e49d19a826287359a7c5d",
       "version_major": 2,
       "version_minor": 0
      },
      "text/plain": [
       "Iterative optimization:   0%|          | 0/200 [00:00<?, ?it/s]"
      ]
     },
     "metadata": {},
     "output_type": "display_data"
    },
    {
     "data": {
      "application/vnd.jupyter.widget-view+json": {
       "model_id": "90b69d7eadd84c428db66d621489cfe7",
       "version_major": 2,
       "version_minor": 0
      },
      "text/plain": [
       "Computing synthetic controls:   0%|          | 0/5 [00:00<?, ?it/s]"
      ]
     },
     "metadata": {},
     "output_type": "display_data"
    },
    {
     "data": {
      "application/vnd.jupyter.widget-view+json": {
       "model_id": "3ac54f472f784f5ebf06f0a85b5973f5",
       "version_major": 2,
       "version_minor": 0
      },
      "text/plain": [
       "Iterative optimization:   0%|          | 0/200 [00:00<?, ?it/s]"
      ]
     },
     "metadata": {},
     "output_type": "display_data"
    },
    {
     "data": {
      "application/vnd.jupyter.widget-view+json": {
       "model_id": "819b7b966bdc49b3b7ff59c911de58a3",
       "version_major": 2,
       "version_minor": 0
      },
      "text/plain": [
       "Iterative optimization:   0%|          | 0/200 [00:00<?, ?it/s]"
      ]
     },
     "metadata": {},
     "output_type": "display_data"
    },
    {
     "data": {
      "application/vnd.jupyter.widget-view+json": {
       "model_id": "25c4e23f70fc4e01a1e10f9925d93a0e",
       "version_major": 2,
       "version_minor": 0
      },
      "text/plain": [
       "Iterative optimization:   0%|          | 0/200 [00:00<?, ?it/s]"
      ]
     },
     "metadata": {},
     "output_type": "display_data"
    },
    {
     "data": {
      "application/vnd.jupyter.widget-view+json": {
       "model_id": "2026d1ba4c2c483fa4de5e4b494b974d",
       "version_major": 2,
       "version_minor": 0
      },
      "text/plain": [
       "Iterative optimization:   0%|          | 0/200 [00:00<?, ?it/s]"
      ]
     },
     "metadata": {},
     "output_type": "display_data"
    },
    {
     "data": {
      "application/vnd.jupyter.widget-view+json": {
       "model_id": "8974a3e6b85e4843899c8fa85d4de089",
       "version_major": 2,
       "version_minor": 0
      },
      "text/plain": [
       "Iterative optimization:   0%|          | 0/200 [00:00<?, ?it/s]"
      ]
     },
     "metadata": {},
     "output_type": "display_data"
    },
    {
     "data": {
      "application/vnd.jupyter.widget-view+json": {
       "model_id": "3edb3b45e08b43f982b70f33851f6f99",
       "version_major": 2,
       "version_minor": 0
      },
      "text/plain": [
       "Iterative optimization:   0%|          | 0/200 [00:00<?, ?it/s]"
      ]
     },
     "metadata": {},
     "output_type": "display_data"
    },
    {
     "data": {
      "application/vnd.jupyter.widget-view+json": {
       "model_id": "2951138444844b3ca920a544c8022b72",
       "version_major": 2,
       "version_minor": 0
      },
      "text/plain": [
       "Computing synthetic controls:   0%|          | 0/5 [00:00<?, ?it/s]"
      ]
     },
     "metadata": {},
     "output_type": "display_data"
    },
    {
     "data": {
      "application/vnd.jupyter.widget-view+json": {
       "model_id": "a06f02dea7614fbaba604c9b59ae9332",
       "version_major": 2,
       "version_minor": 0
      },
      "text/plain": [
       "Iterative optimization:   0%|          | 0/200 [00:00<?, ?it/s]"
      ]
     },
     "metadata": {},
     "output_type": "display_data"
    },
    {
     "data": {
      "application/vnd.jupyter.widget-view+json": {
       "model_id": "9e0dd4142c97487f8e3275fcaca6764a",
       "version_major": 2,
       "version_minor": 0
      },
      "text/plain": [
       "Iterative optimization:   0%|          | 0/200 [00:00<?, ?it/s]"
      ]
     },
     "metadata": {},
     "output_type": "display_data"
    },
    {
     "data": {
      "application/vnd.jupyter.widget-view+json": {
       "model_id": "5a490b4982af475f8863ddd292cd4b80",
       "version_major": 2,
       "version_minor": 0
      },
      "text/plain": [
       "Iterative optimization:   0%|          | 0/200 [00:00<?, ?it/s]"
      ]
     },
     "metadata": {},
     "output_type": "display_data"
    },
    {
     "data": {
      "application/vnd.jupyter.widget-view+json": {
       "model_id": "fd1b8c100b2e43cfb1e885de88e59dcc",
       "version_major": 2,
       "version_minor": 0
      },
      "text/plain": [
       "Iterative optimization:   0%|          | 0/200 [00:00<?, ?it/s]"
      ]
     },
     "metadata": {},
     "output_type": "display_data"
    },
    {
     "data": {
      "application/vnd.jupyter.widget-view+json": {
       "model_id": "16c12eee35e24114bf1cd028f308c99b",
       "version_major": 2,
       "version_minor": 0
      },
      "text/plain": [
       "Iterative optimization:   0%|          | 0/200 [00:00<?, ?it/s]"
      ]
     },
     "metadata": {},
     "output_type": "display_data"
    },
    {
     "data": {
      "application/vnd.jupyter.widget-view+json": {
       "model_id": "8051ee2c0e104f778b379fcc702b6968",
       "version_major": 2,
       "version_minor": 0
      },
      "text/plain": [
       "Iterative optimization:   0%|          | 0/200 [00:00<?, ?it/s]"
      ]
     },
     "metadata": {},
     "output_type": "display_data"
    },
    {
     "data": {
      "application/vnd.jupyter.widget-view+json": {
       "model_id": "0286ee294d86421d97ca922946e6d3ea",
       "version_major": 2,
       "version_minor": 0
      },
      "text/plain": [
       "Computing synthetic controls:   0%|          | 0/5 [00:00<?, ?it/s]"
      ]
     },
     "metadata": {},
     "output_type": "display_data"
    },
    {
     "data": {
      "application/vnd.jupyter.widget-view+json": {
       "model_id": "96abf317a9714d77af38bfce322d5f12",
       "version_major": 2,
       "version_minor": 0
      },
      "text/plain": [
       "Iterative optimization:   0%|          | 0/200 [00:00<?, ?it/s]"
      ]
     },
     "metadata": {},
     "output_type": "display_data"
    },
    {
     "data": {
      "application/vnd.jupyter.widget-view+json": {
       "model_id": "77f0726377b74e608bc0e52100393643",
       "version_major": 2,
       "version_minor": 0
      },
      "text/plain": [
       "Iterative optimization:   0%|          | 0/200 [00:00<?, ?it/s]"
      ]
     },
     "metadata": {},
     "output_type": "display_data"
    },
    {
     "data": {
      "application/vnd.jupyter.widget-view+json": {
       "model_id": "033d59a7092f4b30805ac546e1abcec4",
       "version_major": 2,
       "version_minor": 0
      },
      "text/plain": [
       "Iterative optimization:   0%|          | 0/200 [00:00<?, ?it/s]"
      ]
     },
     "metadata": {},
     "output_type": "display_data"
    },
    {
     "data": {
      "application/vnd.jupyter.widget-view+json": {
       "model_id": "8ad01c7bb866484aafc248d07f03e75e",
       "version_major": 2,
       "version_minor": 0
      },
      "text/plain": [
       "Iterative optimization:   0%|          | 0/200 [00:00<?, ?it/s]"
      ]
     },
     "metadata": {},
     "output_type": "display_data"
    },
    {
     "data": {
      "application/vnd.jupyter.widget-view+json": {
       "model_id": "ad0d3ec72a084740b6b052ca1440098a",
       "version_major": 2,
       "version_minor": 0
      },
      "text/plain": [
       "Iterative optimization:   0%|          | 0/200 [00:00<?, ?it/s]"
      ]
     },
     "metadata": {},
     "output_type": "display_data"
    },
    {
     "data": {
      "application/vnd.jupyter.widget-view+json": {
       "model_id": "56430466aca24ed294c203e0e8598aea",
       "version_major": 2,
       "version_minor": 0
      },
      "text/plain": [
       "Iterative optimization:   0%|          | 0/200 [00:00<?, ?it/s]"
      ]
     },
     "metadata": {},
     "output_type": "display_data"
    },
    {
     "data": {
      "application/vnd.jupyter.widget-view+json": {
       "model_id": "e621cedf4fb44ee89d8cd1693fd323d5",
       "version_major": 2,
       "version_minor": 0
      },
      "text/plain": [
       "Computing synthetic controls:   0%|          | 0/5 [00:00<?, ?it/s]"
      ]
     },
     "metadata": {},
     "output_type": "display_data"
    },
    {
     "data": {
      "application/vnd.jupyter.widget-view+json": {
       "model_id": "3149f737e3614e94aae692e7113925de",
       "version_major": 2,
       "version_minor": 0
      },
      "text/plain": [
       "Iterative optimization:   0%|          | 0/200 [00:00<?, ?it/s]"
      ]
     },
     "metadata": {},
     "output_type": "display_data"
    },
    {
     "data": {
      "application/vnd.jupyter.widget-view+json": {
       "model_id": "cedb6e7f701b4c90a9183b9860d180e9",
       "version_major": 2,
       "version_minor": 0
      },
      "text/plain": [
       "Iterative optimization:   0%|          | 0/200 [00:00<?, ?it/s]"
      ]
     },
     "metadata": {},
     "output_type": "display_data"
    },
    {
     "data": {
      "application/vnd.jupyter.widget-view+json": {
       "model_id": "3c949f31b88e4f0fa99b7ed29036aaca",
       "version_major": 2,
       "version_minor": 0
      },
      "text/plain": [
       "Iterative optimization:   0%|          | 0/200 [00:00<?, ?it/s]"
      ]
     },
     "metadata": {},
     "output_type": "display_data"
    },
    {
     "data": {
      "application/vnd.jupyter.widget-view+json": {
       "model_id": "feb5d0e9257845fa9b89c8e91de80c9c",
       "version_major": 2,
       "version_minor": 0
      },
      "text/plain": [
       "Iterative optimization:   0%|          | 0/200 [00:00<?, ?it/s]"
      ]
     },
     "metadata": {},
     "output_type": "display_data"
    },
    {
     "data": {
      "application/vnd.jupyter.widget-view+json": {
       "model_id": "f8c6f0ac2a044ebc9eaef4c8c183715e",
       "version_major": 2,
       "version_minor": 0
      },
      "text/plain": [
       "Iterative optimization:   0%|          | 0/200 [00:00<?, ?it/s]"
      ]
     },
     "metadata": {},
     "output_type": "display_data"
    },
    {
     "data": {
      "application/vnd.jupyter.widget-view+json": {
       "model_id": "14e84a8a39014e15bc947315bd979947",
       "version_major": 2,
       "version_minor": 0
      },
      "text/plain": [
       "Iterative optimization:   0%|          | 0/200 [00:00<?, ?it/s]"
      ]
     },
     "metadata": {},
     "output_type": "display_data"
    },
    {
     "data": {
      "application/vnd.jupyter.widget-view+json": {
       "model_id": "ca7c55f4c336492c95b0c29bc76ec33b",
       "version_major": 2,
       "version_minor": 0
      },
      "text/plain": [
       "Computing synthetic controls:   0%|          | 0/5 [00:00<?, ?it/s]"
      ]
     },
     "metadata": {},
     "output_type": "display_data"
    },
    {
     "data": {
      "application/vnd.jupyter.widget-view+json": {
       "model_id": "56f868e6c25a4a57a071132571e3eb5e",
       "version_major": 2,
       "version_minor": 0
      },
      "text/plain": [
       "Iterative optimization:   0%|          | 0/200 [00:00<?, ?it/s]"
      ]
     },
     "metadata": {},
     "output_type": "display_data"
    },
    {
     "data": {
      "application/vnd.jupyter.widget-view+json": {
       "model_id": "b063e85a52d94dd0b161887ddd483622",
       "version_major": 2,
       "version_minor": 0
      },
      "text/plain": [
       "Iterative optimization:   0%|          | 0/200 [00:00<?, ?it/s]"
      ]
     },
     "metadata": {},
     "output_type": "display_data"
    },
    {
     "data": {
      "application/vnd.jupyter.widget-view+json": {
       "model_id": "c4dbc2815d9c4e07abda47c573015d72",
       "version_major": 2,
       "version_minor": 0
      },
      "text/plain": [
       "Iterative optimization:   0%|          | 0/200 [00:00<?, ?it/s]"
      ]
     },
     "metadata": {},
     "output_type": "display_data"
    },
    {
     "data": {
      "application/vnd.jupyter.widget-view+json": {
       "model_id": "1307b0819a9c48caae61950b2fb2eebd",
       "version_major": 2,
       "version_minor": 0
      },
      "text/plain": [
       "Iterative optimization:   0%|          | 0/200 [00:00<?, ?it/s]"
      ]
     },
     "metadata": {},
     "output_type": "display_data"
    },
    {
     "data": {
      "application/vnd.jupyter.widget-view+json": {
       "model_id": "2607dc32495749a3a847b9404d949ebd",
       "version_major": 2,
       "version_minor": 0
      },
      "text/plain": [
       "Iterative optimization:   0%|          | 0/200 [00:00<?, ?it/s]"
      ]
     },
     "metadata": {},
     "output_type": "display_data"
    },
    {
     "data": {
      "application/vnd.jupyter.widget-view+json": {
       "model_id": "9fbb5933fd1042c7b017fe794e95ea53",
       "version_major": 2,
       "version_minor": 0
      },
      "text/plain": [
       "Iterative optimization:   0%|          | 0/200 [00:00<?, ?it/s]"
      ]
     },
     "metadata": {},
     "output_type": "display_data"
    },
    {
     "data": {
      "application/vnd.jupyter.widget-view+json": {
       "model_id": "87a8eb33e7ba4eef803c861b6db572ff",
       "version_major": 2,
       "version_minor": 0
      },
      "text/plain": [
       "Computing synthetic controls:   0%|          | 0/5 [00:00<?, ?it/s]"
      ]
     },
     "metadata": {},
     "output_type": "display_data"
    },
    {
     "data": {
      "application/vnd.jupyter.widget-view+json": {
       "model_id": "495d40ff97c14daf96b06cee2b1e4bfd",
       "version_major": 2,
       "version_minor": 0
      },
      "text/plain": [
       "Iterative optimization:   0%|          | 0/200 [00:00<?, ?it/s]"
      ]
     },
     "metadata": {},
     "output_type": "display_data"
    },
    {
     "data": {
      "application/vnd.jupyter.widget-view+json": {
       "model_id": "13dfc28b44c74df6b43ca94d8af5f46b",
       "version_major": 2,
       "version_minor": 0
      },
      "text/plain": [
       "Iterative optimization:   0%|          | 0/200 [00:00<?, ?it/s]"
      ]
     },
     "metadata": {},
     "output_type": "display_data"
    },
    {
     "data": {
      "application/vnd.jupyter.widget-view+json": {
       "model_id": "5bc7b008138c443589b32cfc2ee851e9",
       "version_major": 2,
       "version_minor": 0
      },
      "text/plain": [
       "Iterative optimization:   0%|          | 0/200 [00:00<?, ?it/s]"
      ]
     },
     "metadata": {},
     "output_type": "display_data"
    },
    {
     "data": {
      "application/vnd.jupyter.widget-view+json": {
       "model_id": "742e780461844e39b443c91c74d54860",
       "version_major": 2,
       "version_minor": 0
      },
      "text/plain": [
       "Iterative optimization:   0%|          | 0/200 [00:00<?, ?it/s]"
      ]
     },
     "metadata": {},
     "output_type": "display_data"
    },
    {
     "data": {
      "application/vnd.jupyter.widget-view+json": {
       "model_id": "4a8ec8f3d9c943e1ad95f063d32e8add",
       "version_major": 2,
       "version_minor": 0
      },
      "text/plain": [
       "Iterative optimization:   0%|          | 0/200 [00:00<?, ?it/s]"
      ]
     },
     "metadata": {},
     "output_type": "display_data"
    },
    {
     "data": {
      "application/vnd.jupyter.widget-view+json": {
       "model_id": "aa2bd048098648689dd994fa06de6d23",
       "version_major": 2,
       "version_minor": 0
      },
      "text/plain": [
       "Iterative optimization:   0%|          | 0/200 [00:00<?, ?it/s]"
      ]
     },
     "metadata": {},
     "output_type": "display_data"
    },
    {
     "data": {
      "application/vnd.jupyter.widget-view+json": {
       "model_id": "4326d1fc2b404919a8e73130bab4d3f5",
       "version_major": 2,
       "version_minor": 0
      },
      "text/plain": [
       "Computing synthetic controls:   0%|          | 0/5 [00:00<?, ?it/s]"
      ]
     },
     "metadata": {},
     "output_type": "display_data"
    },
    {
     "data": {
      "application/vnd.jupyter.widget-view+json": {
       "model_id": "b50d71ae6cfe4a2baeec65f112824428",
       "version_major": 2,
       "version_minor": 0
      },
      "text/plain": [
       "Iterative optimization:   0%|          | 0/200 [00:00<?, ?it/s]"
      ]
     },
     "metadata": {},
     "output_type": "display_data"
    },
    {
     "data": {
      "application/vnd.jupyter.widget-view+json": {
       "model_id": "2930caa52db94f52947b509ec890c281",
       "version_major": 2,
       "version_minor": 0
      },
      "text/plain": [
       "Iterative optimization:   0%|          | 0/200 [00:00<?, ?it/s]"
      ]
     },
     "metadata": {},
     "output_type": "display_data"
    },
    {
     "data": {
      "application/vnd.jupyter.widget-view+json": {
       "model_id": "50b2517246374d3a92eed2cabe7b2234",
       "version_major": 2,
       "version_minor": 0
      },
      "text/plain": [
       "Iterative optimization:   0%|          | 0/200 [00:00<?, ?it/s]"
      ]
     },
     "metadata": {},
     "output_type": "display_data"
    },
    {
     "data": {
      "application/vnd.jupyter.widget-view+json": {
       "model_id": "2bd0c690b7d84064905e1d6008dd4bd2",
       "version_major": 2,
       "version_minor": 0
      },
      "text/plain": [
       "Iterative optimization:   0%|          | 0/200 [00:00<?, ?it/s]"
      ]
     },
     "metadata": {},
     "output_type": "display_data"
    },
    {
     "data": {
      "application/vnd.jupyter.widget-view+json": {
       "model_id": "e00c449940bb4ef7b12005c1b160bf29",
       "version_major": 2,
       "version_minor": 0
      },
      "text/plain": [
       "Iterative optimization:   0%|          | 0/200 [00:00<?, ?it/s]"
      ]
     },
     "metadata": {},
     "output_type": "display_data"
    },
    {
     "data": {
      "application/vnd.jupyter.widget-view+json": {
       "model_id": "06236bef1cbd4c32857b9c7b94f3d124",
       "version_major": 2,
       "version_minor": 0
      },
      "text/plain": [
       "Iterative optimization:   0%|          | 0/200 [00:00<?, ?it/s]"
      ]
     },
     "metadata": {},
     "output_type": "display_data"
    },
    {
     "data": {
      "application/vnd.jupyter.widget-view+json": {
       "model_id": "592e8ddb22e54c57a03ec32ea4300b72",
       "version_major": 2,
       "version_minor": 0
      },
      "text/plain": [
       "Computing synthetic controls:   0%|          | 0/5 [00:00<?, ?it/s]"
      ]
     },
     "metadata": {},
     "output_type": "display_data"
    },
    {
     "data": {
      "application/vnd.jupyter.widget-view+json": {
       "model_id": "f035e64ee31d401389370c6c79bb734c",
       "version_major": 2,
       "version_minor": 0
      },
      "text/plain": [
       "Iterative optimization:   0%|          | 0/200 [00:00<?, ?it/s]"
      ]
     },
     "metadata": {},
     "output_type": "display_data"
    },
    {
     "data": {
      "application/vnd.jupyter.widget-view+json": {
       "model_id": "b02392bffdf848b392a3c0ef07ef2e80",
       "version_major": 2,
       "version_minor": 0
      },
      "text/plain": [
       "Iterative optimization:   0%|          | 0/200 [00:00<?, ?it/s]"
      ]
     },
     "metadata": {},
     "output_type": "display_data"
    },
    {
     "data": {
      "application/vnd.jupyter.widget-view+json": {
       "model_id": "b4ee5ba24cf046908abb7344780c630f",
       "version_major": 2,
       "version_minor": 0
      },
      "text/plain": [
       "Iterative optimization:   0%|          | 0/200 [00:00<?, ?it/s]"
      ]
     },
     "metadata": {},
     "output_type": "display_data"
    },
    {
     "data": {
      "application/vnd.jupyter.widget-view+json": {
       "model_id": "70a8e6756cad4186b0698b206fd0f04f",
       "version_major": 2,
       "version_minor": 0
      },
      "text/plain": [
       "Iterative optimization:   0%|          | 0/200 [00:00<?, ?it/s]"
      ]
     },
     "metadata": {},
     "output_type": "display_data"
    },
    {
     "data": {
      "application/vnd.jupyter.widget-view+json": {
       "model_id": "bf010e35625c4686a88d9119bc5fec29",
       "version_major": 2,
       "version_minor": 0
      },
      "text/plain": [
       "Iterative optimization:   0%|          | 0/200 [00:00<?, ?it/s]"
      ]
     },
     "metadata": {},
     "output_type": "display_data"
    },
    {
     "data": {
      "application/vnd.jupyter.widget-view+json": {
       "model_id": "fff0522a39fa4eef9b01863ab5e3bc01",
       "version_major": 2,
       "version_minor": 0
      },
      "text/plain": [
       "Iterative optimization:   0%|          | 0/200 [00:00<?, ?it/s]"
      ]
     },
     "metadata": {},
     "output_type": "display_data"
    },
    {
     "data": {
      "application/vnd.jupyter.widget-view+json": {
       "model_id": "dcbc742601f44e33b27e8ee5bf47b496",
       "version_major": 2,
       "version_minor": 0
      },
      "text/plain": [
       "Computing synthetic controls:   0%|          | 0/5 [00:00<?, ?it/s]"
      ]
     },
     "metadata": {},
     "output_type": "display_data"
    },
    {
     "data": {
      "application/vnd.jupyter.widget-view+json": {
       "model_id": "c1e172be4d814c38af22033ad29ecf43",
       "version_major": 2,
       "version_minor": 0
      },
      "text/plain": [
       "Iterative optimization:   0%|          | 0/200 [00:00<?, ?it/s]"
      ]
     },
     "metadata": {},
     "output_type": "display_data"
    },
    {
     "data": {
      "application/vnd.jupyter.widget-view+json": {
       "model_id": "6af10c33f4304b4aaf5267c2da4ee98c",
       "version_major": 2,
       "version_minor": 0
      },
      "text/plain": [
       "Iterative optimization:   0%|          | 0/200 [00:00<?, ?it/s]"
      ]
     },
     "metadata": {},
     "output_type": "display_data"
    },
    {
     "data": {
      "application/vnd.jupyter.widget-view+json": {
       "model_id": "f3b51b3bf9ca408e82d0ba9582a8bb44",
       "version_major": 2,
       "version_minor": 0
      },
      "text/plain": [
       "Iterative optimization:   0%|          | 0/200 [00:00<?, ?it/s]"
      ]
     },
     "metadata": {},
     "output_type": "display_data"
    },
    {
     "data": {
      "application/vnd.jupyter.widget-view+json": {
       "model_id": "0d92412e739747e8a72c70924c479a5d",
       "version_major": 2,
       "version_minor": 0
      },
      "text/plain": [
       "Iterative optimization:   0%|          | 0/200 [00:00<?, ?it/s]"
      ]
     },
     "metadata": {},
     "output_type": "display_data"
    },
    {
     "data": {
      "application/vnd.jupyter.widget-view+json": {
       "model_id": "1a08ab16c5bd4697b1d16bbd7071f705",
       "version_major": 2,
       "version_minor": 0
      },
      "text/plain": [
       "Iterative optimization:   0%|          | 0/200 [00:00<?, ?it/s]"
      ]
     },
     "metadata": {},
     "output_type": "display_data"
    },
    {
     "data": {
      "application/vnd.jupyter.widget-view+json": {
       "model_id": "9f851270257f47d982c7ae63fdf0d217",
       "version_major": 2,
       "version_minor": 0
      },
      "text/plain": [
       "Iterative optimization:   0%|          | 0/200 [00:00<?, ?it/s]"
      ]
     },
     "metadata": {},
     "output_type": "display_data"
    },
    {
     "data": {
      "application/vnd.jupyter.widget-view+json": {
       "model_id": "1b61c5da223a424a8cb52a2d937f42b3",
       "version_major": 2,
       "version_minor": 0
      },
      "text/plain": [
       "Computing synthetic controls:   0%|          | 0/5 [00:00<?, ?it/s]"
      ]
     },
     "metadata": {},
     "output_type": "display_data"
    },
    {
     "data": {
      "application/vnd.jupyter.widget-view+json": {
       "model_id": "d8e9b16fedd8446c8b9b9df4b281ccf1",
       "version_major": 2,
       "version_minor": 0
      },
      "text/plain": [
       "Iterative optimization:   0%|          | 0/200 [00:00<?, ?it/s]"
      ]
     },
     "metadata": {},
     "output_type": "display_data"
    },
    {
     "data": {
      "application/vnd.jupyter.widget-view+json": {
       "model_id": "1df23daeeefe43a2adcb56b4b8b54986",
       "version_major": 2,
       "version_minor": 0
      },
      "text/plain": [
       "Iterative optimization:   0%|          | 0/200 [00:00<?, ?it/s]"
      ]
     },
     "metadata": {},
     "output_type": "display_data"
    },
    {
     "data": {
      "application/vnd.jupyter.widget-view+json": {
       "model_id": "cfdd8b310fec499ab70e4b991af2dc1f",
       "version_major": 2,
       "version_minor": 0
      },
      "text/plain": [
       "Iterative optimization:   0%|          | 0/200 [00:00<?, ?it/s]"
      ]
     },
     "metadata": {},
     "output_type": "display_data"
    },
    {
     "data": {
      "application/vnd.jupyter.widget-view+json": {
       "model_id": "f3437d98c39442dcbe545064479ad7b5",
       "version_major": 2,
       "version_minor": 0
      },
      "text/plain": [
       "Iterative optimization:   0%|          | 0/200 [00:00<?, ?it/s]"
      ]
     },
     "metadata": {},
     "output_type": "display_data"
    },
    {
     "data": {
      "application/vnd.jupyter.widget-view+json": {
       "model_id": "8796bdd5e1374d8e93b0654022585e75",
       "version_major": 2,
       "version_minor": 0
      },
      "text/plain": [
       "Iterative optimization:   0%|          | 0/200 [00:00<?, ?it/s]"
      ]
     },
     "metadata": {},
     "output_type": "display_data"
    },
    {
     "data": {
      "application/vnd.jupyter.widget-view+json": {
       "model_id": "ea3c6b24e98145c3bf3de6e4091aabb8",
       "version_major": 2,
       "version_minor": 0
      },
      "text/plain": [
       "Iterative optimization:   0%|          | 0/200 [00:00<?, ?it/s]"
      ]
     },
     "metadata": {},
     "output_type": "display_data"
    },
    {
     "data": {
      "application/vnd.jupyter.widget-view+json": {
       "model_id": "4cca93d21cfb4f00a12ec80a752ddb6d",
       "version_major": 2,
       "version_minor": 0
      },
      "text/plain": [
       "Computing synthetic controls:   0%|          | 0/5 [00:00<?, ?it/s]"
      ]
     },
     "metadata": {},
     "output_type": "display_data"
    },
    {
     "data": {
      "application/vnd.jupyter.widget-view+json": {
       "model_id": "1a498e7c48584e0db392b72e5cdf75ea",
       "version_major": 2,
       "version_minor": 0
      },
      "text/plain": [
       "Iterative optimization:   0%|          | 0/200 [00:00<?, ?it/s]"
      ]
     },
     "metadata": {},
     "output_type": "display_data"
    },
    {
     "data": {
      "application/vnd.jupyter.widget-view+json": {
       "model_id": "8dfa3c46fe6440d8b393fd5f328bea29",
       "version_major": 2,
       "version_minor": 0
      },
      "text/plain": [
       "Iterative optimization:   0%|          | 0/200 [00:00<?, ?it/s]"
      ]
     },
     "metadata": {},
     "output_type": "display_data"
    },
    {
     "data": {
      "application/vnd.jupyter.widget-view+json": {
       "model_id": "780d1f0b0aa746fc995b851c6a4582aa",
       "version_major": 2,
       "version_minor": 0
      },
      "text/plain": [
       "Iterative optimization:   0%|          | 0/200 [00:00<?, ?it/s]"
      ]
     },
     "metadata": {},
     "output_type": "display_data"
    },
    {
     "data": {
      "application/vnd.jupyter.widget-view+json": {
       "model_id": "e1278cb09312477bae3fd2778ff013e8",
       "version_major": 2,
       "version_minor": 0
      },
      "text/plain": [
       "Iterative optimization:   0%|          | 0/200 [00:00<?, ?it/s]"
      ]
     },
     "metadata": {},
     "output_type": "display_data"
    },
    {
     "data": {
      "application/vnd.jupyter.widget-view+json": {
       "model_id": "883dec0ea6e542da8c1fd812804eea19",
       "version_major": 2,
       "version_minor": 0
      },
      "text/plain": [
       "Iterative optimization:   0%|          | 0/200 [00:00<?, ?it/s]"
      ]
     },
     "metadata": {},
     "output_type": "display_data"
    },
    {
     "data": {
      "application/vnd.jupyter.widget-view+json": {
       "model_id": "d8f8fa479f0943d8bedef3499a037f30",
       "version_major": 2,
       "version_minor": 0
      },
      "text/plain": [
       "Iterative optimization:   0%|          | 0/200 [00:00<?, ?it/s]"
      ]
     },
     "metadata": {},
     "output_type": "display_data"
    },
    {
     "data": {
      "application/vnd.jupyter.widget-view+json": {
       "model_id": "3314977478eb4f5c9d700a5dc11eae6a",
       "version_major": 2,
       "version_minor": 0
      },
      "text/plain": [
       "Computing synthetic controls:   0%|          | 0/5 [00:00<?, ?it/s]"
      ]
     },
     "metadata": {},
     "output_type": "display_data"
    },
    {
     "data": {
      "application/vnd.jupyter.widget-view+json": {
       "model_id": "0a51e2ed8a1d4436b13f7422b9a066a4",
       "version_major": 2,
       "version_minor": 0
      },
      "text/plain": [
       "Iterative optimization:   0%|          | 0/200 [00:00<?, ?it/s]"
      ]
     },
     "metadata": {},
     "output_type": "display_data"
    },
    {
     "data": {
      "application/vnd.jupyter.widget-view+json": {
       "model_id": "a349677486b049e788ecf092319a0685",
       "version_major": 2,
       "version_minor": 0
      },
      "text/plain": [
       "Iterative optimization:   0%|          | 0/200 [00:00<?, ?it/s]"
      ]
     },
     "metadata": {},
     "output_type": "display_data"
    },
    {
     "data": {
      "application/vnd.jupyter.widget-view+json": {
       "model_id": "b08cde3248e6495391b2e97df52c0f33",
       "version_major": 2,
       "version_minor": 0
      },
      "text/plain": [
       "Iterative optimization:   0%|          | 0/200 [00:00<?, ?it/s]"
      ]
     },
     "metadata": {},
     "output_type": "display_data"
    },
    {
     "data": {
      "application/vnd.jupyter.widget-view+json": {
       "model_id": "5ab7f7e26c3244e489277029dfc18ea6",
       "version_major": 2,
       "version_minor": 0
      },
      "text/plain": [
       "Iterative optimization:   0%|          | 0/200 [00:00<?, ?it/s]"
      ]
     },
     "metadata": {},
     "output_type": "display_data"
    },
    {
     "data": {
      "application/vnd.jupyter.widget-view+json": {
       "model_id": "faf1232315d040b6abab4d70e20f8bfe",
       "version_major": 2,
       "version_minor": 0
      },
      "text/plain": [
       "Iterative optimization:   0%|          | 0/200 [00:00<?, ?it/s]"
      ]
     },
     "metadata": {},
     "output_type": "display_data"
    },
    {
     "data": {
      "application/vnd.jupyter.widget-view+json": {
       "model_id": "e76a5bbfcd494171817107db52df52e7",
       "version_major": 2,
       "version_minor": 0
      },
      "text/plain": [
       "Iterative optimization:   0%|          | 0/200 [00:00<?, ?it/s]"
      ]
     },
     "metadata": {},
     "output_type": "display_data"
    },
    {
     "data": {
      "application/vnd.jupyter.widget-view+json": {
       "model_id": "88519bc3b2014438ba04f38fe736227a",
       "version_major": 2,
       "version_minor": 0
      },
      "text/plain": [
       "Computing synthetic controls:   0%|          | 0/5 [00:00<?, ?it/s]"
      ]
     },
     "metadata": {},
     "output_type": "display_data"
    },
    {
     "data": {
      "application/vnd.jupyter.widget-view+json": {
       "model_id": "eca2da8692414709ad18a8feeb321e28",
       "version_major": 2,
       "version_minor": 0
      },
      "text/plain": [
       "Iterative optimization:   0%|          | 0/200 [00:00<?, ?it/s]"
      ]
     },
     "metadata": {},
     "output_type": "display_data"
    },
    {
     "data": {
      "application/vnd.jupyter.widget-view+json": {
       "model_id": "cc610bdb2406489b873a1c931d15c3a1",
       "version_major": 2,
       "version_minor": 0
      },
      "text/plain": [
       "Iterative optimization:   0%|          | 0/200 [00:00<?, ?it/s]"
      ]
     },
     "metadata": {},
     "output_type": "display_data"
    },
    {
     "data": {
      "application/vnd.jupyter.widget-view+json": {
       "model_id": "f05673712d064f6298696e863f0a7fd2",
       "version_major": 2,
       "version_minor": 0
      },
      "text/plain": [
       "Iterative optimization:   0%|          | 0/200 [00:00<?, ?it/s]"
      ]
     },
     "metadata": {},
     "output_type": "display_data"
    },
    {
     "data": {
      "application/vnd.jupyter.widget-view+json": {
       "model_id": "f222b44b27ff45aba4d0bc71768ec672",
       "version_major": 2,
       "version_minor": 0
      },
      "text/plain": [
       "Iterative optimization:   0%|          | 0/200 [00:00<?, ?it/s]"
      ]
     },
     "metadata": {},
     "output_type": "display_data"
    },
    {
     "data": {
      "application/vnd.jupyter.widget-view+json": {
       "model_id": "57f9b071ecbe4e93b2742b72b61568fa",
       "version_major": 2,
       "version_minor": 0
      },
      "text/plain": [
       "Iterative optimization:   0%|          | 0/200 [00:00<?, ?it/s]"
      ]
     },
     "metadata": {},
     "output_type": "display_data"
    },
    {
     "data": {
      "application/vnd.jupyter.widget-view+json": {
       "model_id": "e671c9f3f0f9433a90fa579c0ff520b5",
       "version_major": 2,
       "version_minor": 0
      },
      "text/plain": [
       "Iterative optimization:   0%|          | 0/200 [00:00<?, ?it/s]"
      ]
     },
     "metadata": {},
     "output_type": "display_data"
    },
    {
     "data": {
      "application/vnd.jupyter.widget-view+json": {
       "model_id": "a0814adf9b224075b95a82041a636fd2",
       "version_major": 2,
       "version_minor": 0
      },
      "text/plain": [
       "Computing synthetic controls:   0%|          | 0/5 [00:00<?, ?it/s]"
      ]
     },
     "metadata": {},
     "output_type": "display_data"
    },
    {
     "data": {
      "application/vnd.jupyter.widget-view+json": {
       "model_id": "51181d725aa24ae58bd6e97ac36a5c33",
       "version_major": 2,
       "version_minor": 0
      },
      "text/plain": [
       "Iterative optimization:   0%|          | 0/200 [00:00<?, ?it/s]"
      ]
     },
     "metadata": {},
     "output_type": "display_data"
    },
    {
     "data": {
      "application/vnd.jupyter.widget-view+json": {
       "model_id": "9b68152f1c3740e1bc92991de1c9c565",
       "version_major": 2,
       "version_minor": 0
      },
      "text/plain": [
       "Iterative optimization:   0%|          | 0/200 [00:00<?, ?it/s]"
      ]
     },
     "metadata": {},
     "output_type": "display_data"
    },
    {
     "data": {
      "application/vnd.jupyter.widget-view+json": {
       "model_id": "165f3c6a66a64eb795d3c201fc1c4d52",
       "version_major": 2,
       "version_minor": 0
      },
      "text/plain": [
       "Iterative optimization:   0%|          | 0/200 [00:00<?, ?it/s]"
      ]
     },
     "metadata": {},
     "output_type": "display_data"
    },
    {
     "data": {
      "application/vnd.jupyter.widget-view+json": {
       "model_id": "41c5768163f74029adfbac5cd8857ed3",
       "version_major": 2,
       "version_minor": 0
      },
      "text/plain": [
       "Iterative optimization:   0%|          | 0/200 [00:00<?, ?it/s]"
      ]
     },
     "metadata": {},
     "output_type": "display_data"
    },
    {
     "data": {
      "application/vnd.jupyter.widget-view+json": {
       "model_id": "122adcbff64f469683ee604ada9e6139",
       "version_major": 2,
       "version_minor": 0
      },
      "text/plain": [
       "Iterative optimization:   0%|          | 0/200 [00:00<?, ?it/s]"
      ]
     },
     "metadata": {},
     "output_type": "display_data"
    },
    {
     "data": {
      "application/vnd.jupyter.widget-view+json": {
       "model_id": "fc29a67144bf442a809e6ee80865b1cc",
       "version_major": 2,
       "version_minor": 0
      },
      "text/plain": [
       "Iterative optimization:   0%|          | 0/200 [00:00<?, ?it/s]"
      ]
     },
     "metadata": {},
     "output_type": "display_data"
    },
    {
     "data": {
      "application/vnd.jupyter.widget-view+json": {
       "model_id": "47d7829a3ffb4605be854ca8443f6748",
       "version_major": 2,
       "version_minor": 0
      },
      "text/plain": [
       "Computing synthetic controls:   0%|          | 0/5 [00:00<?, ?it/s]"
      ]
     },
     "metadata": {},
     "output_type": "display_data"
    },
    {
     "data": {
      "application/vnd.jupyter.widget-view+json": {
       "model_id": "287d0777b52b4cc79e5394bc4c34cd3f",
       "version_major": 2,
       "version_minor": 0
      },
      "text/plain": [
       "Iterative optimization:   0%|          | 0/200 [00:00<?, ?it/s]"
      ]
     },
     "metadata": {},
     "output_type": "display_data"
    },
    {
     "data": {
      "application/vnd.jupyter.widget-view+json": {
       "model_id": "d9fd3630864148c995dc71d710b18794",
       "version_major": 2,
       "version_minor": 0
      },
      "text/plain": [
       "Iterative optimization:   0%|          | 0/200 [00:00<?, ?it/s]"
      ]
     },
     "metadata": {},
     "output_type": "display_data"
    },
    {
     "data": {
      "application/vnd.jupyter.widget-view+json": {
       "model_id": "226109e704b94bbbadcab408a95baf9f",
       "version_major": 2,
       "version_minor": 0
      },
      "text/plain": [
       "Iterative optimization:   0%|          | 0/200 [00:00<?, ?it/s]"
      ]
     },
     "metadata": {},
     "output_type": "display_data"
    },
    {
     "data": {
      "application/vnd.jupyter.widget-view+json": {
       "model_id": "f1a16fe128b94669b0f17dcc01062398",
       "version_major": 2,
       "version_minor": 0
      },
      "text/plain": [
       "Iterative optimization:   0%|          | 0/200 [00:00<?, ?it/s]"
      ]
     },
     "metadata": {},
     "output_type": "display_data"
    },
    {
     "data": {
      "application/vnd.jupyter.widget-view+json": {
       "model_id": "c0046a3bb40646a3b20dde2598dd483b",
       "version_major": 2,
       "version_minor": 0
      },
      "text/plain": [
       "Iterative optimization:   0%|          | 0/200 [00:00<?, ?it/s]"
      ]
     },
     "metadata": {},
     "output_type": "display_data"
    },
    {
     "data": {
      "application/vnd.jupyter.widget-view+json": {
       "model_id": "6a8536f2b1a04f29919942404783ceea",
       "version_major": 2,
       "version_minor": 0
      },
      "text/plain": [
       "Iterative optimization:   0%|          | 0/200 [00:00<?, ?it/s]"
      ]
     },
     "metadata": {},
     "output_type": "display_data"
    },
    {
     "data": {
      "application/vnd.jupyter.widget-view+json": {
       "model_id": "d003f40125284ac6bfb87f1cb24596f8",
       "version_major": 2,
       "version_minor": 0
      },
      "text/plain": [
       "Computing synthetic controls:   0%|          | 0/5 [00:00<?, ?it/s]"
      ]
     },
     "metadata": {},
     "output_type": "display_data"
    },
    {
     "data": {
      "application/vnd.jupyter.widget-view+json": {
       "model_id": "27a468b69e244817a75e56d59608e884",
       "version_major": 2,
       "version_minor": 0
      },
      "text/plain": [
       "Iterative optimization:   0%|          | 0/200 [00:00<?, ?it/s]"
      ]
     },
     "metadata": {},
     "output_type": "display_data"
    },
    {
     "data": {
      "application/vnd.jupyter.widget-view+json": {
       "model_id": "6182076392cf4efeb9da369718235b4e",
       "version_major": 2,
       "version_minor": 0
      },
      "text/plain": [
       "Iterative optimization:   0%|          | 0/200 [00:00<?, ?it/s]"
      ]
     },
     "metadata": {},
     "output_type": "display_data"
    },
    {
     "data": {
      "application/vnd.jupyter.widget-view+json": {
       "model_id": "71cce0924e1d446ab534277e3b5985ca",
       "version_major": 2,
       "version_minor": 0
      },
      "text/plain": [
       "Iterative optimization:   0%|          | 0/200 [00:00<?, ?it/s]"
      ]
     },
     "metadata": {},
     "output_type": "display_data"
    },
    {
     "data": {
      "application/vnd.jupyter.widget-view+json": {
       "model_id": "043032b45e5a444595ef7a257155060d",
       "version_major": 2,
       "version_minor": 0
      },
      "text/plain": [
       "Iterative optimization:   0%|          | 0/200 [00:00<?, ?it/s]"
      ]
     },
     "metadata": {},
     "output_type": "display_data"
    },
    {
     "data": {
      "application/vnd.jupyter.widget-view+json": {
       "model_id": "b03a9ef9989d4de38564f40a9fcf8bd5",
       "version_major": 2,
       "version_minor": 0
      },
      "text/plain": [
       "Iterative optimization:   0%|          | 0/200 [00:00<?, ?it/s]"
      ]
     },
     "metadata": {},
     "output_type": "display_data"
    },
    {
     "data": {
      "application/vnd.jupyter.widget-view+json": {
       "model_id": "00fdaa1dfbe740f294481e60925ee52f",
       "version_major": 2,
       "version_minor": 0
      },
      "text/plain": [
       "Iterative optimization:   0%|          | 0/200 [00:00<?, ?it/s]"
      ]
     },
     "metadata": {},
     "output_type": "display_data"
    },
    {
     "data": {
      "application/vnd.jupyter.widget-view+json": {
       "model_id": "21a6126110f94beabdec184054f7f472",
       "version_major": 2,
       "version_minor": 0
      },
      "text/plain": [
       "Computing synthetic controls:   0%|          | 0/5 [00:00<?, ?it/s]"
      ]
     },
     "metadata": {},
     "output_type": "display_data"
    },
    {
     "data": {
      "application/vnd.jupyter.widget-view+json": {
       "model_id": "6b34fdf6bd404dc79319b19d4d83481a",
       "version_major": 2,
       "version_minor": 0
      },
      "text/plain": [
       "Iterative optimization:   0%|          | 0/200 [00:00<?, ?it/s]"
      ]
     },
     "metadata": {},
     "output_type": "display_data"
    },
    {
     "data": {
      "application/vnd.jupyter.widget-view+json": {
       "model_id": "bd3cadd2d24b42aea3c3d5c09216ad96",
       "version_major": 2,
       "version_minor": 0
      },
      "text/plain": [
       "Iterative optimization:   0%|          | 0/200 [00:00<?, ?it/s]"
      ]
     },
     "metadata": {},
     "output_type": "display_data"
    },
    {
     "data": {
      "application/vnd.jupyter.widget-view+json": {
       "model_id": "fea069f32d084caba8a0f68c8e8fd3ae",
       "version_major": 2,
       "version_minor": 0
      },
      "text/plain": [
       "Iterative optimization:   0%|          | 0/200 [00:00<?, ?it/s]"
      ]
     },
     "metadata": {},
     "output_type": "display_data"
    },
    {
     "data": {
      "application/vnd.jupyter.widget-view+json": {
       "model_id": "0fef82382b2a4eda838f57a8a0a8852c",
       "version_major": 2,
       "version_minor": 0
      },
      "text/plain": [
       "Iterative optimization:   0%|          | 0/200 [00:00<?, ?it/s]"
      ]
     },
     "metadata": {},
     "output_type": "display_data"
    },
    {
     "data": {
      "application/vnd.jupyter.widget-view+json": {
       "model_id": "ee6a9adce1ab481ca58cb0f3d2eabf4e",
       "version_major": 2,
       "version_minor": 0
      },
      "text/plain": [
       "Iterative optimization:   0%|          | 0/200 [00:00<?, ?it/s]"
      ]
     },
     "metadata": {},
     "output_type": "display_data"
    },
    {
     "data": {
      "application/vnd.jupyter.widget-view+json": {
       "model_id": "e05120bd666b4206aa54289b0ba7a249",
       "version_major": 2,
       "version_minor": 0
      },
      "text/plain": [
       "Iterative optimization:   0%|          | 0/200 [00:00<?, ?it/s]"
      ]
     },
     "metadata": {},
     "output_type": "display_data"
    },
    {
     "data": {
      "application/vnd.jupyter.widget-view+json": {
       "model_id": "b2b7047df87b4baa8f9b31c804441fe5",
       "version_major": 2,
       "version_minor": 0
      },
      "text/plain": [
       "Computing synthetic controls:   0%|          | 0/5 [00:00<?, ?it/s]"
      ]
     },
     "metadata": {},
     "output_type": "display_data"
    },
    {
     "data": {
      "application/vnd.jupyter.widget-view+json": {
       "model_id": "40d4520ffd90454b803f61604d83018f",
       "version_major": 2,
       "version_minor": 0
      },
      "text/plain": [
       "Iterative optimization:   0%|          | 0/200 [00:00<?, ?it/s]"
      ]
     },
     "metadata": {},
     "output_type": "display_data"
    },
    {
     "data": {
      "application/vnd.jupyter.widget-view+json": {
       "model_id": "3fc03dffbef743cfabc59bec9a1dd45b",
       "version_major": 2,
       "version_minor": 0
      },
      "text/plain": [
       "Iterative optimization:   0%|          | 0/200 [00:00<?, ?it/s]"
      ]
     },
     "metadata": {},
     "output_type": "display_data"
    },
    {
     "data": {
      "application/vnd.jupyter.widget-view+json": {
       "model_id": "97b132bcffe2486d94062b370d4594e1",
       "version_major": 2,
       "version_minor": 0
      },
      "text/plain": [
       "Iterative optimization:   0%|          | 0/200 [00:00<?, ?it/s]"
      ]
     },
     "metadata": {},
     "output_type": "display_data"
    },
    {
     "data": {
      "application/vnd.jupyter.widget-view+json": {
       "model_id": "e44dcce185194529924b48ab99fab399",
       "version_major": 2,
       "version_minor": 0
      },
      "text/plain": [
       "Iterative optimization:   0%|          | 0/200 [00:00<?, ?it/s]"
      ]
     },
     "metadata": {},
     "output_type": "display_data"
    },
    {
     "data": {
      "application/vnd.jupyter.widget-view+json": {
       "model_id": "2a0e4b69009847f8a31812db858edf66",
       "version_major": 2,
       "version_minor": 0
      },
      "text/plain": [
       "Iterative optimization:   0%|          | 0/200 [00:00<?, ?it/s]"
      ]
     },
     "metadata": {},
     "output_type": "display_data"
    },
    {
     "data": {
      "application/vnd.jupyter.widget-view+json": {
       "model_id": "6e7da50bb93b49ab9b22e9ba61017917",
       "version_major": 2,
       "version_minor": 0
      },
      "text/plain": [
       "Iterative optimization:   0%|          | 0/200 [00:00<?, ?it/s]"
      ]
     },
     "metadata": {},
     "output_type": "display_data"
    },
    {
     "data": {
      "application/vnd.jupyter.widget-view+json": {
       "model_id": "0b9734a6c61946d58e130793120d41cf",
       "version_major": 2,
       "version_minor": 0
      },
      "text/plain": [
       "Computing synthetic controls:   0%|          | 0/5 [00:00<?, ?it/s]"
      ]
     },
     "metadata": {},
     "output_type": "display_data"
    },
    {
     "data": {
      "application/vnd.jupyter.widget-view+json": {
       "model_id": "76f4c4bbad4a463f995fc63e666f0d05",
       "version_major": 2,
       "version_minor": 0
      },
      "text/plain": [
       "Iterative optimization:   0%|          | 0/200 [00:00<?, ?it/s]"
      ]
     },
     "metadata": {},
     "output_type": "display_data"
    },
    {
     "data": {
      "application/vnd.jupyter.widget-view+json": {
       "model_id": "3aeade24751544ccadab77f52948a625",
       "version_major": 2,
       "version_minor": 0
      },
      "text/plain": [
       "Iterative optimization:   0%|          | 0/200 [00:00<?, ?it/s]"
      ]
     },
     "metadata": {},
     "output_type": "display_data"
    },
    {
     "data": {
      "application/vnd.jupyter.widget-view+json": {
       "model_id": "8602c851aa2e42188d688ed22f9e1723",
       "version_major": 2,
       "version_minor": 0
      },
      "text/plain": [
       "Iterative optimization:   0%|          | 0/200 [00:00<?, ?it/s]"
      ]
     },
     "metadata": {},
     "output_type": "display_data"
    },
    {
     "data": {
      "application/vnd.jupyter.widget-view+json": {
       "model_id": "0be7d4776647431289c2ddd90e099c21",
       "version_major": 2,
       "version_minor": 0
      },
      "text/plain": [
       "Iterative optimization:   0%|          | 0/200 [00:00<?, ?it/s]"
      ]
     },
     "metadata": {},
     "output_type": "display_data"
    },
    {
     "data": {
      "application/vnd.jupyter.widget-view+json": {
       "model_id": "ee8b8ca3703845938e14fc17190e3260",
       "version_major": 2,
       "version_minor": 0
      },
      "text/plain": [
       "Iterative optimization:   0%|          | 0/200 [00:00<?, ?it/s]"
      ]
     },
     "metadata": {},
     "output_type": "display_data"
    },
    {
     "data": {
      "application/vnd.jupyter.widget-view+json": {
       "model_id": "a8144f84d89f4287ad2a01ebc29fce7a",
       "version_major": 2,
       "version_minor": 0
      },
      "text/plain": [
       "Iterative optimization:   0%|          | 0/200 [00:00<?, ?it/s]"
      ]
     },
     "metadata": {},
     "output_type": "display_data"
    },
    {
     "data": {
      "application/vnd.jupyter.widget-view+json": {
       "model_id": "d84c7c442e82422b8d56aa0a2b34a84f",
       "version_major": 2,
       "version_minor": 0
      },
      "text/plain": [
       "Computing synthetic controls:   0%|          | 0/5 [00:00<?, ?it/s]"
      ]
     },
     "metadata": {},
     "output_type": "display_data"
    },
    {
     "data": {
      "application/vnd.jupyter.widget-view+json": {
       "model_id": "98f3587214c2438a90fccacb4d10f446",
       "version_major": 2,
       "version_minor": 0
      },
      "text/plain": [
       "Iterative optimization:   0%|          | 0/200 [00:00<?, ?it/s]"
      ]
     },
     "metadata": {},
     "output_type": "display_data"
    },
    {
     "data": {
      "application/vnd.jupyter.widget-view+json": {
       "model_id": "2e4431fcd51b4b06a567e57e676edd00",
       "version_major": 2,
       "version_minor": 0
      },
      "text/plain": [
       "Iterative optimization:   0%|          | 0/200 [00:00<?, ?it/s]"
      ]
     },
     "metadata": {},
     "output_type": "display_data"
    },
    {
     "data": {
      "application/vnd.jupyter.widget-view+json": {
       "model_id": "6191aa0943b24252924e1a8fc2e4db94",
       "version_major": 2,
       "version_minor": 0
      },
      "text/plain": [
       "Iterative optimization:   0%|          | 0/200 [00:00<?, ?it/s]"
      ]
     },
     "metadata": {},
     "output_type": "display_data"
    },
    {
     "data": {
      "application/vnd.jupyter.widget-view+json": {
       "model_id": "e84fc34b7b704e07a075a2191d263d15",
       "version_major": 2,
       "version_minor": 0
      },
      "text/plain": [
       "Iterative optimization:   0%|          | 0/200 [00:00<?, ?it/s]"
      ]
     },
     "metadata": {},
     "output_type": "display_data"
    },
    {
     "data": {
      "application/vnd.jupyter.widget-view+json": {
       "model_id": "8809cde13e24431e853723ec0ada31f5",
       "version_major": 2,
       "version_minor": 0
      },
      "text/plain": [
       "Iterative optimization:   0%|          | 0/200 [00:00<?, ?it/s]"
      ]
     },
     "metadata": {},
     "output_type": "display_data"
    },
    {
     "data": {
      "application/vnd.jupyter.widget-view+json": {
       "model_id": "6876e14d0f2c457f819a8970f7a0da3c",
       "version_major": 2,
       "version_minor": 0
      },
      "text/plain": [
       "Iterative optimization:   0%|          | 0/200 [00:00<?, ?it/s]"
      ]
     },
     "metadata": {},
     "output_type": "display_data"
    },
    {
     "data": {
      "application/vnd.jupyter.widget-view+json": {
       "model_id": "bd75070780f8404e920f47908ed371ee",
       "version_major": 2,
       "version_minor": 0
      },
      "text/plain": [
       "Computing synthetic controls:   0%|          | 0/5 [00:00<?, ?it/s]"
      ]
     },
     "metadata": {},
     "output_type": "display_data"
    },
    {
     "data": {
      "application/vnd.jupyter.widget-view+json": {
       "model_id": "f674857d41164de8bdf0c618117a9854",
       "version_major": 2,
       "version_minor": 0
      },
      "text/plain": [
       "Iterative optimization:   0%|          | 0/200 [00:00<?, ?it/s]"
      ]
     },
     "metadata": {},
     "output_type": "display_data"
    },
    {
     "data": {
      "application/vnd.jupyter.widget-view+json": {
       "model_id": "cfc2eae45531429ba1f7aca1c01a6c7b",
       "version_major": 2,
       "version_minor": 0
      },
      "text/plain": [
       "Iterative optimization:   0%|          | 0/200 [00:00<?, ?it/s]"
      ]
     },
     "metadata": {},
     "output_type": "display_data"
    },
    {
     "data": {
      "application/vnd.jupyter.widget-view+json": {
       "model_id": "bb3e5c8e513d485f8bb1cdcd624eb665",
       "version_major": 2,
       "version_minor": 0
      },
      "text/plain": [
       "Iterative optimization:   0%|          | 0/200 [00:00<?, ?it/s]"
      ]
     },
     "metadata": {},
     "output_type": "display_data"
    },
    {
     "data": {
      "application/vnd.jupyter.widget-view+json": {
       "model_id": "a44c85289d3c4008b611322a3f9d9dc9",
       "version_major": 2,
       "version_minor": 0
      },
      "text/plain": [
       "Iterative optimization:   0%|          | 0/200 [00:00<?, ?it/s]"
      ]
     },
     "metadata": {},
     "output_type": "display_data"
    },
    {
     "data": {
      "application/vnd.jupyter.widget-view+json": {
       "model_id": "c3a1e0d56f1a4974b728cd8225a672b5",
       "version_major": 2,
       "version_minor": 0
      },
      "text/plain": [
       "Iterative optimization:   0%|          | 0/200 [00:00<?, ?it/s]"
      ]
     },
     "metadata": {},
     "output_type": "display_data"
    },
    {
     "data": {
      "application/vnd.jupyter.widget-view+json": {
       "model_id": "b62b0ce0dfa3471dbb3d08c89705ebef",
       "version_major": 2,
       "version_minor": 0
      },
      "text/plain": [
       "Iterative optimization:   0%|          | 0/200 [00:00<?, ?it/s]"
      ]
     },
     "metadata": {},
     "output_type": "display_data"
    },
    {
     "data": {
      "application/vnd.jupyter.widget-view+json": {
       "model_id": "436d8b9c42fb418389fac8a0dfc5e856",
       "version_major": 2,
       "version_minor": 0
      },
      "text/plain": [
       "Computing synthetic controls:   0%|          | 0/5 [00:00<?, ?it/s]"
      ]
     },
     "metadata": {},
     "output_type": "display_data"
    },
    {
     "data": {
      "application/vnd.jupyter.widget-view+json": {
       "model_id": "5ad2e32c4e2644f09af22ca2da63d4e5",
       "version_major": 2,
       "version_minor": 0
      },
      "text/plain": [
       "Iterative optimization:   0%|          | 0/200 [00:00<?, ?it/s]"
      ]
     },
     "metadata": {},
     "output_type": "display_data"
    },
    {
     "data": {
      "application/vnd.jupyter.widget-view+json": {
       "model_id": "8fbfcd5d6cb04c3583e3d12e7ae581dc",
       "version_major": 2,
       "version_minor": 0
      },
      "text/plain": [
       "Iterative optimization:   0%|          | 0/200 [00:00<?, ?it/s]"
      ]
     },
     "metadata": {},
     "output_type": "display_data"
    },
    {
     "data": {
      "application/vnd.jupyter.widget-view+json": {
       "model_id": "20167b51cabb464795bd92c496d88c98",
       "version_major": 2,
       "version_minor": 0
      },
      "text/plain": [
       "Iterative optimization:   0%|          | 0/200 [00:00<?, ?it/s]"
      ]
     },
     "metadata": {},
     "output_type": "display_data"
    },
    {
     "data": {
      "application/vnd.jupyter.widget-view+json": {
       "model_id": "7aa7b85682f64b5fbb296575f70773e9",
       "version_major": 2,
       "version_minor": 0
      },
      "text/plain": [
       "Iterative optimization:   0%|          | 0/200 [00:00<?, ?it/s]"
      ]
     },
     "metadata": {},
     "output_type": "display_data"
    },
    {
     "data": {
      "application/vnd.jupyter.widget-view+json": {
       "model_id": "660e85b6f285457ab5701dbc24837af1",
       "version_major": 2,
       "version_minor": 0
      },
      "text/plain": [
       "Iterative optimization:   0%|          | 0/200 [00:00<?, ?it/s]"
      ]
     },
     "metadata": {},
     "output_type": "display_data"
    },
    {
     "data": {
      "application/vnd.jupyter.widget-view+json": {
       "model_id": "1551083660f04dbab769da1c8259f57b",
       "version_major": 2,
       "version_minor": 0
      },
      "text/plain": [
       "Iterative optimization:   0%|          | 0/200 [00:00<?, ?it/s]"
      ]
     },
     "metadata": {},
     "output_type": "display_data"
    },
    {
     "data": {
      "application/vnd.jupyter.widget-view+json": {
       "model_id": "1c221aa2e3e74d1497b1e163f85b423a",
       "version_major": 2,
       "version_minor": 0
      },
      "text/plain": [
       "Computing synthetic controls:   0%|          | 0/5 [00:00<?, ?it/s]"
      ]
     },
     "metadata": {},
     "output_type": "display_data"
    },
    {
     "data": {
      "application/vnd.jupyter.widget-view+json": {
       "model_id": "1bb3fc518013417689500c4d372734c9",
       "version_major": 2,
       "version_minor": 0
      },
      "text/plain": [
       "Iterative optimization:   0%|          | 0/200 [00:00<?, ?it/s]"
      ]
     },
     "metadata": {},
     "output_type": "display_data"
    },
    {
     "data": {
      "application/vnd.jupyter.widget-view+json": {
       "model_id": "b08c115da5e74bafa8084e1b0b208dff",
       "version_major": 2,
       "version_minor": 0
      },
      "text/plain": [
       "Iterative optimization:   0%|          | 0/200 [00:00<?, ?it/s]"
      ]
     },
     "metadata": {},
     "output_type": "display_data"
    },
    {
     "data": {
      "application/vnd.jupyter.widget-view+json": {
       "model_id": "16d5763f1bf2405f938175fe820e96a8",
       "version_major": 2,
       "version_minor": 0
      },
      "text/plain": [
       "Iterative optimization:   0%|          | 0/200 [00:00<?, ?it/s]"
      ]
     },
     "metadata": {},
     "output_type": "display_data"
    },
    {
     "data": {
      "application/vnd.jupyter.widget-view+json": {
       "model_id": "029bebf2feb740538df2716bff723360",
       "version_major": 2,
       "version_minor": 0
      },
      "text/plain": [
       "Iterative optimization:   0%|          | 0/200 [00:00<?, ?it/s]"
      ]
     },
     "metadata": {},
     "output_type": "display_data"
    },
    {
     "data": {
      "application/vnd.jupyter.widget-view+json": {
       "model_id": "5ff66217e21a445aa35894509518169a",
       "version_major": 2,
       "version_minor": 0
      },
      "text/plain": [
       "Iterative optimization:   0%|          | 0/200 [00:00<?, ?it/s]"
      ]
     },
     "metadata": {},
     "output_type": "display_data"
    },
    {
     "data": {
      "application/vnd.jupyter.widget-view+json": {
       "model_id": "360caeead0224d50854a6c4c201c3619",
       "version_major": 2,
       "version_minor": 0
      },
      "text/plain": [
       "Iterative optimization:   0%|          | 0/200 [00:00<?, ?it/s]"
      ]
     },
     "metadata": {},
     "output_type": "display_data"
    },
    {
     "data": {
      "application/vnd.jupyter.widget-view+json": {
       "model_id": "9efb26a36b94472e9d07720924913576",
       "version_major": 2,
       "version_minor": 0
      },
      "text/plain": [
       "Computing synthetic controls:   0%|          | 0/5 [00:00<?, ?it/s]"
      ]
     },
     "metadata": {},
     "output_type": "display_data"
    },
    {
     "data": {
      "application/vnd.jupyter.widget-view+json": {
       "model_id": "6180988b22c34b558b2e7a6a3e410b08",
       "version_major": 2,
       "version_minor": 0
      },
      "text/plain": [
       "Iterative optimization:   0%|          | 0/200 [00:00<?, ?it/s]"
      ]
     },
     "metadata": {},
     "output_type": "display_data"
    },
    {
     "data": {
      "application/vnd.jupyter.widget-view+json": {
       "model_id": "63f35fa912fb41808df4de4f32fbf77d",
       "version_major": 2,
       "version_minor": 0
      },
      "text/plain": [
       "Iterative optimization:   0%|          | 0/200 [00:00<?, ?it/s]"
      ]
     },
     "metadata": {},
     "output_type": "display_data"
    },
    {
     "data": {
      "application/vnd.jupyter.widget-view+json": {
       "model_id": "c2588440721142989a938fd54376338e",
       "version_major": 2,
       "version_minor": 0
      },
      "text/plain": [
       "Iterative optimization:   0%|          | 0/200 [00:00<?, ?it/s]"
      ]
     },
     "metadata": {},
     "output_type": "display_data"
    },
    {
     "data": {
      "application/vnd.jupyter.widget-view+json": {
       "model_id": "1f821e6f21dd47338a2645b13a5b4d09",
       "version_major": 2,
       "version_minor": 0
      },
      "text/plain": [
       "Iterative optimization:   0%|          | 0/200 [00:00<?, ?it/s]"
      ]
     },
     "metadata": {},
     "output_type": "display_data"
    },
    {
     "data": {
      "application/vnd.jupyter.widget-view+json": {
       "model_id": "90356a1ea6b84dea8348886d7794294d",
       "version_major": 2,
       "version_minor": 0
      },
      "text/plain": [
       "Iterative optimization:   0%|          | 0/200 [00:00<?, ?it/s]"
      ]
     },
     "metadata": {},
     "output_type": "display_data"
    },
    {
     "data": {
      "application/vnd.jupyter.widget-view+json": {
       "model_id": "2f96986647b34951a26f26af90e91398",
       "version_major": 2,
       "version_minor": 0
      },
      "text/plain": [
       "Iterative optimization:   0%|          | 0/200 [00:00<?, ?it/s]"
      ]
     },
     "metadata": {},
     "output_type": "display_data"
    },
    {
     "data": {
      "application/vnd.jupyter.widget-view+json": {
       "model_id": "fe1090270d104e4ea38b139092c52456",
       "version_major": 2,
       "version_minor": 0
      },
      "text/plain": [
       "Computing synthetic controls:   0%|          | 0/5 [00:00<?, ?it/s]"
      ]
     },
     "metadata": {},
     "output_type": "display_data"
    },
    {
     "data": {
      "application/vnd.jupyter.widget-view+json": {
       "model_id": "c7c723aa12bc4d4e8114266ebc22cabe",
       "version_major": 2,
       "version_minor": 0
      },
      "text/plain": [
       "Iterative optimization:   0%|          | 0/200 [00:00<?, ?it/s]"
      ]
     },
     "metadata": {},
     "output_type": "display_data"
    },
    {
     "data": {
      "application/vnd.jupyter.widget-view+json": {
       "model_id": "7f2651565a0f442fb348ace360cf37a9",
       "version_major": 2,
       "version_minor": 0
      },
      "text/plain": [
       "Iterative optimization:   0%|          | 0/200 [00:00<?, ?it/s]"
      ]
     },
     "metadata": {},
     "output_type": "display_data"
    },
    {
     "data": {
      "application/vnd.jupyter.widget-view+json": {
       "model_id": "0b12276136634756a2602fe3b1d295be",
       "version_major": 2,
       "version_minor": 0
      },
      "text/plain": [
       "Iterative optimization:   0%|          | 0/200 [00:00<?, ?it/s]"
      ]
     },
     "metadata": {},
     "output_type": "display_data"
    },
    {
     "data": {
      "application/vnd.jupyter.widget-view+json": {
       "model_id": "c3f98110e88447faab6f3be30428e796",
       "version_major": 2,
       "version_minor": 0
      },
      "text/plain": [
       "Iterative optimization:   0%|          | 0/200 [00:00<?, ?it/s]"
      ]
     },
     "metadata": {},
     "output_type": "display_data"
    },
    {
     "data": {
      "application/vnd.jupyter.widget-view+json": {
       "model_id": "360078f995084cbd943f0be0c98a2e6d",
       "version_major": 2,
       "version_minor": 0
      },
      "text/plain": [
       "Iterative optimization:   0%|          | 0/200 [00:00<?, ?it/s]"
      ]
     },
     "metadata": {},
     "output_type": "display_data"
    },
    {
     "data": {
      "application/vnd.jupyter.widget-view+json": {
       "model_id": "371b41179d5e4ffda8d1017435538f8a",
       "version_major": 2,
       "version_minor": 0
      },
      "text/plain": [
       "Iterative optimization:   0%|          | 0/200 [00:00<?, ?it/s]"
      ]
     },
     "metadata": {},
     "output_type": "display_data"
    },
    {
     "data": {
      "application/vnd.jupyter.widget-view+json": {
       "model_id": "50046bad77fb45a2999734be7ce3e95d",
       "version_major": 2,
       "version_minor": 0
      },
      "text/plain": [
       "Computing synthetic controls:   0%|          | 0/5 [00:00<?, ?it/s]"
      ]
     },
     "metadata": {},
     "output_type": "display_data"
    },
    {
     "data": {
      "application/vnd.jupyter.widget-view+json": {
       "model_id": "814a0bc2eb224e0494c84fe2e56872d7",
       "version_major": 2,
       "version_minor": 0
      },
      "text/plain": [
       "Iterative optimization:   0%|          | 0/200 [00:00<?, ?it/s]"
      ]
     },
     "metadata": {},
     "output_type": "display_data"
    },
    {
     "data": {
      "application/vnd.jupyter.widget-view+json": {
       "model_id": "09c419e65ad647ff9de70a66bfc6a041",
       "version_major": 2,
       "version_minor": 0
      },
      "text/plain": [
       "Iterative optimization:   0%|          | 0/200 [00:00<?, ?it/s]"
      ]
     },
     "metadata": {},
     "output_type": "display_data"
    },
    {
     "data": {
      "application/vnd.jupyter.widget-view+json": {
       "model_id": "69bc63dbea6848f792476ae3073b2f0c",
       "version_major": 2,
       "version_minor": 0
      },
      "text/plain": [
       "Iterative optimization:   0%|          | 0/200 [00:00<?, ?it/s]"
      ]
     },
     "metadata": {},
     "output_type": "display_data"
    },
    {
     "data": {
      "application/vnd.jupyter.widget-view+json": {
       "model_id": "d38fae4cf45f41e4986d164f9e89593f",
       "version_major": 2,
       "version_minor": 0
      },
      "text/plain": [
       "Iterative optimization:   0%|          | 0/200 [00:00<?, ?it/s]"
      ]
     },
     "metadata": {},
     "output_type": "display_data"
    },
    {
     "data": {
      "application/vnd.jupyter.widget-view+json": {
       "model_id": "b66826d6180b4b62bbe53b672a44b1b1",
       "version_major": 2,
       "version_minor": 0
      },
      "text/plain": [
       "Iterative optimization:   0%|          | 0/200 [00:00<?, ?it/s]"
      ]
     },
     "metadata": {},
     "output_type": "display_data"
    },
    {
     "data": {
      "application/vnd.jupyter.widget-view+json": {
       "model_id": "b639985022814f078b05c1bef1b98a57",
       "version_major": 2,
       "version_minor": 0
      },
      "text/plain": [
       "Iterative optimization:   0%|          | 0/200 [00:00<?, ?it/s]"
      ]
     },
     "metadata": {},
     "output_type": "display_data"
    },
    {
     "data": {
      "application/vnd.jupyter.widget-view+json": {
       "model_id": "1636972aeebf463690b9abc17a25aa89",
       "version_major": 2,
       "version_minor": 0
      },
      "text/plain": [
       "Computing synthetic controls:   0%|          | 0/5 [00:00<?, ?it/s]"
      ]
     },
     "metadata": {},
     "output_type": "display_data"
    },
    {
     "data": {
      "application/vnd.jupyter.widget-view+json": {
       "model_id": "a1c7e0e2351b4bffb9014919b6da60f9",
       "version_major": 2,
       "version_minor": 0
      },
      "text/plain": [
       "Iterative optimization:   0%|          | 0/200 [00:00<?, ?it/s]"
      ]
     },
     "metadata": {},
     "output_type": "display_data"
    },
    {
     "data": {
      "application/vnd.jupyter.widget-view+json": {
       "model_id": "7741138e87a2492e812ffc85590ba0e3",
       "version_major": 2,
       "version_minor": 0
      },
      "text/plain": [
       "Iterative optimization:   0%|          | 0/200 [00:00<?, ?it/s]"
      ]
     },
     "metadata": {},
     "output_type": "display_data"
    },
    {
     "data": {
      "application/vnd.jupyter.widget-view+json": {
       "model_id": "6db4393de16644f29a35652b021a97d5",
       "version_major": 2,
       "version_minor": 0
      },
      "text/plain": [
       "Iterative optimization:   0%|          | 0/200 [00:00<?, ?it/s]"
      ]
     },
     "metadata": {},
     "output_type": "display_data"
    },
    {
     "data": {
      "application/vnd.jupyter.widget-view+json": {
       "model_id": "4e6ec14fad1a4614a88420fb35b07d06",
       "version_major": 2,
       "version_minor": 0
      },
      "text/plain": [
       "Iterative optimization:   0%|          | 0/200 [00:00<?, ?it/s]"
      ]
     },
     "metadata": {},
     "output_type": "display_data"
    },
    {
     "data": {
      "application/vnd.jupyter.widget-view+json": {
       "model_id": "9ddf29c289544be1af559366f53e01cf",
       "version_major": 2,
       "version_minor": 0
      },
      "text/plain": [
       "Iterative optimization:   0%|          | 0/200 [00:00<?, ?it/s]"
      ]
     },
     "metadata": {},
     "output_type": "display_data"
    },
    {
     "data": {
      "application/vnd.jupyter.widget-view+json": {
       "model_id": "78208c875cd341c0a539f6ff029666ac",
       "version_major": 2,
       "version_minor": 0
      },
      "text/plain": [
       "Iterative optimization:   0%|          | 0/200 [00:00<?, ?it/s]"
      ]
     },
     "metadata": {},
     "output_type": "display_data"
    },
    {
     "data": {
      "application/vnd.jupyter.widget-view+json": {
       "model_id": "0c90bbf61f1b4558960ba0b8100741e8",
       "version_major": 2,
       "version_minor": 0
      },
      "text/plain": [
       "Computing synthetic controls:   0%|          | 0/5 [00:00<?, ?it/s]"
      ]
     },
     "metadata": {},
     "output_type": "display_data"
    },
    {
     "data": {
      "application/vnd.jupyter.widget-view+json": {
       "model_id": "6458e12f75044bf29da9bb694c0a7afb",
       "version_major": 2,
       "version_minor": 0
      },
      "text/plain": [
       "Iterative optimization:   0%|          | 0/200 [00:00<?, ?it/s]"
      ]
     },
     "metadata": {},
     "output_type": "display_data"
    },
    {
     "data": {
      "application/vnd.jupyter.widget-view+json": {
       "model_id": "a05e5646b65c49f29586ba4daaf59b42",
       "version_major": 2,
       "version_minor": 0
      },
      "text/plain": [
       "Iterative optimization:   0%|          | 0/200 [00:00<?, ?it/s]"
      ]
     },
     "metadata": {},
     "output_type": "display_data"
    },
    {
     "data": {
      "application/vnd.jupyter.widget-view+json": {
       "model_id": "993ce6234e3246eaa8377d1080213e8d",
       "version_major": 2,
       "version_minor": 0
      },
      "text/plain": [
       "Iterative optimization:   0%|          | 0/200 [00:00<?, ?it/s]"
      ]
     },
     "metadata": {},
     "output_type": "display_data"
    },
    {
     "data": {
      "application/vnd.jupyter.widget-view+json": {
       "model_id": "48ec36fa11e24b168fcf263346bad594",
       "version_major": 2,
       "version_minor": 0
      },
      "text/plain": [
       "Iterative optimization:   0%|          | 0/200 [00:00<?, ?it/s]"
      ]
     },
     "metadata": {},
     "output_type": "display_data"
    },
    {
     "data": {
      "application/vnd.jupyter.widget-view+json": {
       "model_id": "5168672e0bb543568323c1b29b20a75c",
       "version_major": 2,
       "version_minor": 0
      },
      "text/plain": [
       "Iterative optimization:   0%|          | 0/200 [00:00<?, ?it/s]"
      ]
     },
     "metadata": {},
     "output_type": "display_data"
    },
    {
     "data": {
      "application/vnd.jupyter.widget-view+json": {
       "model_id": "ea801ef254314d68ab72463c38a7cbdf",
       "version_major": 2,
       "version_minor": 0
      },
      "text/plain": [
       "Iterative optimization:   0%|          | 0/200 [00:00<?, ?it/s]"
      ]
     },
     "metadata": {},
     "output_type": "display_data"
    },
    {
     "data": {
      "application/vnd.jupyter.widget-view+json": {
       "model_id": "ecf2616aa69d4ee5a9d7def9f448413d",
       "version_major": 2,
       "version_minor": 0
      },
      "text/plain": [
       "Computing synthetic controls:   0%|          | 0/5 [00:00<?, ?it/s]"
      ]
     },
     "metadata": {},
     "output_type": "display_data"
    },
    {
     "data": {
      "application/vnd.jupyter.widget-view+json": {
       "model_id": "0a42af722c1349d6be9af307b9a963fa",
       "version_major": 2,
       "version_minor": 0
      },
      "text/plain": [
       "  0%|          | 0/33 [00:00<?, ?it/s]"
      ]
     },
     "metadata": {},
     "output_type": "display_data"
    },
    {
     "data": {
      "application/vnd.jupyter.widget-view+json": {
       "model_id": "4a434560c7b64d8b94582eac492c4712",
       "version_major": 2,
       "version_minor": 0
      },
      "text/plain": [
       "Iterative optimization:   0%|          | 0/200 [00:00<?, ?it/s]"
      ]
     },
     "metadata": {},
     "output_type": "display_data"
    },
    {
     "data": {
      "application/vnd.jupyter.widget-view+json": {
       "model_id": "77be8016b54e41b986ca933fa9bfd608",
       "version_major": 2,
       "version_minor": 0
      },
      "text/plain": [
       "Iterative optimization:   0%|          | 0/200 [00:00<?, ?it/s]"
      ]
     },
     "metadata": {},
     "output_type": "display_data"
    },
    {
     "data": {
      "application/vnd.jupyter.widget-view+json": {
       "model_id": "c1c3ec9619cb48fba2fb5848f8a951e8",
       "version_major": 2,
       "version_minor": 0
      },
      "text/plain": [
       "Iterative optimization:   0%|          | 0/200 [00:00<?, ?it/s]"
      ]
     },
     "metadata": {},
     "output_type": "display_data"
    },
    {
     "data": {
      "application/vnd.jupyter.widget-view+json": {
       "model_id": "cc4107ae2add4b90822c481d9fdd159a",
       "version_major": 2,
       "version_minor": 0
      },
      "text/plain": [
       "Iterative optimization:   0%|          | 0/200 [00:00<?, ?it/s]"
      ]
     },
     "metadata": {},
     "output_type": "display_data"
    },
    {
     "data": {
      "application/vnd.jupyter.widget-view+json": {
       "model_id": "975d3e3adc2b4d52aab7df6c1945b93b",
       "version_major": 2,
       "version_minor": 0
      },
      "text/plain": [
       "Iterative optimization:   0%|          | 0/200 [00:00<?, ?it/s]"
      ]
     },
     "metadata": {},
     "output_type": "display_data"
    },
    {
     "data": {
      "application/vnd.jupyter.widget-view+json": {
       "model_id": "6acfed1b530e4c25b1c7dc802b5d8aa4",
       "version_major": 2,
       "version_minor": 0
      },
      "text/plain": [
       "Iterative optimization:   0%|          | 0/200 [00:00<?, ?it/s]"
      ]
     },
     "metadata": {},
     "output_type": "display_data"
    },
    {
     "data": {
      "application/vnd.jupyter.widget-view+json": {
       "model_id": "0136646336a343ee9ccd50fa9b681ed7",
       "version_major": 2,
       "version_minor": 0
      },
      "text/plain": [
       "Computing synthetic controls:   0%|          | 0/5 [00:00<?, ?it/s]"
      ]
     },
     "metadata": {},
     "output_type": "display_data"
    },
    {
     "data": {
      "application/vnd.jupyter.widget-view+json": {
       "model_id": "09f3f14f303b44cbaf37908085e261b5",
       "version_major": 2,
       "version_minor": 0
      },
      "text/plain": [
       "Iterative optimization:   0%|          | 0/200 [00:00<?, ?it/s]"
      ]
     },
     "metadata": {},
     "output_type": "display_data"
    },
    {
     "data": {
      "application/vnd.jupyter.widget-view+json": {
       "model_id": "68d3e8ad01fe47b3ba09ad25a35deaca",
       "version_major": 2,
       "version_minor": 0
      },
      "text/plain": [
       "Iterative optimization:   0%|          | 0/200 [00:00<?, ?it/s]"
      ]
     },
     "metadata": {},
     "output_type": "display_data"
    },
    {
     "data": {
      "application/vnd.jupyter.widget-view+json": {
       "model_id": "b08d5fab34f94897b69f93e4cbda2cc0",
       "version_major": 2,
       "version_minor": 0
      },
      "text/plain": [
       "Iterative optimization:   0%|          | 0/200 [00:00<?, ?it/s]"
      ]
     },
     "metadata": {},
     "output_type": "display_data"
    },
    {
     "data": {
      "application/vnd.jupyter.widget-view+json": {
       "model_id": "329a20e675994e16ab84a3ae5a0bdfbc",
       "version_major": 2,
       "version_minor": 0
      },
      "text/plain": [
       "Iterative optimization:   0%|          | 0/200 [00:00<?, ?it/s]"
      ]
     },
     "metadata": {},
     "output_type": "display_data"
    },
    {
     "data": {
      "application/vnd.jupyter.widget-view+json": {
       "model_id": "03e0fc1e7ccc4939bfe70fa592e3482a",
       "version_major": 2,
       "version_minor": 0
      },
      "text/plain": [
       "Iterative optimization:   0%|          | 0/200 [00:00<?, ?it/s]"
      ]
     },
     "metadata": {},
     "output_type": "display_data"
    },
    {
     "data": {
      "application/vnd.jupyter.widget-view+json": {
       "model_id": "3bb14652a3b5422584df509ecc6bede4",
       "version_major": 2,
       "version_minor": 0
      },
      "text/plain": [
       "Iterative optimization:   0%|          | 0/200 [00:00<?, ?it/s]"
      ]
     },
     "metadata": {},
     "output_type": "display_data"
    },
    {
     "data": {
      "application/vnd.jupyter.widget-view+json": {
       "model_id": "ff9e7f36745e43b98259177ce65d3cd5",
       "version_major": 2,
       "version_minor": 0
      },
      "text/plain": [
       "Computing synthetic controls:   0%|          | 0/5 [00:00<?, ?it/s]"
      ]
     },
     "metadata": {},
     "output_type": "display_data"
    },
    {
     "data": {
      "application/vnd.jupyter.widget-view+json": {
       "model_id": "ac7c245d40b444b18fb96464c39971a4",
       "version_major": 2,
       "version_minor": 0
      },
      "text/plain": [
       "Iterative optimization:   0%|          | 0/200 [00:00<?, ?it/s]"
      ]
     },
     "metadata": {},
     "output_type": "display_data"
    },
    {
     "data": {
      "application/vnd.jupyter.widget-view+json": {
       "model_id": "ea490db541c343f6bb90bf349922aaee",
       "version_major": 2,
       "version_minor": 0
      },
      "text/plain": [
       "Iterative optimization:   0%|          | 0/200 [00:00<?, ?it/s]"
      ]
     },
     "metadata": {},
     "output_type": "display_data"
    },
    {
     "data": {
      "application/vnd.jupyter.widget-view+json": {
       "model_id": "05749ecef2d4452bba86ffe362938e6d",
       "version_major": 2,
       "version_minor": 0
      },
      "text/plain": [
       "Iterative optimization:   0%|          | 0/200 [00:00<?, ?it/s]"
      ]
     },
     "metadata": {},
     "output_type": "display_data"
    },
    {
     "data": {
      "application/vnd.jupyter.widget-view+json": {
       "model_id": "2c0cbe60de914276ba8898caf470a40b",
       "version_major": 2,
       "version_minor": 0
      },
      "text/plain": [
       "Iterative optimization:   0%|          | 0/200 [00:00<?, ?it/s]"
      ]
     },
     "metadata": {},
     "output_type": "display_data"
    },
    {
     "data": {
      "application/vnd.jupyter.widget-view+json": {
       "model_id": "19122eb616fb45cd8a2e3a4db73c7c3d",
       "version_major": 2,
       "version_minor": 0
      },
      "text/plain": [
       "Iterative optimization:   0%|          | 0/200 [00:00<?, ?it/s]"
      ]
     },
     "metadata": {},
     "output_type": "display_data"
    },
    {
     "data": {
      "application/vnd.jupyter.widget-view+json": {
       "model_id": "7a88ae42713b42c7ace0e184cea0807f",
       "version_major": 2,
       "version_minor": 0
      },
      "text/plain": [
       "Iterative optimization:   0%|          | 0/200 [00:00<?, ?it/s]"
      ]
     },
     "metadata": {},
     "output_type": "display_data"
    },
    {
     "data": {
      "application/vnd.jupyter.widget-view+json": {
       "model_id": "576d7e2132c24f0d83638945f9d0a6f6",
       "version_major": 2,
       "version_minor": 0
      },
      "text/plain": [
       "Computing synthetic controls:   0%|          | 0/5 [00:00<?, ?it/s]"
      ]
     },
     "metadata": {},
     "output_type": "display_data"
    },
    {
     "data": {
      "application/vnd.jupyter.widget-view+json": {
       "model_id": "99331b34f8044088952f4f32f4c80a63",
       "version_major": 2,
       "version_minor": 0
      },
      "text/plain": [
       "Iterative optimization:   0%|          | 0/200 [00:00<?, ?it/s]"
      ]
     },
     "metadata": {},
     "output_type": "display_data"
    },
    {
     "data": {
      "application/vnd.jupyter.widget-view+json": {
       "model_id": "1596ae2a4f49420da8110926a10aa480",
       "version_major": 2,
       "version_minor": 0
      },
      "text/plain": [
       "Iterative optimization:   0%|          | 0/200 [00:00<?, ?it/s]"
      ]
     },
     "metadata": {},
     "output_type": "display_data"
    },
    {
     "data": {
      "application/vnd.jupyter.widget-view+json": {
       "model_id": "04f74975690143e1b5a28508379143c4",
       "version_major": 2,
       "version_minor": 0
      },
      "text/plain": [
       "Iterative optimization:   0%|          | 0/200 [00:00<?, ?it/s]"
      ]
     },
     "metadata": {},
     "output_type": "display_data"
    },
    {
     "data": {
      "application/vnd.jupyter.widget-view+json": {
       "model_id": "1d3d8ca36a0d492db21ab39c84c97946",
       "version_major": 2,
       "version_minor": 0
      },
      "text/plain": [
       "Iterative optimization:   0%|          | 0/200 [00:00<?, ?it/s]"
      ]
     },
     "metadata": {},
     "output_type": "display_data"
    },
    {
     "data": {
      "application/vnd.jupyter.widget-view+json": {
       "model_id": "1dcc3c45c72c47299ec8106551676188",
       "version_major": 2,
       "version_minor": 0
      },
      "text/plain": [
       "Iterative optimization:   0%|          | 0/200 [00:00<?, ?it/s]"
      ]
     },
     "metadata": {},
     "output_type": "display_data"
    },
    {
     "data": {
      "application/vnd.jupyter.widget-view+json": {
       "model_id": "a39cb329d4984e97a6b27b2ec74a560e",
       "version_major": 2,
       "version_minor": 0
      },
      "text/plain": [
       "Iterative optimization:   0%|          | 0/200 [00:00<?, ?it/s]"
      ]
     },
     "metadata": {},
     "output_type": "display_data"
    },
    {
     "data": {
      "application/vnd.jupyter.widget-view+json": {
       "model_id": "072c7cadf8a0477aa49b69bd1e0c3662",
       "version_major": 2,
       "version_minor": 0
      },
      "text/plain": [
       "Computing synthetic controls:   0%|          | 0/5 [00:00<?, ?it/s]"
      ]
     },
     "metadata": {},
     "output_type": "display_data"
    },
    {
     "data": {
      "application/vnd.jupyter.widget-view+json": {
       "model_id": "f9c9c752abb14985ab8e599e407cf085",
       "version_major": 2,
       "version_minor": 0
      },
      "text/plain": [
       "Iterative optimization:   0%|          | 0/200 [00:00<?, ?it/s]"
      ]
     },
     "metadata": {},
     "output_type": "display_data"
    },
    {
     "data": {
      "application/vnd.jupyter.widget-view+json": {
       "model_id": "d0f90c92d9594c7c91f8fb876612aff8",
       "version_major": 2,
       "version_minor": 0
      },
      "text/plain": [
       "Iterative optimization:   0%|          | 0/200 [00:00<?, ?it/s]"
      ]
     },
     "metadata": {},
     "output_type": "display_data"
    },
    {
     "data": {
      "application/vnd.jupyter.widget-view+json": {
       "model_id": "df32c284f9a5445fae6af74085f191c1",
       "version_major": 2,
       "version_minor": 0
      },
      "text/plain": [
       "Iterative optimization:   0%|          | 0/200 [00:00<?, ?it/s]"
      ]
     },
     "metadata": {},
     "output_type": "display_data"
    },
    {
     "data": {
      "application/vnd.jupyter.widget-view+json": {
       "model_id": "05fb327bd0d640a89dc2bd1911967210",
       "version_major": 2,
       "version_minor": 0
      },
      "text/plain": [
       "Iterative optimization:   0%|          | 0/200 [00:00<?, ?it/s]"
      ]
     },
     "metadata": {},
     "output_type": "display_data"
    },
    {
     "data": {
      "application/vnd.jupyter.widget-view+json": {
       "model_id": "8d27d2a6bac84a8d8d77c690256d2da4",
       "version_major": 2,
       "version_minor": 0
      },
      "text/plain": [
       "Iterative optimization:   0%|          | 0/200 [00:00<?, ?it/s]"
      ]
     },
     "metadata": {},
     "output_type": "display_data"
    },
    {
     "data": {
      "application/vnd.jupyter.widget-view+json": {
       "model_id": "0d566295db5d4d389aac8ca0b0ddb8de",
       "version_major": 2,
       "version_minor": 0
      },
      "text/plain": [
       "Iterative optimization:   0%|          | 0/200 [00:00<?, ?it/s]"
      ]
     },
     "metadata": {},
     "output_type": "display_data"
    },
    {
     "data": {
      "application/vnd.jupyter.widget-view+json": {
       "model_id": "ea00a0ccf88542daa3550ba827e0f04e",
       "version_major": 2,
       "version_minor": 0
      },
      "text/plain": [
       "Computing synthetic controls:   0%|          | 0/5 [00:00<?, ?it/s]"
      ]
     },
     "metadata": {},
     "output_type": "display_data"
    },
    {
     "data": {
      "application/vnd.jupyter.widget-view+json": {
       "model_id": "6b3e49267bab4f2da8aee13ccf3529fb",
       "version_major": 2,
       "version_minor": 0
      },
      "text/plain": [
       "Iterative optimization:   0%|          | 0/200 [00:00<?, ?it/s]"
      ]
     },
     "metadata": {},
     "output_type": "display_data"
    },
    {
     "data": {
      "application/vnd.jupyter.widget-view+json": {
       "model_id": "8b87ad62c37c40de88ca0c5d56cb6fb8",
       "version_major": 2,
       "version_minor": 0
      },
      "text/plain": [
       "Iterative optimization:   0%|          | 0/200 [00:00<?, ?it/s]"
      ]
     },
     "metadata": {},
     "output_type": "display_data"
    },
    {
     "data": {
      "application/vnd.jupyter.widget-view+json": {
       "model_id": "290bf04b2356494b8f669a381c4d0884",
       "version_major": 2,
       "version_minor": 0
      },
      "text/plain": [
       "Iterative optimization:   0%|          | 0/200 [00:00<?, ?it/s]"
      ]
     },
     "metadata": {},
     "output_type": "display_data"
    },
    {
     "data": {
      "application/vnd.jupyter.widget-view+json": {
       "model_id": "934e6214298447eba3bb018d5703fd26",
       "version_major": 2,
       "version_minor": 0
      },
      "text/plain": [
       "Iterative optimization:   0%|          | 0/200 [00:00<?, ?it/s]"
      ]
     },
     "metadata": {},
     "output_type": "display_data"
    },
    {
     "data": {
      "application/vnd.jupyter.widget-view+json": {
       "model_id": "dbbef9f28726433393e5ef262d5aa09f",
       "version_major": 2,
       "version_minor": 0
      },
      "text/plain": [
       "Iterative optimization:   0%|          | 0/200 [00:00<?, ?it/s]"
      ]
     },
     "metadata": {},
     "output_type": "display_data"
    },
    {
     "data": {
      "application/vnd.jupyter.widget-view+json": {
       "model_id": "58929dc19dc74e85900864e01c9c7edf",
       "version_major": 2,
       "version_minor": 0
      },
      "text/plain": [
       "Iterative optimization:   0%|          | 0/200 [00:00<?, ?it/s]"
      ]
     },
     "metadata": {},
     "output_type": "display_data"
    },
    {
     "data": {
      "application/vnd.jupyter.widget-view+json": {
       "model_id": "7d02de9f6a1e48c4a52ed09a094b76a7",
       "version_major": 2,
       "version_minor": 0
      },
      "text/plain": [
       "Computing synthetic controls:   0%|          | 0/5 [00:00<?, ?it/s]"
      ]
     },
     "metadata": {},
     "output_type": "display_data"
    },
    {
     "data": {
      "application/vnd.jupyter.widget-view+json": {
       "model_id": "77d14a5e9abf4b2caf67c4a93679c924",
       "version_major": 2,
       "version_minor": 0
      },
      "text/plain": [
       "Iterative optimization:   0%|          | 0/200 [00:00<?, ?it/s]"
      ]
     },
     "metadata": {},
     "output_type": "display_data"
    },
    {
     "data": {
      "application/vnd.jupyter.widget-view+json": {
       "model_id": "23925c47f0914edcaebb23551f327f2c",
       "version_major": 2,
       "version_minor": 0
      },
      "text/plain": [
       "Iterative optimization:   0%|          | 0/200 [00:00<?, ?it/s]"
      ]
     },
     "metadata": {},
     "output_type": "display_data"
    },
    {
     "data": {
      "application/vnd.jupyter.widget-view+json": {
       "model_id": "d521358799d044a296d76fdc6fb099a9",
       "version_major": 2,
       "version_minor": 0
      },
      "text/plain": [
       "Iterative optimization:   0%|          | 0/200 [00:00<?, ?it/s]"
      ]
     },
     "metadata": {},
     "output_type": "display_data"
    },
    {
     "data": {
      "application/vnd.jupyter.widget-view+json": {
       "model_id": "ed3d6f67031f45abbfbc334dbf4277b4",
       "version_major": 2,
       "version_minor": 0
      },
      "text/plain": [
       "Iterative optimization:   0%|          | 0/200 [00:00<?, ?it/s]"
      ]
     },
     "metadata": {},
     "output_type": "display_data"
    },
    {
     "data": {
      "application/vnd.jupyter.widget-view+json": {
       "model_id": "e656edc7f35b478ebad08f2097601b61",
       "version_major": 2,
       "version_minor": 0
      },
      "text/plain": [
       "Iterative optimization:   0%|          | 0/200 [00:00<?, ?it/s]"
      ]
     },
     "metadata": {},
     "output_type": "display_data"
    },
    {
     "data": {
      "application/vnd.jupyter.widget-view+json": {
       "model_id": "a31b8ffa2593438d9843460eae663f9d",
       "version_major": 2,
       "version_minor": 0
      },
      "text/plain": [
       "Iterative optimization:   0%|          | 0/200 [00:00<?, ?it/s]"
      ]
     },
     "metadata": {},
     "output_type": "display_data"
    },
    {
     "data": {
      "application/vnd.jupyter.widget-view+json": {
       "model_id": "7d9ac45e523d41f7a3a9057ed05ce7ac",
       "version_major": 2,
       "version_minor": 0
      },
      "text/plain": [
       "Computing synthetic controls:   0%|          | 0/5 [00:00<?, ?it/s]"
      ]
     },
     "metadata": {},
     "output_type": "display_data"
    },
    {
     "data": {
      "application/vnd.jupyter.widget-view+json": {
       "model_id": "49d07ad12a124563b50b94c0a99a348f",
       "version_major": 2,
       "version_minor": 0
      },
      "text/plain": [
       "Iterative optimization:   0%|          | 0/200 [00:00<?, ?it/s]"
      ]
     },
     "metadata": {},
     "output_type": "display_data"
    },
    {
     "data": {
      "application/vnd.jupyter.widget-view+json": {
       "model_id": "12f36988d7d04139ab123cb9d7fa8d6f",
       "version_major": 2,
       "version_minor": 0
      },
      "text/plain": [
       "Iterative optimization:   0%|          | 0/200 [00:00<?, ?it/s]"
      ]
     },
     "metadata": {},
     "output_type": "display_data"
    },
    {
     "data": {
      "application/vnd.jupyter.widget-view+json": {
       "model_id": "6416f79a697e474ebb8689810c814a91",
       "version_major": 2,
       "version_minor": 0
      },
      "text/plain": [
       "Iterative optimization:   0%|          | 0/200 [00:00<?, ?it/s]"
      ]
     },
     "metadata": {},
     "output_type": "display_data"
    },
    {
     "data": {
      "application/vnd.jupyter.widget-view+json": {
       "model_id": "3116b4b2b1064d3b9e475d8ff83dd650",
       "version_major": 2,
       "version_minor": 0
      },
      "text/plain": [
       "Iterative optimization:   0%|          | 0/200 [00:00<?, ?it/s]"
      ]
     },
     "metadata": {},
     "output_type": "display_data"
    },
    {
     "data": {
      "application/vnd.jupyter.widget-view+json": {
       "model_id": "e2b4150e52e84a509730fe23fe685eb6",
       "version_major": 2,
       "version_minor": 0
      },
      "text/plain": [
       "Iterative optimization:   0%|          | 0/200 [00:00<?, ?it/s]"
      ]
     },
     "metadata": {},
     "output_type": "display_data"
    },
    {
     "data": {
      "application/vnd.jupyter.widget-view+json": {
       "model_id": "d4a255a481db4f97b6efb6a6e3e46c64",
       "version_major": 2,
       "version_minor": 0
      },
      "text/plain": [
       "Iterative optimization:   0%|          | 0/200 [00:00<?, ?it/s]"
      ]
     },
     "metadata": {},
     "output_type": "display_data"
    },
    {
     "data": {
      "application/vnd.jupyter.widget-view+json": {
       "model_id": "f93bb172809346b5930064ca0886cb9d",
       "version_major": 2,
       "version_minor": 0
      },
      "text/plain": [
       "Computing synthetic controls:   0%|          | 0/5 [00:00<?, ?it/s]"
      ]
     },
     "metadata": {},
     "output_type": "display_data"
    },
    {
     "data": {
      "application/vnd.jupyter.widget-view+json": {
       "model_id": "0a528c196ea74400934ce61d11bf64a1",
       "version_major": 2,
       "version_minor": 0
      },
      "text/plain": [
       "Iterative optimization:   0%|          | 0/200 [00:00<?, ?it/s]"
      ]
     },
     "metadata": {},
     "output_type": "display_data"
    },
    {
     "data": {
      "application/vnd.jupyter.widget-view+json": {
       "model_id": "05c49805e7b346d9ae01b58de32566bf",
       "version_major": 2,
       "version_minor": 0
      },
      "text/plain": [
       "Iterative optimization:   0%|          | 0/200 [00:00<?, ?it/s]"
      ]
     },
     "metadata": {},
     "output_type": "display_data"
    },
    {
     "data": {
      "application/vnd.jupyter.widget-view+json": {
       "model_id": "4ee78758006b4dc7b165f00fdb711c68",
       "version_major": 2,
       "version_minor": 0
      },
      "text/plain": [
       "Iterative optimization:   0%|          | 0/200 [00:00<?, ?it/s]"
      ]
     },
     "metadata": {},
     "output_type": "display_data"
    },
    {
     "data": {
      "application/vnd.jupyter.widget-view+json": {
       "model_id": "55104c0351fc475cb29aa5b0b8857e28",
       "version_major": 2,
       "version_minor": 0
      },
      "text/plain": [
       "Iterative optimization:   0%|          | 0/200 [00:00<?, ?it/s]"
      ]
     },
     "metadata": {},
     "output_type": "display_data"
    },
    {
     "data": {
      "application/vnd.jupyter.widget-view+json": {
       "model_id": "14474291eaa94ea8b4a96a7f54217f56",
       "version_major": 2,
       "version_minor": 0
      },
      "text/plain": [
       "Iterative optimization:   0%|          | 0/200 [00:00<?, ?it/s]"
      ]
     },
     "metadata": {},
     "output_type": "display_data"
    },
    {
     "data": {
      "application/vnd.jupyter.widget-view+json": {
       "model_id": "29ebbee83bfb4cc6a0014a058fbdd6ed",
       "version_major": 2,
       "version_minor": 0
      },
      "text/plain": [
       "Iterative optimization:   0%|          | 0/200 [00:00<?, ?it/s]"
      ]
     },
     "metadata": {},
     "output_type": "display_data"
    },
    {
     "data": {
      "application/vnd.jupyter.widget-view+json": {
       "model_id": "c816994266c847d49c8ff258edb187ae",
       "version_major": 2,
       "version_minor": 0
      },
      "text/plain": [
       "Computing synthetic controls:   0%|          | 0/5 [00:00<?, ?it/s]"
      ]
     },
     "metadata": {},
     "output_type": "display_data"
    },
    {
     "data": {
      "application/vnd.jupyter.widget-view+json": {
       "model_id": "3087d010557f434797cb887c36f8f5e7",
       "version_major": 2,
       "version_minor": 0
      },
      "text/plain": [
       "Iterative optimization:   0%|          | 0/200 [00:00<?, ?it/s]"
      ]
     },
     "metadata": {},
     "output_type": "display_data"
    },
    {
     "data": {
      "application/vnd.jupyter.widget-view+json": {
       "model_id": "de46a0b971db486d8ef49a29201f20f6",
       "version_major": 2,
       "version_minor": 0
      },
      "text/plain": [
       "Iterative optimization:   0%|          | 0/200 [00:00<?, ?it/s]"
      ]
     },
     "metadata": {},
     "output_type": "display_data"
    },
    {
     "data": {
      "application/vnd.jupyter.widget-view+json": {
       "model_id": "2b23519bb08b4010a1d75f46c61a9c7f",
       "version_major": 2,
       "version_minor": 0
      },
      "text/plain": [
       "Iterative optimization:   0%|          | 0/200 [00:00<?, ?it/s]"
      ]
     },
     "metadata": {},
     "output_type": "display_data"
    },
    {
     "data": {
      "application/vnd.jupyter.widget-view+json": {
       "model_id": "dfbd959139ce42cab3480815e871f93a",
       "version_major": 2,
       "version_minor": 0
      },
      "text/plain": [
       "Iterative optimization:   0%|          | 0/200 [00:00<?, ?it/s]"
      ]
     },
     "metadata": {},
     "output_type": "display_data"
    },
    {
     "data": {
      "application/vnd.jupyter.widget-view+json": {
       "model_id": "ef1eca70964643218a599f45e58f2b2c",
       "version_major": 2,
       "version_minor": 0
      },
      "text/plain": [
       "Iterative optimization:   0%|          | 0/200 [00:00<?, ?it/s]"
      ]
     },
     "metadata": {},
     "output_type": "display_data"
    },
    {
     "data": {
      "application/vnd.jupyter.widget-view+json": {
       "model_id": "0bd342c779ce4420819769c5d52d3582",
       "version_major": 2,
       "version_minor": 0
      },
      "text/plain": [
       "Iterative optimization:   0%|          | 0/200 [00:00<?, ?it/s]"
      ]
     },
     "metadata": {},
     "output_type": "display_data"
    },
    {
     "data": {
      "application/vnd.jupyter.widget-view+json": {
       "model_id": "dfe5a514fe8647e79e98f0cb886c82df",
       "version_major": 2,
       "version_minor": 0
      },
      "text/plain": [
       "Computing synthetic controls:   0%|          | 0/5 [00:00<?, ?it/s]"
      ]
     },
     "metadata": {},
     "output_type": "display_data"
    },
    {
     "data": {
      "application/vnd.jupyter.widget-view+json": {
       "model_id": "47785018f5f54458847e116a2a2f2ea7",
       "version_major": 2,
       "version_minor": 0
      },
      "text/plain": [
       "Iterative optimization:   0%|          | 0/200 [00:00<?, ?it/s]"
      ]
     },
     "metadata": {},
     "output_type": "display_data"
    },
    {
     "data": {
      "application/vnd.jupyter.widget-view+json": {
       "model_id": "d6a555d635744d919f829aa6577b1bb9",
       "version_major": 2,
       "version_minor": 0
      },
      "text/plain": [
       "Iterative optimization:   0%|          | 0/200 [00:00<?, ?it/s]"
      ]
     },
     "metadata": {},
     "output_type": "display_data"
    },
    {
     "data": {
      "application/vnd.jupyter.widget-view+json": {
       "model_id": "aac494fb89bd4d0ab7775cc6fcf0d0cf",
       "version_major": 2,
       "version_minor": 0
      },
      "text/plain": [
       "Iterative optimization:   0%|          | 0/200 [00:00<?, ?it/s]"
      ]
     },
     "metadata": {},
     "output_type": "display_data"
    },
    {
     "data": {
      "application/vnd.jupyter.widget-view+json": {
       "model_id": "6dc4502594564234be127cc881c1b224",
       "version_major": 2,
       "version_minor": 0
      },
      "text/plain": [
       "Iterative optimization:   0%|          | 0/200 [00:00<?, ?it/s]"
      ]
     },
     "metadata": {},
     "output_type": "display_data"
    },
    {
     "data": {
      "application/vnd.jupyter.widget-view+json": {
       "model_id": "9181a932f0574eaf8e17202a58e95260",
       "version_major": 2,
       "version_minor": 0
      },
      "text/plain": [
       "Iterative optimization:   0%|          | 0/200 [00:00<?, ?it/s]"
      ]
     },
     "metadata": {},
     "output_type": "display_data"
    },
    {
     "data": {
      "application/vnd.jupyter.widget-view+json": {
       "model_id": "8886f50d489f4e73aed56a6b259e4884",
       "version_major": 2,
       "version_minor": 0
      },
      "text/plain": [
       "Iterative optimization:   0%|          | 0/200 [00:00<?, ?it/s]"
      ]
     },
     "metadata": {},
     "output_type": "display_data"
    },
    {
     "data": {
      "application/vnd.jupyter.widget-view+json": {
       "model_id": "14681121e08e46b0b6caaf8c071454ba",
       "version_major": 2,
       "version_minor": 0
      },
      "text/plain": [
       "Computing synthetic controls:   0%|          | 0/5 [00:00<?, ?it/s]"
      ]
     },
     "metadata": {},
     "output_type": "display_data"
    },
    {
     "data": {
      "application/vnd.jupyter.widget-view+json": {
       "model_id": "75494196ac3645878187b7488697abdf",
       "version_major": 2,
       "version_minor": 0
      },
      "text/plain": [
       "Iterative optimization:   0%|          | 0/200 [00:00<?, ?it/s]"
      ]
     },
     "metadata": {},
     "output_type": "display_data"
    },
    {
     "data": {
      "application/vnd.jupyter.widget-view+json": {
       "model_id": "918fccc3d7aa45cca26d7c18aa4ad07e",
       "version_major": 2,
       "version_minor": 0
      },
      "text/plain": [
       "Iterative optimization:   0%|          | 0/200 [00:00<?, ?it/s]"
      ]
     },
     "metadata": {},
     "output_type": "display_data"
    },
    {
     "data": {
      "application/vnd.jupyter.widget-view+json": {
       "model_id": "6f7c806babcf47a498405e63adb85d73",
       "version_major": 2,
       "version_minor": 0
      },
      "text/plain": [
       "Iterative optimization:   0%|          | 0/200 [00:00<?, ?it/s]"
      ]
     },
     "metadata": {},
     "output_type": "display_data"
    },
    {
     "data": {
      "application/vnd.jupyter.widget-view+json": {
       "model_id": "ef5b7994ea6f4d55bbdd81a740cb76bf",
       "version_major": 2,
       "version_minor": 0
      },
      "text/plain": [
       "Iterative optimization:   0%|          | 0/200 [00:00<?, ?it/s]"
      ]
     },
     "metadata": {},
     "output_type": "display_data"
    },
    {
     "data": {
      "application/vnd.jupyter.widget-view+json": {
       "model_id": "a67536fa4e9247c6923539e202593129",
       "version_major": 2,
       "version_minor": 0
      },
      "text/plain": [
       "Iterative optimization:   0%|          | 0/200 [00:00<?, ?it/s]"
      ]
     },
     "metadata": {},
     "output_type": "display_data"
    },
    {
     "data": {
      "application/vnd.jupyter.widget-view+json": {
       "model_id": "4bfefd79bda446ab8da757fc500950f8",
       "version_major": 2,
       "version_minor": 0
      },
      "text/plain": [
       "Iterative optimization:   0%|          | 0/200 [00:00<?, ?it/s]"
      ]
     },
     "metadata": {},
     "output_type": "display_data"
    },
    {
     "data": {
      "application/vnd.jupyter.widget-view+json": {
       "model_id": "02f0bc38d47f4afbb50eef535e90aba6",
       "version_major": 2,
       "version_minor": 0
      },
      "text/plain": [
       "Computing synthetic controls:   0%|          | 0/5 [00:00<?, ?it/s]"
      ]
     },
     "metadata": {},
     "output_type": "display_data"
    },
    {
     "data": {
      "application/vnd.jupyter.widget-view+json": {
       "model_id": "cff7f7bfa7054646adb44b246e7eb518",
       "version_major": 2,
       "version_minor": 0
      },
      "text/plain": [
       "Iterative optimization:   0%|          | 0/200 [00:00<?, ?it/s]"
      ]
     },
     "metadata": {},
     "output_type": "display_data"
    },
    {
     "data": {
      "application/vnd.jupyter.widget-view+json": {
       "model_id": "85a8a68b47c046e7a03b15a190d30b41",
       "version_major": 2,
       "version_minor": 0
      },
      "text/plain": [
       "Iterative optimization:   0%|          | 0/200 [00:00<?, ?it/s]"
      ]
     },
     "metadata": {},
     "output_type": "display_data"
    },
    {
     "data": {
      "application/vnd.jupyter.widget-view+json": {
       "model_id": "e05ccde5fe944fb9aaa447d533b54282",
       "version_major": 2,
       "version_minor": 0
      },
      "text/plain": [
       "Iterative optimization:   0%|          | 0/200 [00:00<?, ?it/s]"
      ]
     },
     "metadata": {},
     "output_type": "display_data"
    },
    {
     "data": {
      "application/vnd.jupyter.widget-view+json": {
       "model_id": "fc295d8734914fcead394e2ba49fa4d5",
       "version_major": 2,
       "version_minor": 0
      },
      "text/plain": [
       "Iterative optimization:   0%|          | 0/200 [00:00<?, ?it/s]"
      ]
     },
     "metadata": {},
     "output_type": "display_data"
    },
    {
     "data": {
      "application/vnd.jupyter.widget-view+json": {
       "model_id": "26ce739a8d684b1285a71f8619eebe3f",
       "version_major": 2,
       "version_minor": 0
      },
      "text/plain": [
       "Iterative optimization:   0%|          | 0/200 [00:00<?, ?it/s]"
      ]
     },
     "metadata": {},
     "output_type": "display_data"
    },
    {
     "data": {
      "application/vnd.jupyter.widget-view+json": {
       "model_id": "f56234ad26b54e37b90b361129bcac1b",
       "version_major": 2,
       "version_minor": 0
      },
      "text/plain": [
       "Iterative optimization:   0%|          | 0/200 [00:00<?, ?it/s]"
      ]
     },
     "metadata": {},
     "output_type": "display_data"
    },
    {
     "data": {
      "application/vnd.jupyter.widget-view+json": {
       "model_id": "bb3a194bbcc24e709a45480b8cb151bc",
       "version_major": 2,
       "version_minor": 0
      },
      "text/plain": [
       "Computing synthetic controls:   0%|          | 0/5 [00:00<?, ?it/s]"
      ]
     },
     "metadata": {},
     "output_type": "display_data"
    },
    {
     "data": {
      "application/vnd.jupyter.widget-view+json": {
       "model_id": "bc6c3c6fbce241028cfd3b69aad896c0",
       "version_major": 2,
       "version_minor": 0
      },
      "text/plain": [
       "Iterative optimization:   0%|          | 0/200 [00:00<?, ?it/s]"
      ]
     },
     "metadata": {},
     "output_type": "display_data"
    },
    {
     "data": {
      "application/vnd.jupyter.widget-view+json": {
       "model_id": "20f18cab98e748b5a490379b8bf5daad",
       "version_major": 2,
       "version_minor": 0
      },
      "text/plain": [
       "Iterative optimization:   0%|          | 0/200 [00:00<?, ?it/s]"
      ]
     },
     "metadata": {},
     "output_type": "display_data"
    },
    {
     "data": {
      "application/vnd.jupyter.widget-view+json": {
       "model_id": "04439fea9e5b4cc7987208f2f70af150",
       "version_major": 2,
       "version_minor": 0
      },
      "text/plain": [
       "Iterative optimization:   0%|          | 0/200 [00:00<?, ?it/s]"
      ]
     },
     "metadata": {},
     "output_type": "display_data"
    },
    {
     "data": {
      "application/vnd.jupyter.widget-view+json": {
       "model_id": "48abf77248de4ceb826c7e66dae4dbd9",
       "version_major": 2,
       "version_minor": 0
      },
      "text/plain": [
       "Iterative optimization:   0%|          | 0/200 [00:00<?, ?it/s]"
      ]
     },
     "metadata": {},
     "output_type": "display_data"
    },
    {
     "data": {
      "application/vnd.jupyter.widget-view+json": {
       "model_id": "b18d523f764f4372b645a75bcedebd87",
       "version_major": 2,
       "version_minor": 0
      },
      "text/plain": [
       "Iterative optimization:   0%|          | 0/200 [00:00<?, ?it/s]"
      ]
     },
     "metadata": {},
     "output_type": "display_data"
    },
    {
     "data": {
      "application/vnd.jupyter.widget-view+json": {
       "model_id": "e8b7086345bc4dd693ad67908217b1ea",
       "version_major": 2,
       "version_minor": 0
      },
      "text/plain": [
       "Iterative optimization:   0%|          | 0/200 [00:00<?, ?it/s]"
      ]
     },
     "metadata": {},
     "output_type": "display_data"
    },
    {
     "data": {
      "application/vnd.jupyter.widget-view+json": {
       "model_id": "61efdefd63e745eda01489a963bab677",
       "version_major": 2,
       "version_minor": 0
      },
      "text/plain": [
       "Computing synthetic controls:   0%|          | 0/5 [00:00<?, ?it/s]"
      ]
     },
     "metadata": {},
     "output_type": "display_data"
    },
    {
     "data": {
      "application/vnd.jupyter.widget-view+json": {
       "model_id": "ae6948f281114a2b94556ecc526ffe97",
       "version_major": 2,
       "version_minor": 0
      },
      "text/plain": [
       "Iterative optimization:   0%|          | 0/200 [00:00<?, ?it/s]"
      ]
     },
     "metadata": {},
     "output_type": "display_data"
    },
    {
     "data": {
      "application/vnd.jupyter.widget-view+json": {
       "model_id": "73c9393fcb254f708bb2e10671e8f7fc",
       "version_major": 2,
       "version_minor": 0
      },
      "text/plain": [
       "Iterative optimization:   0%|          | 0/200 [00:00<?, ?it/s]"
      ]
     },
     "metadata": {},
     "output_type": "display_data"
    },
    {
     "data": {
      "application/vnd.jupyter.widget-view+json": {
       "model_id": "92292528cf4d4dc8bbe3338a29f0a244",
       "version_major": 2,
       "version_minor": 0
      },
      "text/plain": [
       "Iterative optimization:   0%|          | 0/200 [00:00<?, ?it/s]"
      ]
     },
     "metadata": {},
     "output_type": "display_data"
    },
    {
     "data": {
      "application/vnd.jupyter.widget-view+json": {
       "model_id": "05789a76fb584048bcf2a859c76e1ccc",
       "version_major": 2,
       "version_minor": 0
      },
      "text/plain": [
       "Iterative optimization:   0%|          | 0/200 [00:00<?, ?it/s]"
      ]
     },
     "metadata": {},
     "output_type": "display_data"
    },
    {
     "data": {
      "application/vnd.jupyter.widget-view+json": {
       "model_id": "dae041a694fe495895f8c43422dfbd47",
       "version_major": 2,
       "version_minor": 0
      },
      "text/plain": [
       "Iterative optimization:   0%|          | 0/200 [00:00<?, ?it/s]"
      ]
     },
     "metadata": {},
     "output_type": "display_data"
    },
    {
     "data": {
      "application/vnd.jupyter.widget-view+json": {
       "model_id": "ddcc21d1c9e74a4da85a64f629517ab0",
       "version_major": 2,
       "version_minor": 0
      },
      "text/plain": [
       "Iterative optimization:   0%|          | 0/200 [00:00<?, ?it/s]"
      ]
     },
     "metadata": {},
     "output_type": "display_data"
    },
    {
     "data": {
      "application/vnd.jupyter.widget-view+json": {
       "model_id": "3e0d7fbbbc5b40cca966b9aa3209a3a4",
       "version_major": 2,
       "version_minor": 0
      },
      "text/plain": [
       "Computing synthetic controls:   0%|          | 0/5 [00:00<?, ?it/s]"
      ]
     },
     "metadata": {},
     "output_type": "display_data"
    },
    {
     "data": {
      "application/vnd.jupyter.widget-view+json": {
       "model_id": "3e6dbf7c34bc4b878a17320c0f8ad181",
       "version_major": 2,
       "version_minor": 0
      },
      "text/plain": [
       "Iterative optimization:   0%|          | 0/200 [00:00<?, ?it/s]"
      ]
     },
     "metadata": {},
     "output_type": "display_data"
    },
    {
     "data": {
      "application/vnd.jupyter.widget-view+json": {
       "model_id": "4a71388e242e49f8ae3939e6a2c3ec9b",
       "version_major": 2,
       "version_minor": 0
      },
      "text/plain": [
       "Iterative optimization:   0%|          | 0/200 [00:00<?, ?it/s]"
      ]
     },
     "metadata": {},
     "output_type": "display_data"
    },
    {
     "data": {
      "application/vnd.jupyter.widget-view+json": {
       "model_id": "76ea5dd3e6dc485296fcfd04542525db",
       "version_major": 2,
       "version_minor": 0
      },
      "text/plain": [
       "Iterative optimization:   0%|          | 0/200 [00:00<?, ?it/s]"
      ]
     },
     "metadata": {},
     "output_type": "display_data"
    },
    {
     "data": {
      "application/vnd.jupyter.widget-view+json": {
       "model_id": "90f9ffbac9df40848b3143ca85748d46",
       "version_major": 2,
       "version_minor": 0
      },
      "text/plain": [
       "Iterative optimization:   0%|          | 0/200 [00:00<?, ?it/s]"
      ]
     },
     "metadata": {},
     "output_type": "display_data"
    },
    {
     "data": {
      "application/vnd.jupyter.widget-view+json": {
       "model_id": "880abd4646db4072ba211b72a3238d80",
       "version_major": 2,
       "version_minor": 0
      },
      "text/plain": [
       "Iterative optimization:   0%|          | 0/200 [00:00<?, ?it/s]"
      ]
     },
     "metadata": {},
     "output_type": "display_data"
    },
    {
     "data": {
      "application/vnd.jupyter.widget-view+json": {
       "model_id": "c2e7399a036844e8af538ed7414b2f01",
       "version_major": 2,
       "version_minor": 0
      },
      "text/plain": [
       "Iterative optimization:   0%|          | 0/200 [00:00<?, ?it/s]"
      ]
     },
     "metadata": {},
     "output_type": "display_data"
    },
    {
     "data": {
      "application/vnd.jupyter.widget-view+json": {
       "model_id": "5b5239e421b94d99a57af876546d4cea",
       "version_major": 2,
       "version_minor": 0
      },
      "text/plain": [
       "Computing synthetic controls:   0%|          | 0/5 [00:00<?, ?it/s]"
      ]
     },
     "metadata": {},
     "output_type": "display_data"
    },
    {
     "data": {
      "application/vnd.jupyter.widget-view+json": {
       "model_id": "7b199723b965455bad6dc6fa3f551a14",
       "version_major": 2,
       "version_minor": 0
      },
      "text/plain": [
       "Iterative optimization:   0%|          | 0/200 [00:00<?, ?it/s]"
      ]
     },
     "metadata": {},
     "output_type": "display_data"
    },
    {
     "data": {
      "application/vnd.jupyter.widget-view+json": {
       "model_id": "e265804fb20d4dd785a0b2b4803697ce",
       "version_major": 2,
       "version_minor": 0
      },
      "text/plain": [
       "Iterative optimization:   0%|          | 0/200 [00:00<?, ?it/s]"
      ]
     },
     "metadata": {},
     "output_type": "display_data"
    },
    {
     "data": {
      "application/vnd.jupyter.widget-view+json": {
       "model_id": "099a8cebe43d4946b475115dc59f293f",
       "version_major": 2,
       "version_minor": 0
      },
      "text/plain": [
       "Iterative optimization:   0%|          | 0/200 [00:00<?, ?it/s]"
      ]
     },
     "metadata": {},
     "output_type": "display_data"
    },
    {
     "data": {
      "application/vnd.jupyter.widget-view+json": {
       "model_id": "a4be1acacfc94145b5ac8c400cffc81f",
       "version_major": 2,
       "version_minor": 0
      },
      "text/plain": [
       "Iterative optimization:   0%|          | 0/200 [00:00<?, ?it/s]"
      ]
     },
     "metadata": {},
     "output_type": "display_data"
    },
    {
     "data": {
      "application/vnd.jupyter.widget-view+json": {
       "model_id": "da0f46c9cd444614aa31768d0ec43bbe",
       "version_major": 2,
       "version_minor": 0
      },
      "text/plain": [
       "Iterative optimization:   0%|          | 0/200 [00:00<?, ?it/s]"
      ]
     },
     "metadata": {},
     "output_type": "display_data"
    },
    {
     "data": {
      "application/vnd.jupyter.widget-view+json": {
       "model_id": "7e27f29a90e04eb898418793d5ccd70e",
       "version_major": 2,
       "version_minor": 0
      },
      "text/plain": [
       "Iterative optimization:   0%|          | 0/200 [00:00<?, ?it/s]"
      ]
     },
     "metadata": {},
     "output_type": "display_data"
    },
    {
     "data": {
      "application/vnd.jupyter.widget-view+json": {
       "model_id": "a23735674c9d4014bce11554c7c1cb10",
       "version_major": 2,
       "version_minor": 0
      },
      "text/plain": [
       "Computing synthetic controls:   0%|          | 0/5 [00:00<?, ?it/s]"
      ]
     },
     "metadata": {},
     "output_type": "display_data"
    },
    {
     "data": {
      "application/vnd.jupyter.widget-view+json": {
       "model_id": "5b34d31e8c204c11ab732b84c25d9aa7",
       "version_major": 2,
       "version_minor": 0
      },
      "text/plain": [
       "Iterative optimization:   0%|          | 0/200 [00:00<?, ?it/s]"
      ]
     },
     "metadata": {},
     "output_type": "display_data"
    },
    {
     "data": {
      "application/vnd.jupyter.widget-view+json": {
       "model_id": "02a7403aae494ef88ef1254a0ba50669",
       "version_major": 2,
       "version_minor": 0
      },
      "text/plain": [
       "Iterative optimization:   0%|          | 0/200 [00:00<?, ?it/s]"
      ]
     },
     "metadata": {},
     "output_type": "display_data"
    },
    {
     "data": {
      "application/vnd.jupyter.widget-view+json": {
       "model_id": "35b9381da3e04b1fb1ad22fd6e93c5df",
       "version_major": 2,
       "version_minor": 0
      },
      "text/plain": [
       "Iterative optimization:   0%|          | 0/200 [00:00<?, ?it/s]"
      ]
     },
     "metadata": {},
     "output_type": "display_data"
    },
    {
     "data": {
      "application/vnd.jupyter.widget-view+json": {
       "model_id": "ad1a4db7bf4c48b8a43485781347e286",
       "version_major": 2,
       "version_minor": 0
      },
      "text/plain": [
       "Iterative optimization:   0%|          | 0/200 [00:00<?, ?it/s]"
      ]
     },
     "metadata": {},
     "output_type": "display_data"
    },
    {
     "data": {
      "application/vnd.jupyter.widget-view+json": {
       "model_id": "87d948a73c904008a100178dbe9368b3",
       "version_major": 2,
       "version_minor": 0
      },
      "text/plain": [
       "Iterative optimization:   0%|          | 0/200 [00:00<?, ?it/s]"
      ]
     },
     "metadata": {},
     "output_type": "display_data"
    },
    {
     "data": {
      "application/vnd.jupyter.widget-view+json": {
       "model_id": "965044816a3e4b508e8b1f4636dbf0f5",
       "version_major": 2,
       "version_minor": 0
      },
      "text/plain": [
       "Iterative optimization:   0%|          | 0/200 [00:00<?, ?it/s]"
      ]
     },
     "metadata": {},
     "output_type": "display_data"
    },
    {
     "data": {
      "application/vnd.jupyter.widget-view+json": {
       "model_id": "a7d496387f86460ba859ef7ae641b236",
       "version_major": 2,
       "version_minor": 0
      },
      "text/plain": [
       "Computing synthetic controls:   0%|          | 0/5 [00:00<?, ?it/s]"
      ]
     },
     "metadata": {},
     "output_type": "display_data"
    },
    {
     "data": {
      "application/vnd.jupyter.widget-view+json": {
       "model_id": "45d8fd01073f4425b0457e677e5a3076",
       "version_major": 2,
       "version_minor": 0
      },
      "text/plain": [
       "Iterative optimization:   0%|          | 0/200 [00:00<?, ?it/s]"
      ]
     },
     "metadata": {},
     "output_type": "display_data"
    },
    {
     "data": {
      "application/vnd.jupyter.widget-view+json": {
       "model_id": "2adff85bfe8740c092aa241b0764a66e",
       "version_major": 2,
       "version_minor": 0
      },
      "text/plain": [
       "Iterative optimization:   0%|          | 0/200 [00:00<?, ?it/s]"
      ]
     },
     "metadata": {},
     "output_type": "display_data"
    },
    {
     "data": {
      "application/vnd.jupyter.widget-view+json": {
       "model_id": "1c2aa2db556b473db9b27f9c11fcdd37",
       "version_major": 2,
       "version_minor": 0
      },
      "text/plain": [
       "Iterative optimization:   0%|          | 0/200 [00:00<?, ?it/s]"
      ]
     },
     "metadata": {},
     "output_type": "display_data"
    },
    {
     "data": {
      "application/vnd.jupyter.widget-view+json": {
       "model_id": "0ce846879c2646bdb3a37f9b6b70c04e",
       "version_major": 2,
       "version_minor": 0
      },
      "text/plain": [
       "Iterative optimization:   0%|          | 0/200 [00:00<?, ?it/s]"
      ]
     },
     "metadata": {},
     "output_type": "display_data"
    },
    {
     "data": {
      "application/vnd.jupyter.widget-view+json": {
       "model_id": "f8338e05882a48c2972a1fabedd040a3",
       "version_major": 2,
       "version_minor": 0
      },
      "text/plain": [
       "Iterative optimization:   0%|          | 0/200 [00:00<?, ?it/s]"
      ]
     },
     "metadata": {},
     "output_type": "display_data"
    },
    {
     "data": {
      "application/vnd.jupyter.widget-view+json": {
       "model_id": "f6fbef6b7f454a488c16ef6f79cf905d",
       "version_major": 2,
       "version_minor": 0
      },
      "text/plain": [
       "Iterative optimization:   0%|          | 0/200 [00:00<?, ?it/s]"
      ]
     },
     "metadata": {},
     "output_type": "display_data"
    },
    {
     "data": {
      "application/vnd.jupyter.widget-view+json": {
       "model_id": "76d149fe5a2f46c883d188af79b6192c",
       "version_major": 2,
       "version_minor": 0
      },
      "text/plain": [
       "Computing synthetic controls:   0%|          | 0/5 [00:00<?, ?it/s]"
      ]
     },
     "metadata": {},
     "output_type": "display_data"
    },
    {
     "data": {
      "application/vnd.jupyter.widget-view+json": {
       "model_id": "ced6497338b543258724b41d3766c2dd",
       "version_major": 2,
       "version_minor": 0
      },
      "text/plain": [
       "Iterative optimization:   0%|          | 0/200 [00:00<?, ?it/s]"
      ]
     },
     "metadata": {},
     "output_type": "display_data"
    },
    {
     "data": {
      "application/vnd.jupyter.widget-view+json": {
       "model_id": "46460ffce0094cc885809442ff4c8937",
       "version_major": 2,
       "version_minor": 0
      },
      "text/plain": [
       "Iterative optimization:   0%|          | 0/200 [00:00<?, ?it/s]"
      ]
     },
     "metadata": {},
     "output_type": "display_data"
    },
    {
     "data": {
      "application/vnd.jupyter.widget-view+json": {
       "model_id": "3f6fc6dfd2914a41803e5fbbe3105e78",
       "version_major": 2,
       "version_minor": 0
      },
      "text/plain": [
       "Iterative optimization:   0%|          | 0/200 [00:00<?, ?it/s]"
      ]
     },
     "metadata": {},
     "output_type": "display_data"
    },
    {
     "data": {
      "application/vnd.jupyter.widget-view+json": {
       "model_id": "35b0779af65948f3bc06a9ae6010e543",
       "version_major": 2,
       "version_minor": 0
      },
      "text/plain": [
       "Iterative optimization:   0%|          | 0/200 [00:00<?, ?it/s]"
      ]
     },
     "metadata": {},
     "output_type": "display_data"
    },
    {
     "data": {
      "application/vnd.jupyter.widget-view+json": {
       "model_id": "20b0a461666349cfb43acb38257b2e66",
       "version_major": 2,
       "version_minor": 0
      },
      "text/plain": [
       "Iterative optimization:   0%|          | 0/200 [00:00<?, ?it/s]"
      ]
     },
     "metadata": {},
     "output_type": "display_data"
    },
    {
     "data": {
      "application/vnd.jupyter.widget-view+json": {
       "model_id": "f0539199d2514ebfabe4ba9b37d4fd01",
       "version_major": 2,
       "version_minor": 0
      },
      "text/plain": [
       "Iterative optimization:   0%|          | 0/200 [00:00<?, ?it/s]"
      ]
     },
     "metadata": {},
     "output_type": "display_data"
    },
    {
     "data": {
      "application/vnd.jupyter.widget-view+json": {
       "model_id": "931dd0cb8cf24587b4d8b9b3c0cc9158",
       "version_major": 2,
       "version_minor": 0
      },
      "text/plain": [
       "Computing synthetic controls:   0%|          | 0/5 [00:00<?, ?it/s]"
      ]
     },
     "metadata": {},
     "output_type": "display_data"
    },
    {
     "data": {
      "application/vnd.jupyter.widget-view+json": {
       "model_id": "a7522d350ea04f6a8ea0c01f842de3fa",
       "version_major": 2,
       "version_minor": 0
      },
      "text/plain": [
       "Iterative optimization:   0%|          | 0/200 [00:00<?, ?it/s]"
      ]
     },
     "metadata": {},
     "output_type": "display_data"
    },
    {
     "data": {
      "application/vnd.jupyter.widget-view+json": {
       "model_id": "00f9db7aff9049239df03bb14834a08c",
       "version_major": 2,
       "version_minor": 0
      },
      "text/plain": [
       "Iterative optimization:   0%|          | 0/200 [00:00<?, ?it/s]"
      ]
     },
     "metadata": {},
     "output_type": "display_data"
    },
    {
     "data": {
      "application/vnd.jupyter.widget-view+json": {
       "model_id": "131edd044ae04b20a6a789ff17342017",
       "version_major": 2,
       "version_minor": 0
      },
      "text/plain": [
       "Iterative optimization:   0%|          | 0/200 [00:00<?, ?it/s]"
      ]
     },
     "metadata": {},
     "output_type": "display_data"
    },
    {
     "data": {
      "application/vnd.jupyter.widget-view+json": {
       "model_id": "df3a778539204c10858ac3dbbb23faf7",
       "version_major": 2,
       "version_minor": 0
      },
      "text/plain": [
       "Iterative optimization:   0%|          | 0/200 [00:00<?, ?it/s]"
      ]
     },
     "metadata": {},
     "output_type": "display_data"
    },
    {
     "data": {
      "application/vnd.jupyter.widget-view+json": {
       "model_id": "d00a15fb5e0846949686929487668085",
       "version_major": 2,
       "version_minor": 0
      },
      "text/plain": [
       "Iterative optimization:   0%|          | 0/200 [00:00<?, ?it/s]"
      ]
     },
     "metadata": {},
     "output_type": "display_data"
    },
    {
     "data": {
      "application/vnd.jupyter.widget-view+json": {
       "model_id": "99212ef3f9704370b47146abb2dacd9e",
       "version_major": 2,
       "version_minor": 0
      },
      "text/plain": [
       "Iterative optimization:   0%|          | 0/200 [00:00<?, ?it/s]"
      ]
     },
     "metadata": {},
     "output_type": "display_data"
    },
    {
     "data": {
      "application/vnd.jupyter.widget-view+json": {
       "model_id": "0bd0e10696db458abc36db9bd95beff0",
       "version_major": 2,
       "version_minor": 0
      },
      "text/plain": [
       "Computing synthetic controls:   0%|          | 0/5 [00:00<?, ?it/s]"
      ]
     },
     "metadata": {},
     "output_type": "display_data"
    },
    {
     "data": {
      "application/vnd.jupyter.widget-view+json": {
       "model_id": "d1dd4678f77649ca8adbcc59d6e9f96b",
       "version_major": 2,
       "version_minor": 0
      },
      "text/plain": [
       "Iterative optimization:   0%|          | 0/200 [00:00<?, ?it/s]"
      ]
     },
     "metadata": {},
     "output_type": "display_data"
    },
    {
     "data": {
      "application/vnd.jupyter.widget-view+json": {
       "model_id": "855cbe1f2c214dd7a3cf509af3b11bbe",
       "version_major": 2,
       "version_minor": 0
      },
      "text/plain": [
       "Iterative optimization:   0%|          | 0/200 [00:00<?, ?it/s]"
      ]
     },
     "metadata": {},
     "output_type": "display_data"
    },
    {
     "data": {
      "application/vnd.jupyter.widget-view+json": {
       "model_id": "233ce70e183043b09520353c83a25eb9",
       "version_major": 2,
       "version_minor": 0
      },
      "text/plain": [
       "Iterative optimization:   0%|          | 0/200 [00:00<?, ?it/s]"
      ]
     },
     "metadata": {},
     "output_type": "display_data"
    },
    {
     "data": {
      "application/vnd.jupyter.widget-view+json": {
       "model_id": "ab5ea5b73eee4e4c850b3a02b285cf17",
       "version_major": 2,
       "version_minor": 0
      },
      "text/plain": [
       "Iterative optimization:   0%|          | 0/200 [00:00<?, ?it/s]"
      ]
     },
     "metadata": {},
     "output_type": "display_data"
    },
    {
     "data": {
      "application/vnd.jupyter.widget-view+json": {
       "model_id": "226c4c9ef2e64d70946f3b73172000cd",
       "version_major": 2,
       "version_minor": 0
      },
      "text/plain": [
       "Iterative optimization:   0%|          | 0/200 [00:00<?, ?it/s]"
      ]
     },
     "metadata": {},
     "output_type": "display_data"
    },
    {
     "data": {
      "application/vnd.jupyter.widget-view+json": {
       "model_id": "e966f113361b4780ba48c661148faf62",
       "version_major": 2,
       "version_minor": 0
      },
      "text/plain": [
       "Iterative optimization:   0%|          | 0/200 [00:00<?, ?it/s]"
      ]
     },
     "metadata": {},
     "output_type": "display_data"
    },
    {
     "data": {
      "application/vnd.jupyter.widget-view+json": {
       "model_id": "efda917b688c489d9fcb5a4e768054f7",
       "version_major": 2,
       "version_minor": 0
      },
      "text/plain": [
       "Computing synthetic controls:   0%|          | 0/5 [00:00<?, ?it/s]"
      ]
     },
     "metadata": {},
     "output_type": "display_data"
    },
    {
     "data": {
      "application/vnd.jupyter.widget-view+json": {
       "model_id": "f487fe6773484bc0a30b13340c0a4072",
       "version_major": 2,
       "version_minor": 0
      },
      "text/plain": [
       "Iterative optimization:   0%|          | 0/200 [00:00<?, ?it/s]"
      ]
     },
     "metadata": {},
     "output_type": "display_data"
    },
    {
     "data": {
      "application/vnd.jupyter.widget-view+json": {
       "model_id": "43b4dcd06e1d46618e55e99fe143d908",
       "version_major": 2,
       "version_minor": 0
      },
      "text/plain": [
       "Iterative optimization:   0%|          | 0/200 [00:00<?, ?it/s]"
      ]
     },
     "metadata": {},
     "output_type": "display_data"
    },
    {
     "data": {
      "application/vnd.jupyter.widget-view+json": {
       "model_id": "ada68ff358c04d7e8ae14d9f826377c4",
       "version_major": 2,
       "version_minor": 0
      },
      "text/plain": [
       "Iterative optimization:   0%|          | 0/200 [00:00<?, ?it/s]"
      ]
     },
     "metadata": {},
     "output_type": "display_data"
    },
    {
     "data": {
      "application/vnd.jupyter.widget-view+json": {
       "model_id": "ab0c0b3272e84093960bdd795882b9e7",
       "version_major": 2,
       "version_minor": 0
      },
      "text/plain": [
       "Iterative optimization:   0%|          | 0/200 [00:00<?, ?it/s]"
      ]
     },
     "metadata": {},
     "output_type": "display_data"
    },
    {
     "data": {
      "application/vnd.jupyter.widget-view+json": {
       "model_id": "e2da33c8799d4d4fa01556525ab480c6",
       "version_major": 2,
       "version_minor": 0
      },
      "text/plain": [
       "Iterative optimization:   0%|          | 0/200 [00:00<?, ?it/s]"
      ]
     },
     "metadata": {},
     "output_type": "display_data"
    },
    {
     "data": {
      "application/vnd.jupyter.widget-view+json": {
       "model_id": "28357d79749742a1baf7991e013adbb8",
       "version_major": 2,
       "version_minor": 0
      },
      "text/plain": [
       "Iterative optimization:   0%|          | 0/200 [00:00<?, ?it/s]"
      ]
     },
     "metadata": {},
     "output_type": "display_data"
    },
    {
     "data": {
      "application/vnd.jupyter.widget-view+json": {
       "model_id": "efff96d415014406a73dad2e7cb2abd8",
       "version_major": 2,
       "version_minor": 0
      },
      "text/plain": [
       "Computing synthetic controls:   0%|          | 0/5 [00:00<?, ?it/s]"
      ]
     },
     "metadata": {},
     "output_type": "display_data"
    },
    {
     "data": {
      "application/vnd.jupyter.widget-view+json": {
       "model_id": "f464f0e40a204f9aa5ba2d3f9d623f1a",
       "version_major": 2,
       "version_minor": 0
      },
      "text/plain": [
       "Iterative optimization:   0%|          | 0/200 [00:00<?, ?it/s]"
      ]
     },
     "metadata": {},
     "output_type": "display_data"
    },
    {
     "data": {
      "application/vnd.jupyter.widget-view+json": {
       "model_id": "767fcc15a90a443191372681f161a93c",
       "version_major": 2,
       "version_minor": 0
      },
      "text/plain": [
       "Iterative optimization:   0%|          | 0/200 [00:00<?, ?it/s]"
      ]
     },
     "metadata": {},
     "output_type": "display_data"
    },
    {
     "data": {
      "application/vnd.jupyter.widget-view+json": {
       "model_id": "fb29af249c734d5eab318ccbd05d775e",
       "version_major": 2,
       "version_minor": 0
      },
      "text/plain": [
       "Iterative optimization:   0%|          | 0/200 [00:00<?, ?it/s]"
      ]
     },
     "metadata": {},
     "output_type": "display_data"
    },
    {
     "data": {
      "application/vnd.jupyter.widget-view+json": {
       "model_id": "d2e80e53a2a9461bbc51daf8dcf96b5e",
       "version_major": 2,
       "version_minor": 0
      },
      "text/plain": [
       "Iterative optimization:   0%|          | 0/200 [00:00<?, ?it/s]"
      ]
     },
     "metadata": {},
     "output_type": "display_data"
    },
    {
     "data": {
      "application/vnd.jupyter.widget-view+json": {
       "model_id": "f94d8bd1c8154f5e9640813eb4c1c9c3",
       "version_major": 2,
       "version_minor": 0
      },
      "text/plain": [
       "Iterative optimization:   0%|          | 0/200 [00:00<?, ?it/s]"
      ]
     },
     "metadata": {},
     "output_type": "display_data"
    },
    {
     "data": {
      "application/vnd.jupyter.widget-view+json": {
       "model_id": "f7369d0482ad41b9b7b790244addb57d",
       "version_major": 2,
       "version_minor": 0
      },
      "text/plain": [
       "Iterative optimization:   0%|          | 0/200 [00:00<?, ?it/s]"
      ]
     },
     "metadata": {},
     "output_type": "display_data"
    },
    {
     "data": {
      "application/vnd.jupyter.widget-view+json": {
       "model_id": "7e065afc4bcb49538fd575d41f4e5325",
       "version_major": 2,
       "version_minor": 0
      },
      "text/plain": [
       "Computing synthetic controls:   0%|          | 0/5 [00:00<?, ?it/s]"
      ]
     },
     "metadata": {},
     "output_type": "display_data"
    },
    {
     "data": {
      "application/vnd.jupyter.widget-view+json": {
       "model_id": "fe1c6626a62744f888a5952b8fe7ceb4",
       "version_major": 2,
       "version_minor": 0
      },
      "text/plain": [
       "Iterative optimization:   0%|          | 0/200 [00:00<?, ?it/s]"
      ]
     },
     "metadata": {},
     "output_type": "display_data"
    },
    {
     "data": {
      "application/vnd.jupyter.widget-view+json": {
       "model_id": "ccfb8ee64cbe430cb08630eb08757c1a",
       "version_major": 2,
       "version_minor": 0
      },
      "text/plain": [
       "Iterative optimization:   0%|          | 0/200 [00:00<?, ?it/s]"
      ]
     },
     "metadata": {},
     "output_type": "display_data"
    },
    {
     "data": {
      "application/vnd.jupyter.widget-view+json": {
       "model_id": "f8cd3a37bb2f4d05b08bdf13ee801d9d",
       "version_major": 2,
       "version_minor": 0
      },
      "text/plain": [
       "Iterative optimization:   0%|          | 0/200 [00:00<?, ?it/s]"
      ]
     },
     "metadata": {},
     "output_type": "display_data"
    },
    {
     "data": {
      "application/vnd.jupyter.widget-view+json": {
       "model_id": "f9087f1e9da9437b98954ddc6437106f",
       "version_major": 2,
       "version_minor": 0
      },
      "text/plain": [
       "Iterative optimization:   0%|          | 0/200 [00:00<?, ?it/s]"
      ]
     },
     "metadata": {},
     "output_type": "display_data"
    },
    {
     "data": {
      "application/vnd.jupyter.widget-view+json": {
       "model_id": "a2791496b769431e9955929b35cae736",
       "version_major": 2,
       "version_minor": 0
      },
      "text/plain": [
       "Iterative optimization:   0%|          | 0/200 [00:00<?, ?it/s]"
      ]
     },
     "metadata": {},
     "output_type": "display_data"
    },
    {
     "data": {
      "application/vnd.jupyter.widget-view+json": {
       "model_id": "22f8d1471f6a48c4973fadfc2f9aac08",
       "version_major": 2,
       "version_minor": 0
      },
      "text/plain": [
       "Iterative optimization:   0%|          | 0/200 [00:00<?, ?it/s]"
      ]
     },
     "metadata": {},
     "output_type": "display_data"
    },
    {
     "data": {
      "application/vnd.jupyter.widget-view+json": {
       "model_id": "0788b95694c94999b7d7746e4c37acc4",
       "version_major": 2,
       "version_minor": 0
      },
      "text/plain": [
       "Computing synthetic controls:   0%|          | 0/5 [00:00<?, ?it/s]"
      ]
     },
     "metadata": {},
     "output_type": "display_data"
    },
    {
     "data": {
      "application/vnd.jupyter.widget-view+json": {
       "model_id": "19089482e12a498ba621efcefa13b635",
       "version_major": 2,
       "version_minor": 0
      },
      "text/plain": [
       "Iterative optimization:   0%|          | 0/200 [00:00<?, ?it/s]"
      ]
     },
     "metadata": {},
     "output_type": "display_data"
    },
    {
     "data": {
      "application/vnd.jupyter.widget-view+json": {
       "model_id": "b3fc97e06014490eaa9ff17c06b6f934",
       "version_major": 2,
       "version_minor": 0
      },
      "text/plain": [
       "Iterative optimization:   0%|          | 0/200 [00:00<?, ?it/s]"
      ]
     },
     "metadata": {},
     "output_type": "display_data"
    },
    {
     "data": {
      "application/vnd.jupyter.widget-view+json": {
       "model_id": "8f560b423c7d4181a04130f7f5f50a9a",
       "version_major": 2,
       "version_minor": 0
      },
      "text/plain": [
       "Iterative optimization:   0%|          | 0/200 [00:00<?, ?it/s]"
      ]
     },
     "metadata": {},
     "output_type": "display_data"
    },
    {
     "data": {
      "application/vnd.jupyter.widget-view+json": {
       "model_id": "288bda6d413340e394c43452237b1398",
       "version_major": 2,
       "version_minor": 0
      },
      "text/plain": [
       "Iterative optimization:   0%|          | 0/200 [00:00<?, ?it/s]"
      ]
     },
     "metadata": {},
     "output_type": "display_data"
    },
    {
     "data": {
      "application/vnd.jupyter.widget-view+json": {
       "model_id": "24b598dab80b49ce9207f94193f6d56e",
       "version_major": 2,
       "version_minor": 0
      },
      "text/plain": [
       "Iterative optimization:   0%|          | 0/200 [00:00<?, ?it/s]"
      ]
     },
     "metadata": {},
     "output_type": "display_data"
    },
    {
     "data": {
      "application/vnd.jupyter.widget-view+json": {
       "model_id": "742c51b4aaac4ed29fb0fdb37de91bc3",
       "version_major": 2,
       "version_minor": 0
      },
      "text/plain": [
       "Iterative optimization:   0%|          | 0/200 [00:00<?, ?it/s]"
      ]
     },
     "metadata": {},
     "output_type": "display_data"
    },
    {
     "data": {
      "application/vnd.jupyter.widget-view+json": {
       "model_id": "19c72980aa7a4714b2d266fab4c00205",
       "version_major": 2,
       "version_minor": 0
      },
      "text/plain": [
       "Computing synthetic controls:   0%|          | 0/5 [00:00<?, ?it/s]"
      ]
     },
     "metadata": {},
     "output_type": "display_data"
    },
    {
     "data": {
      "application/vnd.jupyter.widget-view+json": {
       "model_id": "a671b8e160cc46a8b02f199566ead985",
       "version_major": 2,
       "version_minor": 0
      },
      "text/plain": [
       "Iterative optimization:   0%|          | 0/200 [00:00<?, ?it/s]"
      ]
     },
     "metadata": {},
     "output_type": "display_data"
    },
    {
     "data": {
      "application/vnd.jupyter.widget-view+json": {
       "model_id": "636e73643b19492ea23ce1ac9458ea92",
       "version_major": 2,
       "version_minor": 0
      },
      "text/plain": [
       "Iterative optimization:   0%|          | 0/200 [00:00<?, ?it/s]"
      ]
     },
     "metadata": {},
     "output_type": "display_data"
    },
    {
     "data": {
      "application/vnd.jupyter.widget-view+json": {
       "model_id": "5b1ea0e52b4f4db781e0e8040360b017",
       "version_major": 2,
       "version_minor": 0
      },
      "text/plain": [
       "Iterative optimization:   0%|          | 0/200 [00:00<?, ?it/s]"
      ]
     },
     "metadata": {},
     "output_type": "display_data"
    },
    {
     "data": {
      "application/vnd.jupyter.widget-view+json": {
       "model_id": "5d1da551a6a148749becb001e3a56893",
       "version_major": 2,
       "version_minor": 0
      },
      "text/plain": [
       "Iterative optimization:   0%|          | 0/200 [00:00<?, ?it/s]"
      ]
     },
     "metadata": {},
     "output_type": "display_data"
    },
    {
     "data": {
      "application/vnd.jupyter.widget-view+json": {
       "model_id": "cf343954ccf143839711d0c049449306",
       "version_major": 2,
       "version_minor": 0
      },
      "text/plain": [
       "Iterative optimization:   0%|          | 0/200 [00:00<?, ?it/s]"
      ]
     },
     "metadata": {},
     "output_type": "display_data"
    },
    {
     "data": {
      "application/vnd.jupyter.widget-view+json": {
       "model_id": "ff372f84715d4b99960de59d42b617e6",
       "version_major": 2,
       "version_minor": 0
      },
      "text/plain": [
       "Iterative optimization:   0%|          | 0/200 [00:00<?, ?it/s]"
      ]
     },
     "metadata": {},
     "output_type": "display_data"
    },
    {
     "data": {
      "application/vnd.jupyter.widget-view+json": {
       "model_id": "e7e8d4fe98f94e1ab3a5961e0d99b633",
       "version_major": 2,
       "version_minor": 0
      },
      "text/plain": [
       "Computing synthetic controls:   0%|          | 0/5 [00:00<?, ?it/s]"
      ]
     },
     "metadata": {},
     "output_type": "display_data"
    },
    {
     "data": {
      "application/vnd.jupyter.widget-view+json": {
       "model_id": "2049283771c1467b84cc323ca629e2cb",
       "version_major": 2,
       "version_minor": 0
      },
      "text/plain": [
       "Iterative optimization:   0%|          | 0/200 [00:00<?, ?it/s]"
      ]
     },
     "metadata": {},
     "output_type": "display_data"
    },
    {
     "data": {
      "application/vnd.jupyter.widget-view+json": {
       "model_id": "58acbb7ab1a34828bd84779231a9434a",
       "version_major": 2,
       "version_minor": 0
      },
      "text/plain": [
       "Iterative optimization:   0%|          | 0/200 [00:00<?, ?it/s]"
      ]
     },
     "metadata": {},
     "output_type": "display_data"
    },
    {
     "data": {
      "application/vnd.jupyter.widget-view+json": {
       "model_id": "a50ed326223544f7ba8c8b8a7204ddf1",
       "version_major": 2,
       "version_minor": 0
      },
      "text/plain": [
       "Iterative optimization:   0%|          | 0/200 [00:00<?, ?it/s]"
      ]
     },
     "metadata": {},
     "output_type": "display_data"
    },
    {
     "data": {
      "application/vnd.jupyter.widget-view+json": {
       "model_id": "837e6e2137fa46e0b509db20d2d0fa2d",
       "version_major": 2,
       "version_minor": 0
      },
      "text/plain": [
       "Iterative optimization:   0%|          | 0/200 [00:00<?, ?it/s]"
      ]
     },
     "metadata": {},
     "output_type": "display_data"
    },
    {
     "data": {
      "application/vnd.jupyter.widget-view+json": {
       "model_id": "ec4114f061fe4f4ea9ca443021a37f8d",
       "version_major": 2,
       "version_minor": 0
      },
      "text/plain": [
       "Iterative optimization:   0%|          | 0/200 [00:00<?, ?it/s]"
      ]
     },
     "metadata": {},
     "output_type": "display_data"
    },
    {
     "data": {
      "application/vnd.jupyter.widget-view+json": {
       "model_id": "955152b27bdb47929613de06ee44cc23",
       "version_major": 2,
       "version_minor": 0
      },
      "text/plain": [
       "Iterative optimization:   0%|          | 0/200 [00:00<?, ?it/s]"
      ]
     },
     "metadata": {},
     "output_type": "display_data"
    },
    {
     "data": {
      "application/vnd.jupyter.widget-view+json": {
       "model_id": "4d20c431e2334f2b84e3ae18d6b64548",
       "version_major": 2,
       "version_minor": 0
      },
      "text/plain": [
       "Computing synthetic controls:   0%|          | 0/5 [00:00<?, ?it/s]"
      ]
     },
     "metadata": {},
     "output_type": "display_data"
    },
    {
     "data": {
      "application/vnd.jupyter.widget-view+json": {
       "model_id": "55a6e8e728c948af99d2bc7c14267f42",
       "version_major": 2,
       "version_minor": 0
      },
      "text/plain": [
       "Iterative optimization:   0%|          | 0/200 [00:00<?, ?it/s]"
      ]
     },
     "metadata": {},
     "output_type": "display_data"
    },
    {
     "data": {
      "application/vnd.jupyter.widget-view+json": {
       "model_id": "e65f52dc6fe64cf29d95014f4aedb7ce",
       "version_major": 2,
       "version_minor": 0
      },
      "text/plain": [
       "Iterative optimization:   0%|          | 0/200 [00:00<?, ?it/s]"
      ]
     },
     "metadata": {},
     "output_type": "display_data"
    },
    {
     "data": {
      "application/vnd.jupyter.widget-view+json": {
       "model_id": "91dd31a00e2640ee9456adc7679dc572",
       "version_major": 2,
       "version_minor": 0
      },
      "text/plain": [
       "Iterative optimization:   0%|          | 0/200 [00:00<?, ?it/s]"
      ]
     },
     "metadata": {},
     "output_type": "display_data"
    },
    {
     "data": {
      "application/vnd.jupyter.widget-view+json": {
       "model_id": "27caf79915154b1e8a1393d8b7c382c0",
       "version_major": 2,
       "version_minor": 0
      },
      "text/plain": [
       "Iterative optimization:   0%|          | 0/200 [00:00<?, ?it/s]"
      ]
     },
     "metadata": {},
     "output_type": "display_data"
    },
    {
     "data": {
      "application/vnd.jupyter.widget-view+json": {
       "model_id": "d6c09a82d09840abacb98644c9e9382e",
       "version_major": 2,
       "version_minor": 0
      },
      "text/plain": [
       "Iterative optimization:   0%|          | 0/200 [00:00<?, ?it/s]"
      ]
     },
     "metadata": {},
     "output_type": "display_data"
    },
    {
     "data": {
      "application/vnd.jupyter.widget-view+json": {
       "model_id": "70cfeb724ef5489a9706c7478335491a",
       "version_major": 2,
       "version_minor": 0
      },
      "text/plain": [
       "Iterative optimization:   0%|          | 0/200 [00:00<?, ?it/s]"
      ]
     },
     "metadata": {},
     "output_type": "display_data"
    },
    {
     "data": {
      "application/vnd.jupyter.widget-view+json": {
       "model_id": "d54ab669ed30462587436fe0067131aa",
       "version_major": 2,
       "version_minor": 0
      },
      "text/plain": [
       "Computing synthetic controls:   0%|          | 0/5 [00:00<?, ?it/s]"
      ]
     },
     "metadata": {},
     "output_type": "display_data"
    },
    {
     "data": {
      "application/vnd.jupyter.widget-view+json": {
       "model_id": "f7212d6c9ad54420a40ca0c9e4935efe",
       "version_major": 2,
       "version_minor": 0
      },
      "text/plain": [
       "Iterative optimization:   0%|          | 0/200 [00:00<?, ?it/s]"
      ]
     },
     "metadata": {},
     "output_type": "display_data"
    },
    {
     "data": {
      "application/vnd.jupyter.widget-view+json": {
       "model_id": "a74fc6b9517f4fb1a88983cdd20aef28",
       "version_major": 2,
       "version_minor": 0
      },
      "text/plain": [
       "Iterative optimization:   0%|          | 0/200 [00:00<?, ?it/s]"
      ]
     },
     "metadata": {},
     "output_type": "display_data"
    },
    {
     "data": {
      "application/vnd.jupyter.widget-view+json": {
       "model_id": "28352b801c764dd091f3d72e3604540e",
       "version_major": 2,
       "version_minor": 0
      },
      "text/plain": [
       "Iterative optimization:   0%|          | 0/200 [00:00<?, ?it/s]"
      ]
     },
     "metadata": {},
     "output_type": "display_data"
    },
    {
     "data": {
      "application/vnd.jupyter.widget-view+json": {
       "model_id": "76672072613f4b248bdb9c199df27ca4",
       "version_major": 2,
       "version_minor": 0
      },
      "text/plain": [
       "Iterative optimization:   0%|          | 0/200 [00:00<?, ?it/s]"
      ]
     },
     "metadata": {},
     "output_type": "display_data"
    },
    {
     "data": {
      "application/vnd.jupyter.widget-view+json": {
       "model_id": "aba2afb3caa544599bf3366da23bd50b",
       "version_major": 2,
       "version_minor": 0
      },
      "text/plain": [
       "Iterative optimization:   0%|          | 0/200 [00:00<?, ?it/s]"
      ]
     },
     "metadata": {},
     "output_type": "display_data"
    },
    {
     "data": {
      "application/vnd.jupyter.widget-view+json": {
       "model_id": "c12fb953a9bb4bbb9eea604ae9dd85ca",
       "version_major": 2,
       "version_minor": 0
      },
      "text/plain": [
       "Iterative optimization:   0%|          | 0/200 [00:00<?, ?it/s]"
      ]
     },
     "metadata": {},
     "output_type": "display_data"
    },
    {
     "data": {
      "application/vnd.jupyter.widget-view+json": {
       "model_id": "d2227ff5336044df95c81f88e457aa68",
       "version_major": 2,
       "version_minor": 0
      },
      "text/plain": [
       "Computing synthetic controls:   0%|          | 0/5 [00:00<?, ?it/s]"
      ]
     },
     "metadata": {},
     "output_type": "display_data"
    },
    {
     "data": {
      "application/vnd.jupyter.widget-view+json": {
       "model_id": "3fee4e88efe741768adaab42462f5f05",
       "version_major": 2,
       "version_minor": 0
      },
      "text/plain": [
       "Iterative optimization:   0%|          | 0/200 [00:00<?, ?it/s]"
      ]
     },
     "metadata": {},
     "output_type": "display_data"
    },
    {
     "data": {
      "application/vnd.jupyter.widget-view+json": {
       "model_id": "7c42ad546c3d4b7a9b9a52324f3341a3",
       "version_major": 2,
       "version_minor": 0
      },
      "text/plain": [
       "Iterative optimization:   0%|          | 0/200 [00:00<?, ?it/s]"
      ]
     },
     "metadata": {},
     "output_type": "display_data"
    },
    {
     "data": {
      "application/vnd.jupyter.widget-view+json": {
       "model_id": "088e2383b7c4496788ce9659c924c5b2",
       "version_major": 2,
       "version_minor": 0
      },
      "text/plain": [
       "Iterative optimization:   0%|          | 0/200 [00:00<?, ?it/s]"
      ]
     },
     "metadata": {},
     "output_type": "display_data"
    },
    {
     "data": {
      "application/vnd.jupyter.widget-view+json": {
       "model_id": "10a02f7563ee4fbdb0c075ea9a4e24f0",
       "version_major": 2,
       "version_minor": 0
      },
      "text/plain": [
       "Iterative optimization:   0%|          | 0/200 [00:00<?, ?it/s]"
      ]
     },
     "metadata": {},
     "output_type": "display_data"
    },
    {
     "data": {
      "application/vnd.jupyter.widget-view+json": {
       "model_id": "7da5230a55f640d89d1c29b9b0e72477",
       "version_major": 2,
       "version_minor": 0
      },
      "text/plain": [
       "Iterative optimization:   0%|          | 0/200 [00:00<?, ?it/s]"
      ]
     },
     "metadata": {},
     "output_type": "display_data"
    },
    {
     "data": {
      "application/vnd.jupyter.widget-view+json": {
       "model_id": "c5c11b9d75e840d19cb89bcf9575e614",
       "version_major": 2,
       "version_minor": 0
      },
      "text/plain": [
       "Iterative optimization:   0%|          | 0/200 [00:00<?, ?it/s]"
      ]
     },
     "metadata": {},
     "output_type": "display_data"
    },
    {
     "data": {
      "application/vnd.jupyter.widget-view+json": {
       "model_id": "f3e86bc7694a4a8e915c8f86988134f1",
       "version_major": 2,
       "version_minor": 0
      },
      "text/plain": [
       "Computing synthetic controls:   0%|          | 0/5 [00:00<?, ?it/s]"
      ]
     },
     "metadata": {},
     "output_type": "display_data"
    },
    {
     "data": {
      "application/vnd.jupyter.widget-view+json": {
       "model_id": "d3f11f92796e4590a16f401735676b75",
       "version_major": 2,
       "version_minor": 0
      },
      "text/plain": [
       "Iterative optimization:   0%|          | 0/200 [00:00<?, ?it/s]"
      ]
     },
     "metadata": {},
     "output_type": "display_data"
    },
    {
     "data": {
      "application/vnd.jupyter.widget-view+json": {
       "model_id": "1e87ba6258e54b7f84051ced58e3e5d7",
       "version_major": 2,
       "version_minor": 0
      },
      "text/plain": [
       "Iterative optimization:   0%|          | 0/200 [00:00<?, ?it/s]"
      ]
     },
     "metadata": {},
     "output_type": "display_data"
    },
    {
     "data": {
      "application/vnd.jupyter.widget-view+json": {
       "model_id": "351c5eaef46848b6a8111629eb465e35",
       "version_major": 2,
       "version_minor": 0
      },
      "text/plain": [
       "Iterative optimization:   0%|          | 0/200 [00:00<?, ?it/s]"
      ]
     },
     "metadata": {},
     "output_type": "display_data"
    },
    {
     "data": {
      "application/vnd.jupyter.widget-view+json": {
       "model_id": "93688ff201de4c22a3c364eae626c1af",
       "version_major": 2,
       "version_minor": 0
      },
      "text/plain": [
       "Iterative optimization:   0%|          | 0/200 [00:00<?, ?it/s]"
      ]
     },
     "metadata": {},
     "output_type": "display_data"
    },
    {
     "data": {
      "application/vnd.jupyter.widget-view+json": {
       "model_id": "cbc6adfc400b47999f5bb7c250826b93",
       "version_major": 2,
       "version_minor": 0
      },
      "text/plain": [
       "Iterative optimization:   0%|          | 0/200 [00:00<?, ?it/s]"
      ]
     },
     "metadata": {},
     "output_type": "display_data"
    },
    {
     "data": {
      "application/vnd.jupyter.widget-view+json": {
       "model_id": "ec5aa6e10dc14047b2cd9437546b3673",
       "version_major": 2,
       "version_minor": 0
      },
      "text/plain": [
       "Iterative optimization:   0%|          | 0/200 [00:00<?, ?it/s]"
      ]
     },
     "metadata": {},
     "output_type": "display_data"
    },
    {
     "data": {
      "application/vnd.jupyter.widget-view+json": {
       "model_id": "483831d4acea4f4790aa82cc8be84dac",
       "version_major": 2,
       "version_minor": 0
      },
      "text/plain": [
       "Computing synthetic controls:   0%|          | 0/5 [00:00<?, ?it/s]"
      ]
     },
     "metadata": {},
     "output_type": "display_data"
    },
    {
     "data": {
      "application/vnd.jupyter.widget-view+json": {
       "model_id": "78a9d81ac98549a88a45bd2144770093",
       "version_major": 2,
       "version_minor": 0
      },
      "text/plain": [
       "Iterative optimization:   0%|          | 0/200 [00:00<?, ?it/s]"
      ]
     },
     "metadata": {},
     "output_type": "display_data"
    },
    {
     "data": {
      "application/vnd.jupyter.widget-view+json": {
       "model_id": "21c78a75dfb24ebcbebfe78b3ca07f36",
       "version_major": 2,
       "version_minor": 0
      },
      "text/plain": [
       "Iterative optimization:   0%|          | 0/200 [00:00<?, ?it/s]"
      ]
     },
     "metadata": {},
     "output_type": "display_data"
    },
    {
     "data": {
      "application/vnd.jupyter.widget-view+json": {
       "model_id": "da11492c8ea54345abcdf93e1c058b55",
       "version_major": 2,
       "version_minor": 0
      },
      "text/plain": [
       "Iterative optimization:   0%|          | 0/200 [00:00<?, ?it/s]"
      ]
     },
     "metadata": {},
     "output_type": "display_data"
    },
    {
     "data": {
      "application/vnd.jupyter.widget-view+json": {
       "model_id": "c3127e485d4a44299b71e81a0252bf65",
       "version_major": 2,
       "version_minor": 0
      },
      "text/plain": [
       "Iterative optimization:   0%|          | 0/200 [00:00<?, ?it/s]"
      ]
     },
     "metadata": {},
     "output_type": "display_data"
    },
    {
     "data": {
      "application/vnd.jupyter.widget-view+json": {
       "model_id": "2b7fe9d5f5c64a1687256d87d475df31",
       "version_major": 2,
       "version_minor": 0
      },
      "text/plain": [
       "Iterative optimization:   0%|          | 0/200 [00:00<?, ?it/s]"
      ]
     },
     "metadata": {},
     "output_type": "display_data"
    },
    {
     "data": {
      "application/vnd.jupyter.widget-view+json": {
       "model_id": "0147a3772eec4e4c866b3531423d2e30",
       "version_major": 2,
       "version_minor": 0
      },
      "text/plain": [
       "Iterative optimization:   0%|          | 0/200 [00:00<?, ?it/s]"
      ]
     },
     "metadata": {},
     "output_type": "display_data"
    },
    {
     "data": {
      "application/vnd.jupyter.widget-view+json": {
       "model_id": "caa6e5d531a14094b6b386db492c8c3f",
       "version_major": 2,
       "version_minor": 0
      },
      "text/plain": [
       "Computing synthetic controls:   0%|          | 0/5 [00:00<?, ?it/s]"
      ]
     },
     "metadata": {},
     "output_type": "display_data"
    },
    {
     "data": {
      "application/vnd.jupyter.widget-view+json": {
       "model_id": "d4e107641a8e443384ae0fcdebc06f16",
       "version_major": 2,
       "version_minor": 0
      },
      "text/plain": [
       "  0%|          | 0/33 [00:00<?, ?it/s]"
      ]
     },
     "metadata": {},
     "output_type": "display_data"
    },
    {
     "data": {
      "application/vnd.jupyter.widget-view+json": {
       "model_id": "fb66e3d2ee0749dfab8636aee9cdac7f",
       "version_major": 2,
       "version_minor": 0
      },
      "text/plain": [
       "Iterative optimization:   0%|          | 0/200 [00:00<?, ?it/s]"
      ]
     },
     "metadata": {},
     "output_type": "display_data"
    },
    {
     "data": {
      "application/vnd.jupyter.widget-view+json": {
       "model_id": "808c4b39d6b04482999806e0992c858e",
       "version_major": 2,
       "version_minor": 0
      },
      "text/plain": [
       "Iterative optimization:   0%|          | 0/200 [00:00<?, ?it/s]"
      ]
     },
     "metadata": {},
     "output_type": "display_data"
    },
    {
     "data": {
      "application/vnd.jupyter.widget-view+json": {
       "model_id": "adda95ad2e644c1591ddb492bc93212e",
       "version_major": 2,
       "version_minor": 0
      },
      "text/plain": [
       "Iterative optimization:   0%|          | 0/200 [00:00<?, ?it/s]"
      ]
     },
     "metadata": {},
     "output_type": "display_data"
    },
    {
     "data": {
      "application/vnd.jupyter.widget-view+json": {
       "model_id": "1baa1987db104e42963a80ac623ce97c",
       "version_major": 2,
       "version_minor": 0
      },
      "text/plain": [
       "Iterative optimization:   0%|          | 0/200 [00:00<?, ?it/s]"
      ]
     },
     "metadata": {},
     "output_type": "display_data"
    },
    {
     "data": {
      "application/vnd.jupyter.widget-view+json": {
       "model_id": "00d5d635683d48fea81548560bb3ac6e",
       "version_major": 2,
       "version_minor": 0
      },
      "text/plain": [
       "Iterative optimization:   0%|          | 0/200 [00:00<?, ?it/s]"
      ]
     },
     "metadata": {},
     "output_type": "display_data"
    },
    {
     "data": {
      "application/vnd.jupyter.widget-view+json": {
       "model_id": "17d77cd53db24ba980c27ee3a171952c",
       "version_major": 2,
       "version_minor": 0
      },
      "text/plain": [
       "Iterative optimization:   0%|          | 0/200 [00:00<?, ?it/s]"
      ]
     },
     "metadata": {},
     "output_type": "display_data"
    },
    {
     "data": {
      "application/vnd.jupyter.widget-view+json": {
       "model_id": "486911dfd912487d8ee4b414ffec862f",
       "version_major": 2,
       "version_minor": 0
      },
      "text/plain": [
       "Computing synthetic controls:   0%|          | 0/5 [00:00<?, ?it/s]"
      ]
     },
     "metadata": {},
     "output_type": "display_data"
    },
    {
     "data": {
      "application/vnd.jupyter.widget-view+json": {
       "model_id": "05e20a840d9e4fdb8f19fc5d286a8a54",
       "version_major": 2,
       "version_minor": 0
      },
      "text/plain": [
       "Iterative optimization:   0%|          | 0/200 [00:00<?, ?it/s]"
      ]
     },
     "metadata": {},
     "output_type": "display_data"
    },
    {
     "data": {
      "application/vnd.jupyter.widget-view+json": {
       "model_id": "61d76a0de9144841b0aa8afa059db63f",
       "version_major": 2,
       "version_minor": 0
      },
      "text/plain": [
       "Iterative optimization:   0%|          | 0/200 [00:00<?, ?it/s]"
      ]
     },
     "metadata": {},
     "output_type": "display_data"
    },
    {
     "data": {
      "application/vnd.jupyter.widget-view+json": {
       "model_id": "db84c615855b466c91ef8a21c44bb9ab",
       "version_major": 2,
       "version_minor": 0
      },
      "text/plain": [
       "Iterative optimization:   0%|          | 0/200 [00:00<?, ?it/s]"
      ]
     },
     "metadata": {},
     "output_type": "display_data"
    },
    {
     "data": {
      "application/vnd.jupyter.widget-view+json": {
       "model_id": "fe2a035ccb6c4ae49a5bb02a6166fd64",
       "version_major": 2,
       "version_minor": 0
      },
      "text/plain": [
       "Iterative optimization:   0%|          | 0/200 [00:00<?, ?it/s]"
      ]
     },
     "metadata": {},
     "output_type": "display_data"
    },
    {
     "data": {
      "application/vnd.jupyter.widget-view+json": {
       "model_id": "bfeaeb90254c4d0c9df15de7abfa0ac5",
       "version_major": 2,
       "version_minor": 0
      },
      "text/plain": [
       "Iterative optimization:   0%|          | 0/200 [00:00<?, ?it/s]"
      ]
     },
     "metadata": {},
     "output_type": "display_data"
    },
    {
     "data": {
      "application/vnd.jupyter.widget-view+json": {
       "model_id": "6cc9b11b00bd4e03b354180547431453",
       "version_major": 2,
       "version_minor": 0
      },
      "text/plain": [
       "Iterative optimization:   0%|          | 0/200 [00:00<?, ?it/s]"
      ]
     },
     "metadata": {},
     "output_type": "display_data"
    },
    {
     "data": {
      "application/vnd.jupyter.widget-view+json": {
       "model_id": "50ad719480ef4a8fb61335fc4d34fb7a",
       "version_major": 2,
       "version_minor": 0
      },
      "text/plain": [
       "Computing synthetic controls:   0%|          | 0/5 [00:00<?, ?it/s]"
      ]
     },
     "metadata": {},
     "output_type": "display_data"
    },
    {
     "data": {
      "application/vnd.jupyter.widget-view+json": {
       "model_id": "4b2525af055d495fb901a4e46e8cd3d2",
       "version_major": 2,
       "version_minor": 0
      },
      "text/plain": [
       "Iterative optimization:   0%|          | 0/200 [00:00<?, ?it/s]"
      ]
     },
     "metadata": {},
     "output_type": "display_data"
    },
    {
     "data": {
      "application/vnd.jupyter.widget-view+json": {
       "model_id": "4782c367be3740d6b13dd23b757fc2cf",
       "version_major": 2,
       "version_minor": 0
      },
      "text/plain": [
       "Iterative optimization:   0%|          | 0/200 [00:00<?, ?it/s]"
      ]
     },
     "metadata": {},
     "output_type": "display_data"
    },
    {
     "data": {
      "application/vnd.jupyter.widget-view+json": {
       "model_id": "f085c0419b754fbd9a2d1998f33b6d5f",
       "version_major": 2,
       "version_minor": 0
      },
      "text/plain": [
       "Iterative optimization:   0%|          | 0/200 [00:00<?, ?it/s]"
      ]
     },
     "metadata": {},
     "output_type": "display_data"
    },
    {
     "data": {
      "application/vnd.jupyter.widget-view+json": {
       "model_id": "57a06a5b8ab7428ead95e11f5b4e1ed7",
       "version_major": 2,
       "version_minor": 0
      },
      "text/plain": [
       "Iterative optimization:   0%|          | 0/200 [00:00<?, ?it/s]"
      ]
     },
     "metadata": {},
     "output_type": "display_data"
    },
    {
     "data": {
      "application/vnd.jupyter.widget-view+json": {
       "model_id": "270516bccc7448cea7fa868a34ae5f71",
       "version_major": 2,
       "version_minor": 0
      },
      "text/plain": [
       "Iterative optimization:   0%|          | 0/200 [00:00<?, ?it/s]"
      ]
     },
     "metadata": {},
     "output_type": "display_data"
    },
    {
     "data": {
      "application/vnd.jupyter.widget-view+json": {
       "model_id": "edb22b42406e4169b164a11e0c65e571",
       "version_major": 2,
       "version_minor": 0
      },
      "text/plain": [
       "Iterative optimization:   0%|          | 0/200 [00:00<?, ?it/s]"
      ]
     },
     "metadata": {},
     "output_type": "display_data"
    },
    {
     "data": {
      "application/vnd.jupyter.widget-view+json": {
       "model_id": "5fd57a2c57144d1cbc4d5ab2cf2858ca",
       "version_major": 2,
       "version_minor": 0
      },
      "text/plain": [
       "Computing synthetic controls:   0%|          | 0/5 [00:00<?, ?it/s]"
      ]
     },
     "metadata": {},
     "output_type": "display_data"
    },
    {
     "data": {
      "application/vnd.jupyter.widget-view+json": {
       "model_id": "fd380185a9eb4339a5c50aa234736afe",
       "version_major": 2,
       "version_minor": 0
      },
      "text/plain": [
       "Iterative optimization:   0%|          | 0/200 [00:00<?, ?it/s]"
      ]
     },
     "metadata": {},
     "output_type": "display_data"
    },
    {
     "data": {
      "application/vnd.jupyter.widget-view+json": {
       "model_id": "f32e1b86e387403fa72662ecf94a69f3",
       "version_major": 2,
       "version_minor": 0
      },
      "text/plain": [
       "Iterative optimization:   0%|          | 0/200 [00:00<?, ?it/s]"
      ]
     },
     "metadata": {},
     "output_type": "display_data"
    },
    {
     "data": {
      "application/vnd.jupyter.widget-view+json": {
       "model_id": "0a124a861a694d3ab45da199b5c9e39d",
       "version_major": 2,
       "version_minor": 0
      },
      "text/plain": [
       "Iterative optimization:   0%|          | 0/200 [00:00<?, ?it/s]"
      ]
     },
     "metadata": {},
     "output_type": "display_data"
    },
    {
     "data": {
      "application/vnd.jupyter.widget-view+json": {
       "model_id": "ee8f7627a8dc474ea033dc3cf9623aea",
       "version_major": 2,
       "version_minor": 0
      },
      "text/plain": [
       "Iterative optimization:   0%|          | 0/200 [00:00<?, ?it/s]"
      ]
     },
     "metadata": {},
     "output_type": "display_data"
    },
    {
     "data": {
      "application/vnd.jupyter.widget-view+json": {
       "model_id": "9a227061f1e84186976956cc7b7f84f7",
       "version_major": 2,
       "version_minor": 0
      },
      "text/plain": [
       "Iterative optimization:   0%|          | 0/200 [00:00<?, ?it/s]"
      ]
     },
     "metadata": {},
     "output_type": "display_data"
    },
    {
     "data": {
      "application/vnd.jupyter.widget-view+json": {
       "model_id": "fefa38da75a44d17a20d138a412da651",
       "version_major": 2,
       "version_minor": 0
      },
      "text/plain": [
       "Iterative optimization:   0%|          | 0/200 [00:00<?, ?it/s]"
      ]
     },
     "metadata": {},
     "output_type": "display_data"
    },
    {
     "data": {
      "application/vnd.jupyter.widget-view+json": {
       "model_id": "86dba17851ce4125aaa93ed5c00bdd3e",
       "version_major": 2,
       "version_minor": 0
      },
      "text/plain": [
       "Computing synthetic controls:   0%|          | 0/5 [00:00<?, ?it/s]"
      ]
     },
     "metadata": {},
     "output_type": "display_data"
    },
    {
     "data": {
      "application/vnd.jupyter.widget-view+json": {
       "model_id": "2429e8dc4b8b490797e6720e62513b41",
       "version_major": 2,
       "version_minor": 0
      },
      "text/plain": [
       "Iterative optimization:   0%|          | 0/200 [00:00<?, ?it/s]"
      ]
     },
     "metadata": {},
     "output_type": "display_data"
    },
    {
     "data": {
      "application/vnd.jupyter.widget-view+json": {
       "model_id": "a1e00a1ac89f46f0b991ad8087a3a6dc",
       "version_major": 2,
       "version_minor": 0
      },
      "text/plain": [
       "Iterative optimization:   0%|          | 0/200 [00:00<?, ?it/s]"
      ]
     },
     "metadata": {},
     "output_type": "display_data"
    },
    {
     "data": {
      "application/vnd.jupyter.widget-view+json": {
       "model_id": "aea02e22c6634978aa26586ca9e003a4",
       "version_major": 2,
       "version_minor": 0
      },
      "text/plain": [
       "Iterative optimization:   0%|          | 0/200 [00:00<?, ?it/s]"
      ]
     },
     "metadata": {},
     "output_type": "display_data"
    },
    {
     "data": {
      "application/vnd.jupyter.widget-view+json": {
       "model_id": "36414884153c49ceacc6d55716fe37ca",
       "version_major": 2,
       "version_minor": 0
      },
      "text/plain": [
       "Iterative optimization:   0%|          | 0/200 [00:00<?, ?it/s]"
      ]
     },
     "metadata": {},
     "output_type": "display_data"
    },
    {
     "data": {
      "application/vnd.jupyter.widget-view+json": {
       "model_id": "affe298ff66241afb5883d386fda648a",
       "version_major": 2,
       "version_minor": 0
      },
      "text/plain": [
       "Iterative optimization:   0%|          | 0/200 [00:00<?, ?it/s]"
      ]
     },
     "metadata": {},
     "output_type": "display_data"
    },
    {
     "data": {
      "application/vnd.jupyter.widget-view+json": {
       "model_id": "27cac5744f954ce7adf75b14434bc3cb",
       "version_major": 2,
       "version_minor": 0
      },
      "text/plain": [
       "Iterative optimization:   0%|          | 0/200 [00:00<?, ?it/s]"
      ]
     },
     "metadata": {},
     "output_type": "display_data"
    },
    {
     "data": {
      "application/vnd.jupyter.widget-view+json": {
       "model_id": "cf0511bb2eea4e76b19a804f35c3d8db",
       "version_major": 2,
       "version_minor": 0
      },
      "text/plain": [
       "Computing synthetic controls:   0%|          | 0/5 [00:00<?, ?it/s]"
      ]
     },
     "metadata": {},
     "output_type": "display_data"
    },
    {
     "data": {
      "application/vnd.jupyter.widget-view+json": {
       "model_id": "f59a6e3bb369437c8a0edc9c8ff85a7e",
       "version_major": 2,
       "version_minor": 0
      },
      "text/plain": [
       "Iterative optimization:   0%|          | 0/200 [00:00<?, ?it/s]"
      ]
     },
     "metadata": {},
     "output_type": "display_data"
    },
    {
     "data": {
      "application/vnd.jupyter.widget-view+json": {
       "model_id": "39c4beeaf02748d2a48809f85b1cba92",
       "version_major": 2,
       "version_minor": 0
      },
      "text/plain": [
       "Iterative optimization:   0%|          | 0/200 [00:00<?, ?it/s]"
      ]
     },
     "metadata": {},
     "output_type": "display_data"
    },
    {
     "data": {
      "application/vnd.jupyter.widget-view+json": {
       "model_id": "10fab087041645ae9d3f62fbe284a117",
       "version_major": 2,
       "version_minor": 0
      },
      "text/plain": [
       "Iterative optimization:   0%|          | 0/200 [00:00<?, ?it/s]"
      ]
     },
     "metadata": {},
     "output_type": "display_data"
    },
    {
     "data": {
      "application/vnd.jupyter.widget-view+json": {
       "model_id": "fc0d23de50b2461fa9bd919a809acac5",
       "version_major": 2,
       "version_minor": 0
      },
      "text/plain": [
       "Iterative optimization:   0%|          | 0/200 [00:00<?, ?it/s]"
      ]
     },
     "metadata": {},
     "output_type": "display_data"
    },
    {
     "data": {
      "application/vnd.jupyter.widget-view+json": {
       "model_id": "74312df708c748b09c29582d9f3cb76e",
       "version_major": 2,
       "version_minor": 0
      },
      "text/plain": [
       "Iterative optimization:   0%|          | 0/200 [00:00<?, ?it/s]"
      ]
     },
     "metadata": {},
     "output_type": "display_data"
    },
    {
     "data": {
      "application/vnd.jupyter.widget-view+json": {
       "model_id": "7bf4af844b5c405383f6537eebfcafd2",
       "version_major": 2,
       "version_minor": 0
      },
      "text/plain": [
       "Iterative optimization:   0%|          | 0/200 [00:00<?, ?it/s]"
      ]
     },
     "metadata": {},
     "output_type": "display_data"
    },
    {
     "data": {
      "application/vnd.jupyter.widget-view+json": {
       "model_id": "72a1a800a0ae4b248aeadc79c236b5cf",
       "version_major": 2,
       "version_minor": 0
      },
      "text/plain": [
       "Computing synthetic controls:   0%|          | 0/5 [00:00<?, ?it/s]"
      ]
     },
     "metadata": {},
     "output_type": "display_data"
    },
    {
     "data": {
      "application/vnd.jupyter.widget-view+json": {
       "model_id": "070e19fbc38445b28d56116b955e4e01",
       "version_major": 2,
       "version_minor": 0
      },
      "text/plain": [
       "Iterative optimization:   0%|          | 0/200 [00:00<?, ?it/s]"
      ]
     },
     "metadata": {},
     "output_type": "display_data"
    },
    {
     "data": {
      "application/vnd.jupyter.widget-view+json": {
       "model_id": "93f1ec3096f8446baa4547ace85dd9fd",
       "version_major": 2,
       "version_minor": 0
      },
      "text/plain": [
       "Iterative optimization:   0%|          | 0/200 [00:00<?, ?it/s]"
      ]
     },
     "metadata": {},
     "output_type": "display_data"
    },
    {
     "data": {
      "application/vnd.jupyter.widget-view+json": {
       "model_id": "2d0bde1c079c4865a06930ee6951b3c8",
       "version_major": 2,
       "version_minor": 0
      },
      "text/plain": [
       "Iterative optimization:   0%|          | 0/200 [00:00<?, ?it/s]"
      ]
     },
     "metadata": {},
     "output_type": "display_data"
    },
    {
     "data": {
      "application/vnd.jupyter.widget-view+json": {
       "model_id": "9f6d14e2f43e4c06a0c8bc329562589b",
       "version_major": 2,
       "version_minor": 0
      },
      "text/plain": [
       "Iterative optimization:   0%|          | 0/200 [00:00<?, ?it/s]"
      ]
     },
     "metadata": {},
     "output_type": "display_data"
    },
    {
     "data": {
      "application/vnd.jupyter.widget-view+json": {
       "model_id": "36defa331c08435b9d9218f90c9358f0",
       "version_major": 2,
       "version_minor": 0
      },
      "text/plain": [
       "Iterative optimization:   0%|          | 0/200 [00:00<?, ?it/s]"
      ]
     },
     "metadata": {},
     "output_type": "display_data"
    },
    {
     "data": {
      "application/vnd.jupyter.widget-view+json": {
       "model_id": "9b2e62e061b04b22b2db788fab3760e2",
       "version_major": 2,
       "version_minor": 0
      },
      "text/plain": [
       "Iterative optimization:   0%|          | 0/200 [00:00<?, ?it/s]"
      ]
     },
     "metadata": {},
     "output_type": "display_data"
    },
    {
     "data": {
      "application/vnd.jupyter.widget-view+json": {
       "model_id": "ea773f409de14cd0b95a08202cf5c925",
       "version_major": 2,
       "version_minor": 0
      },
      "text/plain": [
       "Computing synthetic controls:   0%|          | 0/5 [00:00<?, ?it/s]"
      ]
     },
     "metadata": {},
     "output_type": "display_data"
    },
    {
     "data": {
      "application/vnd.jupyter.widget-view+json": {
       "model_id": "1d39afd7d1c7428fa933ca3f44b3e216",
       "version_major": 2,
       "version_minor": 0
      },
      "text/plain": [
       "Iterative optimization:   0%|          | 0/200 [00:00<?, ?it/s]"
      ]
     },
     "metadata": {},
     "output_type": "display_data"
    },
    {
     "data": {
      "application/vnd.jupyter.widget-view+json": {
       "model_id": "751fc1043e534c9eb1180cc42ab8852b",
       "version_major": 2,
       "version_minor": 0
      },
      "text/plain": [
       "Iterative optimization:   0%|          | 0/200 [00:00<?, ?it/s]"
      ]
     },
     "metadata": {},
     "output_type": "display_data"
    },
    {
     "data": {
      "application/vnd.jupyter.widget-view+json": {
       "model_id": "6cc9168be6204ac5a0333d39bf188952",
       "version_major": 2,
       "version_minor": 0
      },
      "text/plain": [
       "Iterative optimization:   0%|          | 0/200 [00:00<?, ?it/s]"
      ]
     },
     "metadata": {},
     "output_type": "display_data"
    },
    {
     "data": {
      "application/vnd.jupyter.widget-view+json": {
       "model_id": "3fdb4f66244c4d0998d0d026a50efb3a",
       "version_major": 2,
       "version_minor": 0
      },
      "text/plain": [
       "Iterative optimization:   0%|          | 0/200 [00:00<?, ?it/s]"
      ]
     },
     "metadata": {},
     "output_type": "display_data"
    },
    {
     "data": {
      "application/vnd.jupyter.widget-view+json": {
       "model_id": "9be9badb468f4c81b43684e1238be54e",
       "version_major": 2,
       "version_minor": 0
      },
      "text/plain": [
       "Iterative optimization:   0%|          | 0/200 [00:00<?, ?it/s]"
      ]
     },
     "metadata": {},
     "output_type": "display_data"
    },
    {
     "data": {
      "application/vnd.jupyter.widget-view+json": {
       "model_id": "1e407b198ca04443b31f53468ec3f27b",
       "version_major": 2,
       "version_minor": 0
      },
      "text/plain": [
       "Iterative optimization:   0%|          | 0/200 [00:00<?, ?it/s]"
      ]
     },
     "metadata": {},
     "output_type": "display_data"
    },
    {
     "data": {
      "application/vnd.jupyter.widget-view+json": {
       "model_id": "ab771d7b665a4022813df597cbd3a43d",
       "version_major": 2,
       "version_minor": 0
      },
      "text/plain": [
       "Computing synthetic controls:   0%|          | 0/5 [00:00<?, ?it/s]"
      ]
     },
     "metadata": {},
     "output_type": "display_data"
    },
    {
     "data": {
      "application/vnd.jupyter.widget-view+json": {
       "model_id": "4e9db5a2bbb54dcc853c9309f23e1606",
       "version_major": 2,
       "version_minor": 0
      },
      "text/plain": [
       "Iterative optimization:   0%|          | 0/200 [00:00<?, ?it/s]"
      ]
     },
     "metadata": {},
     "output_type": "display_data"
    },
    {
     "data": {
      "application/vnd.jupyter.widget-view+json": {
       "model_id": "cdaeb940de1a426f91f4182d35fe7808",
       "version_major": 2,
       "version_minor": 0
      },
      "text/plain": [
       "Iterative optimization:   0%|          | 0/200 [00:00<?, ?it/s]"
      ]
     },
     "metadata": {},
     "output_type": "display_data"
    },
    {
     "data": {
      "application/vnd.jupyter.widget-view+json": {
       "model_id": "3c2885cd9d5244afb3e2982e98da179e",
       "version_major": 2,
       "version_minor": 0
      },
      "text/plain": [
       "Iterative optimization:   0%|          | 0/200 [00:00<?, ?it/s]"
      ]
     },
     "metadata": {},
     "output_type": "display_data"
    },
    {
     "data": {
      "application/vnd.jupyter.widget-view+json": {
       "model_id": "df8dabe1309a4250bdfe949387f697a2",
       "version_major": 2,
       "version_minor": 0
      },
      "text/plain": [
       "Iterative optimization:   0%|          | 0/200 [00:00<?, ?it/s]"
      ]
     },
     "metadata": {},
     "output_type": "display_data"
    },
    {
     "data": {
      "application/vnd.jupyter.widget-view+json": {
       "model_id": "107849cef6b146f590c29e0397b0d077",
       "version_major": 2,
       "version_minor": 0
      },
      "text/plain": [
       "Iterative optimization:   0%|          | 0/200 [00:00<?, ?it/s]"
      ]
     },
     "metadata": {},
     "output_type": "display_data"
    },
    {
     "data": {
      "application/vnd.jupyter.widget-view+json": {
       "model_id": "bbf174cea9ed407193cd53403fd140a8",
       "version_major": 2,
       "version_minor": 0
      },
      "text/plain": [
       "Iterative optimization:   0%|          | 0/200 [00:00<?, ?it/s]"
      ]
     },
     "metadata": {},
     "output_type": "display_data"
    },
    {
     "data": {
      "application/vnd.jupyter.widget-view+json": {
       "model_id": "1b3e3cea2e0342829d1118bea16e29f6",
       "version_major": 2,
       "version_minor": 0
      },
      "text/plain": [
       "Computing synthetic controls:   0%|          | 0/5 [00:00<?, ?it/s]"
      ]
     },
     "metadata": {},
     "output_type": "display_data"
    },
    {
     "data": {
      "application/vnd.jupyter.widget-view+json": {
       "model_id": "c6abcf0c7a7c4b8088965c2ad847a6cf",
       "version_major": 2,
       "version_minor": 0
      },
      "text/plain": [
       "Iterative optimization:   0%|          | 0/200 [00:00<?, ?it/s]"
      ]
     },
     "metadata": {},
     "output_type": "display_data"
    },
    {
     "data": {
      "application/vnd.jupyter.widget-view+json": {
       "model_id": "819ae8db67dd4aa8a6e5cabb3f5429a6",
       "version_major": 2,
       "version_minor": 0
      },
      "text/plain": [
       "Iterative optimization:   0%|          | 0/200 [00:00<?, ?it/s]"
      ]
     },
     "metadata": {},
     "output_type": "display_data"
    },
    {
     "data": {
      "application/vnd.jupyter.widget-view+json": {
       "model_id": "e9a4260d1b7d45e9bbc255bbb375303c",
       "version_major": 2,
       "version_minor": 0
      },
      "text/plain": [
       "Iterative optimization:   0%|          | 0/200 [00:00<?, ?it/s]"
      ]
     },
     "metadata": {},
     "output_type": "display_data"
    },
    {
     "data": {
      "application/vnd.jupyter.widget-view+json": {
       "model_id": "6f9bee3e183241d8a269b9bcf3850ee5",
       "version_major": 2,
       "version_minor": 0
      },
      "text/plain": [
       "Iterative optimization:   0%|          | 0/200 [00:00<?, ?it/s]"
      ]
     },
     "metadata": {},
     "output_type": "display_data"
    },
    {
     "data": {
      "application/vnd.jupyter.widget-view+json": {
       "model_id": "f9b02b7525f14d5bab78d39248dab3ec",
       "version_major": 2,
       "version_minor": 0
      },
      "text/plain": [
       "Iterative optimization:   0%|          | 0/200 [00:00<?, ?it/s]"
      ]
     },
     "metadata": {},
     "output_type": "display_data"
    },
    {
     "data": {
      "application/vnd.jupyter.widget-view+json": {
       "model_id": "b263ad51c92648e9afa3a48cfc924360",
       "version_major": 2,
       "version_minor": 0
      },
      "text/plain": [
       "Iterative optimization:   0%|          | 0/200 [00:00<?, ?it/s]"
      ]
     },
     "metadata": {},
     "output_type": "display_data"
    },
    {
     "data": {
      "application/vnd.jupyter.widget-view+json": {
       "model_id": "be7f747462e84694b3bf3d36b24098b6",
       "version_major": 2,
       "version_minor": 0
      },
      "text/plain": [
       "Computing synthetic controls:   0%|          | 0/5 [00:00<?, ?it/s]"
      ]
     },
     "metadata": {},
     "output_type": "display_data"
    },
    {
     "data": {
      "application/vnd.jupyter.widget-view+json": {
       "model_id": "6652213f258f4a52b44c9bb35cbc0c9e",
       "version_major": 2,
       "version_minor": 0
      },
      "text/plain": [
       "Iterative optimization:   0%|          | 0/200 [00:00<?, ?it/s]"
      ]
     },
     "metadata": {},
     "output_type": "display_data"
    },
    {
     "data": {
      "application/vnd.jupyter.widget-view+json": {
       "model_id": "ff8c18e40f5f472d80bb3d22e936d557",
       "version_major": 2,
       "version_minor": 0
      },
      "text/plain": [
       "Iterative optimization:   0%|          | 0/200 [00:00<?, ?it/s]"
      ]
     },
     "metadata": {},
     "output_type": "display_data"
    },
    {
     "data": {
      "application/vnd.jupyter.widget-view+json": {
       "model_id": "757a0591cfa44708a8ef5aff961c73fb",
       "version_major": 2,
       "version_minor": 0
      },
      "text/plain": [
       "Iterative optimization:   0%|          | 0/200 [00:00<?, ?it/s]"
      ]
     },
     "metadata": {},
     "output_type": "display_data"
    },
    {
     "data": {
      "application/vnd.jupyter.widget-view+json": {
       "model_id": "1fecc9dc2f00450c87c07bfb665252e2",
       "version_major": 2,
       "version_minor": 0
      },
      "text/plain": [
       "Iterative optimization:   0%|          | 0/200 [00:00<?, ?it/s]"
      ]
     },
     "metadata": {},
     "output_type": "display_data"
    },
    {
     "data": {
      "application/vnd.jupyter.widget-view+json": {
       "model_id": "d816cf2ccfdd44d3b4c3fc6e0896deef",
       "version_major": 2,
       "version_minor": 0
      },
      "text/plain": [
       "Iterative optimization:   0%|          | 0/200 [00:00<?, ?it/s]"
      ]
     },
     "metadata": {},
     "output_type": "display_data"
    },
    {
     "data": {
      "application/vnd.jupyter.widget-view+json": {
       "model_id": "b16a49aa20a64c148c8c5f9dd9b1d2bd",
       "version_major": 2,
       "version_minor": 0
      },
      "text/plain": [
       "Iterative optimization:   0%|          | 0/200 [00:00<?, ?it/s]"
      ]
     },
     "metadata": {},
     "output_type": "display_data"
    },
    {
     "data": {
      "application/vnd.jupyter.widget-view+json": {
       "model_id": "1415be0ad5ee40fb82d224f3167838b2",
       "version_major": 2,
       "version_minor": 0
      },
      "text/plain": [
       "Computing synthetic controls:   0%|          | 0/5 [00:00<?, ?it/s]"
      ]
     },
     "metadata": {},
     "output_type": "display_data"
    },
    {
     "data": {
      "application/vnd.jupyter.widget-view+json": {
       "model_id": "0a41885c690d4feb9867ec362ebe4edb",
       "version_major": 2,
       "version_minor": 0
      },
      "text/plain": [
       "Iterative optimization:   0%|          | 0/200 [00:00<?, ?it/s]"
      ]
     },
     "metadata": {},
     "output_type": "display_data"
    },
    {
     "data": {
      "application/vnd.jupyter.widget-view+json": {
       "model_id": "6861b32114bb425f8e7347dbfc60bf67",
       "version_major": 2,
       "version_minor": 0
      },
      "text/plain": [
       "Iterative optimization:   0%|          | 0/200 [00:00<?, ?it/s]"
      ]
     },
     "metadata": {},
     "output_type": "display_data"
    },
    {
     "data": {
      "application/vnd.jupyter.widget-view+json": {
       "model_id": "8fe761ae7f28418d92a2c8fba6692c01",
       "version_major": 2,
       "version_minor": 0
      },
      "text/plain": [
       "Iterative optimization:   0%|          | 0/200 [00:00<?, ?it/s]"
      ]
     },
     "metadata": {},
     "output_type": "display_data"
    },
    {
     "data": {
      "application/vnd.jupyter.widget-view+json": {
       "model_id": "27c18abc48b2437e8be893773962ec0f",
       "version_major": 2,
       "version_minor": 0
      },
      "text/plain": [
       "Iterative optimization:   0%|          | 0/200 [00:00<?, ?it/s]"
      ]
     },
     "metadata": {},
     "output_type": "display_data"
    },
    {
     "data": {
      "application/vnd.jupyter.widget-view+json": {
       "model_id": "3f3e435459714c0db23108ae79b0bbf3",
       "version_major": 2,
       "version_minor": 0
      },
      "text/plain": [
       "Iterative optimization:   0%|          | 0/200 [00:00<?, ?it/s]"
      ]
     },
     "metadata": {},
     "output_type": "display_data"
    },
    {
     "data": {
      "application/vnd.jupyter.widget-view+json": {
       "model_id": "c329da5d167f4b61bf2c676380f9cc54",
       "version_major": 2,
       "version_minor": 0
      },
      "text/plain": [
       "Iterative optimization:   0%|          | 0/200 [00:00<?, ?it/s]"
      ]
     },
     "metadata": {},
     "output_type": "display_data"
    },
    {
     "data": {
      "application/vnd.jupyter.widget-view+json": {
       "model_id": "e5ca68e77d5d445db252b1869e82ab87",
       "version_major": 2,
       "version_minor": 0
      },
      "text/plain": [
       "Computing synthetic controls:   0%|          | 0/5 [00:00<?, ?it/s]"
      ]
     },
     "metadata": {},
     "output_type": "display_data"
    },
    {
     "data": {
      "application/vnd.jupyter.widget-view+json": {
       "model_id": "74dda4201aef49b2a82edc8f033486ae",
       "version_major": 2,
       "version_minor": 0
      },
      "text/plain": [
       "Iterative optimization:   0%|          | 0/200 [00:00<?, ?it/s]"
      ]
     },
     "metadata": {},
     "output_type": "display_data"
    },
    {
     "data": {
      "application/vnd.jupyter.widget-view+json": {
       "model_id": "5e040312af674e01b976bb89e8e84d12",
       "version_major": 2,
       "version_minor": 0
      },
      "text/plain": [
       "Iterative optimization:   0%|          | 0/200 [00:00<?, ?it/s]"
      ]
     },
     "metadata": {},
     "output_type": "display_data"
    },
    {
     "data": {
      "application/vnd.jupyter.widget-view+json": {
       "model_id": "8654936a5ea2424ea7effbec685cc87b",
       "version_major": 2,
       "version_minor": 0
      },
      "text/plain": [
       "Iterative optimization:   0%|          | 0/200 [00:00<?, ?it/s]"
      ]
     },
     "metadata": {},
     "output_type": "display_data"
    },
    {
     "data": {
      "application/vnd.jupyter.widget-view+json": {
       "model_id": "63066885fe16450882741af2cf3a79a6",
       "version_major": 2,
       "version_minor": 0
      },
      "text/plain": [
       "Iterative optimization:   0%|          | 0/200 [00:00<?, ?it/s]"
      ]
     },
     "metadata": {},
     "output_type": "display_data"
    },
    {
     "data": {
      "application/vnd.jupyter.widget-view+json": {
       "model_id": "4a70095011004b21a9bda249bb247b28",
       "version_major": 2,
       "version_minor": 0
      },
      "text/plain": [
       "Iterative optimization:   0%|          | 0/200 [00:00<?, ?it/s]"
      ]
     },
     "metadata": {},
     "output_type": "display_data"
    },
    {
     "data": {
      "application/vnd.jupyter.widget-view+json": {
       "model_id": "c7eeddc884f7494ab07c1b3a868f2055",
       "version_major": 2,
       "version_minor": 0
      },
      "text/plain": [
       "Iterative optimization:   0%|          | 0/200 [00:00<?, ?it/s]"
      ]
     },
     "metadata": {},
     "output_type": "display_data"
    },
    {
     "data": {
      "application/vnd.jupyter.widget-view+json": {
       "model_id": "d0bbb36007ac441badaad7d87442280d",
       "version_major": 2,
       "version_minor": 0
      },
      "text/plain": [
       "Computing synthetic controls:   0%|          | 0/5 [00:00<?, ?it/s]"
      ]
     },
     "metadata": {},
     "output_type": "display_data"
    },
    {
     "data": {
      "application/vnd.jupyter.widget-view+json": {
       "model_id": "d00394b174f846b98131f2395c2133e9",
       "version_major": 2,
       "version_minor": 0
      },
      "text/plain": [
       "Iterative optimization:   0%|          | 0/200 [00:00<?, ?it/s]"
      ]
     },
     "metadata": {},
     "output_type": "display_data"
    },
    {
     "data": {
      "application/vnd.jupyter.widget-view+json": {
       "model_id": "45c8005952224ac69c350c8a829b7556",
       "version_major": 2,
       "version_minor": 0
      },
      "text/plain": [
       "Iterative optimization:   0%|          | 0/200 [00:00<?, ?it/s]"
      ]
     },
     "metadata": {},
     "output_type": "display_data"
    },
    {
     "data": {
      "application/vnd.jupyter.widget-view+json": {
       "model_id": "6c0a06b96a474cf89c63161d470a31cb",
       "version_major": 2,
       "version_minor": 0
      },
      "text/plain": [
       "Iterative optimization:   0%|          | 0/200 [00:00<?, ?it/s]"
      ]
     },
     "metadata": {},
     "output_type": "display_data"
    },
    {
     "data": {
      "application/vnd.jupyter.widget-view+json": {
       "model_id": "681465cce86d43c1a8a564341d6f8731",
       "version_major": 2,
       "version_minor": 0
      },
      "text/plain": [
       "Iterative optimization:   0%|          | 0/200 [00:00<?, ?it/s]"
      ]
     },
     "metadata": {},
     "output_type": "display_data"
    },
    {
     "data": {
      "application/vnd.jupyter.widget-view+json": {
       "model_id": "d6126bb7f10144e997dddc67f1865abd",
       "version_major": 2,
       "version_minor": 0
      },
      "text/plain": [
       "Iterative optimization:   0%|          | 0/200 [00:00<?, ?it/s]"
      ]
     },
     "metadata": {},
     "output_type": "display_data"
    },
    {
     "data": {
      "application/vnd.jupyter.widget-view+json": {
       "model_id": "ea3679c0e25a4e49aa946d2904c93f65",
       "version_major": 2,
       "version_minor": 0
      },
      "text/plain": [
       "Iterative optimization:   0%|          | 0/200 [00:00<?, ?it/s]"
      ]
     },
     "metadata": {},
     "output_type": "display_data"
    },
    {
     "data": {
      "application/vnd.jupyter.widget-view+json": {
       "model_id": "4c72614750824ccc9cff75e33637d527",
       "version_major": 2,
       "version_minor": 0
      },
      "text/plain": [
       "Computing synthetic controls:   0%|          | 0/5 [00:00<?, ?it/s]"
      ]
     },
     "metadata": {},
     "output_type": "display_data"
    },
    {
     "data": {
      "application/vnd.jupyter.widget-view+json": {
       "model_id": "5950dc042f3e441c84826a514a6c0c67",
       "version_major": 2,
       "version_minor": 0
      },
      "text/plain": [
       "Iterative optimization:   0%|          | 0/200 [00:00<?, ?it/s]"
      ]
     },
     "metadata": {},
     "output_type": "display_data"
    },
    {
     "data": {
      "application/vnd.jupyter.widget-view+json": {
       "model_id": "9b8e184cb3ec44578752600f35ab6872",
       "version_major": 2,
       "version_minor": 0
      },
      "text/plain": [
       "Iterative optimization:   0%|          | 0/200 [00:00<?, ?it/s]"
      ]
     },
     "metadata": {},
     "output_type": "display_data"
    },
    {
     "data": {
      "application/vnd.jupyter.widget-view+json": {
       "model_id": "35186305b68f492b97c7d4bdf9b045ba",
       "version_major": 2,
       "version_minor": 0
      },
      "text/plain": [
       "Iterative optimization:   0%|          | 0/200 [00:00<?, ?it/s]"
      ]
     },
     "metadata": {},
     "output_type": "display_data"
    },
    {
     "data": {
      "application/vnd.jupyter.widget-view+json": {
       "model_id": "d38071c0c1d34264903b691cca37a834",
       "version_major": 2,
       "version_minor": 0
      },
      "text/plain": [
       "Iterative optimization:   0%|          | 0/200 [00:00<?, ?it/s]"
      ]
     },
     "metadata": {},
     "output_type": "display_data"
    },
    {
     "data": {
      "application/vnd.jupyter.widget-view+json": {
       "model_id": "90d5be7dc1254b94ad6e368cb668b1af",
       "version_major": 2,
       "version_minor": 0
      },
      "text/plain": [
       "Iterative optimization:   0%|          | 0/200 [00:00<?, ?it/s]"
      ]
     },
     "metadata": {},
     "output_type": "display_data"
    },
    {
     "data": {
      "application/vnd.jupyter.widget-view+json": {
       "model_id": "0534f5144a85490ca1164ce1511f0498",
       "version_major": 2,
       "version_minor": 0
      },
      "text/plain": [
       "Iterative optimization:   0%|          | 0/200 [00:00<?, ?it/s]"
      ]
     },
     "metadata": {},
     "output_type": "display_data"
    },
    {
     "data": {
      "application/vnd.jupyter.widget-view+json": {
       "model_id": "a9beea8010d545dca57f99e24ce85084",
       "version_major": 2,
       "version_minor": 0
      },
      "text/plain": [
       "Computing synthetic controls:   0%|          | 0/5 [00:00<?, ?it/s]"
      ]
     },
     "metadata": {},
     "output_type": "display_data"
    },
    {
     "data": {
      "application/vnd.jupyter.widget-view+json": {
       "model_id": "3222e3d7bab941598467a50f238e1aea",
       "version_major": 2,
       "version_minor": 0
      },
      "text/plain": [
       "Iterative optimization:   0%|          | 0/200 [00:00<?, ?it/s]"
      ]
     },
     "metadata": {},
     "output_type": "display_data"
    },
    {
     "data": {
      "application/vnd.jupyter.widget-view+json": {
       "model_id": "6714ae197d9e47a0957fb6b01015ced7",
       "version_major": 2,
       "version_minor": 0
      },
      "text/plain": [
       "Iterative optimization:   0%|          | 0/200 [00:00<?, ?it/s]"
      ]
     },
     "metadata": {},
     "output_type": "display_data"
    },
    {
     "data": {
      "application/vnd.jupyter.widget-view+json": {
       "model_id": "79808a5815464c1aa44696e284b754b1",
       "version_major": 2,
       "version_minor": 0
      },
      "text/plain": [
       "Iterative optimization:   0%|          | 0/200 [00:00<?, ?it/s]"
      ]
     },
     "metadata": {},
     "output_type": "display_data"
    },
    {
     "data": {
      "application/vnd.jupyter.widget-view+json": {
       "model_id": "53c204632ff4467c802764eb33095827",
       "version_major": 2,
       "version_minor": 0
      },
      "text/plain": [
       "Iterative optimization:   0%|          | 0/200 [00:00<?, ?it/s]"
      ]
     },
     "metadata": {},
     "output_type": "display_data"
    },
    {
     "data": {
      "application/vnd.jupyter.widget-view+json": {
       "model_id": "5b1fc7361a6b4431a59b98c60861b492",
       "version_major": 2,
       "version_minor": 0
      },
      "text/plain": [
       "Iterative optimization:   0%|          | 0/200 [00:00<?, ?it/s]"
      ]
     },
     "metadata": {},
     "output_type": "display_data"
    },
    {
     "data": {
      "application/vnd.jupyter.widget-view+json": {
       "model_id": "c912155a5d43404ea29c905ea840527e",
       "version_major": 2,
       "version_minor": 0
      },
      "text/plain": [
       "Iterative optimization:   0%|          | 0/200 [00:00<?, ?it/s]"
      ]
     },
     "metadata": {},
     "output_type": "display_data"
    },
    {
     "data": {
      "application/vnd.jupyter.widget-view+json": {
       "model_id": "06bdf06b70f045e0bd6bb15b5cd97216",
       "version_major": 2,
       "version_minor": 0
      },
      "text/plain": [
       "Computing synthetic controls:   0%|          | 0/5 [00:00<?, ?it/s]"
      ]
     },
     "metadata": {},
     "output_type": "display_data"
    },
    {
     "data": {
      "application/vnd.jupyter.widget-view+json": {
       "model_id": "2e93106aaa4342fc9a5d735a1779f94a",
       "version_major": 2,
       "version_minor": 0
      },
      "text/plain": [
       "Iterative optimization:   0%|          | 0/200 [00:00<?, ?it/s]"
      ]
     },
     "metadata": {},
     "output_type": "display_data"
    },
    {
     "data": {
      "application/vnd.jupyter.widget-view+json": {
       "model_id": "1ea9f768705840b68e36d0484f6b9848",
       "version_major": 2,
       "version_minor": 0
      },
      "text/plain": [
       "Iterative optimization:   0%|          | 0/200 [00:00<?, ?it/s]"
      ]
     },
     "metadata": {},
     "output_type": "display_data"
    },
    {
     "data": {
      "application/vnd.jupyter.widget-view+json": {
       "model_id": "01fff31d3750484f8d863c6c1afa1cdd",
       "version_major": 2,
       "version_minor": 0
      },
      "text/plain": [
       "Iterative optimization:   0%|          | 0/200 [00:00<?, ?it/s]"
      ]
     },
     "metadata": {},
     "output_type": "display_data"
    },
    {
     "data": {
      "application/vnd.jupyter.widget-view+json": {
       "model_id": "09cd90a8438d4a6a92d01295f7d7c25c",
       "version_major": 2,
       "version_minor": 0
      },
      "text/plain": [
       "Iterative optimization:   0%|          | 0/200 [00:00<?, ?it/s]"
      ]
     },
     "metadata": {},
     "output_type": "display_data"
    },
    {
     "data": {
      "application/vnd.jupyter.widget-view+json": {
       "model_id": "5113c1768600483a9cbeb62e41a4c23d",
       "version_major": 2,
       "version_minor": 0
      },
      "text/plain": [
       "Iterative optimization:   0%|          | 0/200 [00:00<?, ?it/s]"
      ]
     },
     "metadata": {},
     "output_type": "display_data"
    },
    {
     "data": {
      "application/vnd.jupyter.widget-view+json": {
       "model_id": "b70882e23e544d0da9cb8a59df1c1dac",
       "version_major": 2,
       "version_minor": 0
      },
      "text/plain": [
       "Iterative optimization:   0%|          | 0/200 [00:00<?, ?it/s]"
      ]
     },
     "metadata": {},
     "output_type": "display_data"
    },
    {
     "data": {
      "application/vnd.jupyter.widget-view+json": {
       "model_id": "87e355db086749688389da21de8a911d",
       "version_major": 2,
       "version_minor": 0
      },
      "text/plain": [
       "Computing synthetic controls:   0%|          | 0/5 [00:00<?, ?it/s]"
      ]
     },
     "metadata": {},
     "output_type": "display_data"
    },
    {
     "data": {
      "application/vnd.jupyter.widget-view+json": {
       "model_id": "bf2e919ff3404a259d49e8adbd93f78a",
       "version_major": 2,
       "version_minor": 0
      },
      "text/plain": [
       "Iterative optimization:   0%|          | 0/200 [00:00<?, ?it/s]"
      ]
     },
     "metadata": {},
     "output_type": "display_data"
    },
    {
     "data": {
      "application/vnd.jupyter.widget-view+json": {
       "model_id": "60abc71e36404e86b996fa7d35b84698",
       "version_major": 2,
       "version_minor": 0
      },
      "text/plain": [
       "Iterative optimization:   0%|          | 0/200 [00:00<?, ?it/s]"
      ]
     },
     "metadata": {},
     "output_type": "display_data"
    },
    {
     "data": {
      "application/vnd.jupyter.widget-view+json": {
       "model_id": "6aadb1187a774e51ada8c8150433572e",
       "version_major": 2,
       "version_minor": 0
      },
      "text/plain": [
       "Iterative optimization:   0%|          | 0/200 [00:00<?, ?it/s]"
      ]
     },
     "metadata": {},
     "output_type": "display_data"
    },
    {
     "data": {
      "application/vnd.jupyter.widget-view+json": {
       "model_id": "25ce085493104a27b52143a2be9f190f",
       "version_major": 2,
       "version_minor": 0
      },
      "text/plain": [
       "Iterative optimization:   0%|          | 0/200 [00:00<?, ?it/s]"
      ]
     },
     "metadata": {},
     "output_type": "display_data"
    },
    {
     "data": {
      "application/vnd.jupyter.widget-view+json": {
       "model_id": "53ec180cdf1c45589dc0d0c62a371011",
       "version_major": 2,
       "version_minor": 0
      },
      "text/plain": [
       "Iterative optimization:   0%|          | 0/200 [00:00<?, ?it/s]"
      ]
     },
     "metadata": {},
     "output_type": "display_data"
    },
    {
     "data": {
      "application/vnd.jupyter.widget-view+json": {
       "model_id": "48352b6e36c04f3386cc9bf00e507c2b",
       "version_major": 2,
       "version_minor": 0
      },
      "text/plain": [
       "Iterative optimization:   0%|          | 0/200 [00:00<?, ?it/s]"
      ]
     },
     "metadata": {},
     "output_type": "display_data"
    },
    {
     "data": {
      "application/vnd.jupyter.widget-view+json": {
       "model_id": "f9adc6c22eb048f28793d4ac49d51851",
       "version_major": 2,
       "version_minor": 0
      },
      "text/plain": [
       "Computing synthetic controls:   0%|          | 0/5 [00:00<?, ?it/s]"
      ]
     },
     "metadata": {},
     "output_type": "display_data"
    },
    {
     "data": {
      "application/vnd.jupyter.widget-view+json": {
       "model_id": "7823e4e9c36340e490b70a4c4ee71fa7",
       "version_major": 2,
       "version_minor": 0
      },
      "text/plain": [
       "Iterative optimization:   0%|          | 0/200 [00:00<?, ?it/s]"
      ]
     },
     "metadata": {},
     "output_type": "display_data"
    },
    {
     "data": {
      "application/vnd.jupyter.widget-view+json": {
       "model_id": "f0ae6fe704214fcba1e2f34a1d1e80e6",
       "version_major": 2,
       "version_minor": 0
      },
      "text/plain": [
       "Iterative optimization:   0%|          | 0/200 [00:00<?, ?it/s]"
      ]
     },
     "metadata": {},
     "output_type": "display_data"
    },
    {
     "data": {
      "application/vnd.jupyter.widget-view+json": {
       "model_id": "43a5216c73e04529804a82682502fbf0",
       "version_major": 2,
       "version_minor": 0
      },
      "text/plain": [
       "Iterative optimization:   0%|          | 0/200 [00:00<?, ?it/s]"
      ]
     },
     "metadata": {},
     "output_type": "display_data"
    },
    {
     "data": {
      "application/vnd.jupyter.widget-view+json": {
       "model_id": "f5693f8033554771a13a8c5b415b247c",
       "version_major": 2,
       "version_minor": 0
      },
      "text/plain": [
       "Iterative optimization:   0%|          | 0/200 [00:00<?, ?it/s]"
      ]
     },
     "metadata": {},
     "output_type": "display_data"
    },
    {
     "data": {
      "application/vnd.jupyter.widget-view+json": {
       "model_id": "1050025e4192418d95a0cc04269fa2fe",
       "version_major": 2,
       "version_minor": 0
      },
      "text/plain": [
       "Iterative optimization:   0%|          | 0/200 [00:00<?, ?it/s]"
      ]
     },
     "metadata": {},
     "output_type": "display_data"
    },
    {
     "data": {
      "application/vnd.jupyter.widget-view+json": {
       "model_id": "1b706e8a945544a9a7d268790b1959e9",
       "version_major": 2,
       "version_minor": 0
      },
      "text/plain": [
       "Iterative optimization:   0%|          | 0/200 [00:00<?, ?it/s]"
      ]
     },
     "metadata": {},
     "output_type": "display_data"
    },
    {
     "data": {
      "application/vnd.jupyter.widget-view+json": {
       "model_id": "36bfc536ad1a49eb9396ccee4df1ad16",
       "version_major": 2,
       "version_minor": 0
      },
      "text/plain": [
       "Computing synthetic controls:   0%|          | 0/5 [00:00<?, ?it/s]"
      ]
     },
     "metadata": {},
     "output_type": "display_data"
    },
    {
     "data": {
      "application/vnd.jupyter.widget-view+json": {
       "model_id": "10f8140343df469eaddda6b8f1021a2b",
       "version_major": 2,
       "version_minor": 0
      },
      "text/plain": [
       "Iterative optimization:   0%|          | 0/200 [00:00<?, ?it/s]"
      ]
     },
     "metadata": {},
     "output_type": "display_data"
    },
    {
     "data": {
      "application/vnd.jupyter.widget-view+json": {
       "model_id": "c30958066cea4f1da6128217ec504806",
       "version_major": 2,
       "version_minor": 0
      },
      "text/plain": [
       "Iterative optimization:   0%|          | 0/200 [00:00<?, ?it/s]"
      ]
     },
     "metadata": {},
     "output_type": "display_data"
    },
    {
     "data": {
      "application/vnd.jupyter.widget-view+json": {
       "model_id": "06cdaea99c2b427197304b90cd03d5c6",
       "version_major": 2,
       "version_minor": 0
      },
      "text/plain": [
       "Iterative optimization:   0%|          | 0/200 [00:00<?, ?it/s]"
      ]
     },
     "metadata": {},
     "output_type": "display_data"
    },
    {
     "data": {
      "application/vnd.jupyter.widget-view+json": {
       "model_id": "03e92720ce14485fa4ded00b68cbeec5",
       "version_major": 2,
       "version_minor": 0
      },
      "text/plain": [
       "Iterative optimization:   0%|          | 0/200 [00:00<?, ?it/s]"
      ]
     },
     "metadata": {},
     "output_type": "display_data"
    },
    {
     "data": {
      "application/vnd.jupyter.widget-view+json": {
       "model_id": "b4753fcac68848c5819ee3d8bc4a356b",
       "version_major": 2,
       "version_minor": 0
      },
      "text/plain": [
       "Iterative optimization:   0%|          | 0/200 [00:00<?, ?it/s]"
      ]
     },
     "metadata": {},
     "output_type": "display_data"
    },
    {
     "data": {
      "application/vnd.jupyter.widget-view+json": {
       "model_id": "6e2538674afa4319a9fed77153e29166",
       "version_major": 2,
       "version_minor": 0
      },
      "text/plain": [
       "Iterative optimization:   0%|          | 0/200 [00:00<?, ?it/s]"
      ]
     },
     "metadata": {},
     "output_type": "display_data"
    },
    {
     "data": {
      "application/vnd.jupyter.widget-view+json": {
       "model_id": "d2c75ebdce7e4f368ad0bb501e7c7df8",
       "version_major": 2,
       "version_minor": 0
      },
      "text/plain": [
       "Computing synthetic controls:   0%|          | 0/5 [00:00<?, ?it/s]"
      ]
     },
     "metadata": {},
     "output_type": "display_data"
    },
    {
     "data": {
      "application/vnd.jupyter.widget-view+json": {
       "model_id": "e92458f35b96485ebf08dc9dc78b8f3c",
       "version_major": 2,
       "version_minor": 0
      },
      "text/plain": [
       "Iterative optimization:   0%|          | 0/200 [00:00<?, ?it/s]"
      ]
     },
     "metadata": {},
     "output_type": "display_data"
    },
    {
     "data": {
      "application/vnd.jupyter.widget-view+json": {
       "model_id": "37b15009c2b64c89b132d3b7907111ea",
       "version_major": 2,
       "version_minor": 0
      },
      "text/plain": [
       "Iterative optimization:   0%|          | 0/200 [00:00<?, ?it/s]"
      ]
     },
     "metadata": {},
     "output_type": "display_data"
    },
    {
     "data": {
      "application/vnd.jupyter.widget-view+json": {
       "model_id": "4de77e8a41a7486b9f1167c2b987dfa8",
       "version_major": 2,
       "version_minor": 0
      },
      "text/plain": [
       "Iterative optimization:   0%|          | 0/200 [00:00<?, ?it/s]"
      ]
     },
     "metadata": {},
     "output_type": "display_data"
    },
    {
     "data": {
      "application/vnd.jupyter.widget-view+json": {
       "model_id": "436985062d124c968a7634fbee25874f",
       "version_major": 2,
       "version_minor": 0
      },
      "text/plain": [
       "Iterative optimization:   0%|          | 0/200 [00:00<?, ?it/s]"
      ]
     },
     "metadata": {},
     "output_type": "display_data"
    },
    {
     "data": {
      "application/vnd.jupyter.widget-view+json": {
       "model_id": "e3ad4fc585074e53a866fbfca64bbe01",
       "version_major": 2,
       "version_minor": 0
      },
      "text/plain": [
       "Iterative optimization:   0%|          | 0/200 [00:00<?, ?it/s]"
      ]
     },
     "metadata": {},
     "output_type": "display_data"
    },
    {
     "data": {
      "application/vnd.jupyter.widget-view+json": {
       "model_id": "53a01ffdc9e04d4684446fdbf956c940",
       "version_major": 2,
       "version_minor": 0
      },
      "text/plain": [
       "Iterative optimization:   0%|          | 0/200 [00:00<?, ?it/s]"
      ]
     },
     "metadata": {},
     "output_type": "display_data"
    },
    {
     "data": {
      "application/vnd.jupyter.widget-view+json": {
       "model_id": "38e59b4c7b6a45a1a4f39a90dd3a14ef",
       "version_major": 2,
       "version_minor": 0
      },
      "text/plain": [
       "Computing synthetic controls:   0%|          | 0/5 [00:00<?, ?it/s]"
      ]
     },
     "metadata": {},
     "output_type": "display_data"
    },
    {
     "data": {
      "application/vnd.jupyter.widget-view+json": {
       "model_id": "0cfde56a741d40599861ccef2f9f2d48",
       "version_major": 2,
       "version_minor": 0
      },
      "text/plain": [
       "Iterative optimization:   0%|          | 0/200 [00:00<?, ?it/s]"
      ]
     },
     "metadata": {},
     "output_type": "display_data"
    },
    {
     "data": {
      "application/vnd.jupyter.widget-view+json": {
       "model_id": "905f5474c49e4a91b390cefeb07f8f56",
       "version_major": 2,
       "version_minor": 0
      },
      "text/plain": [
       "Iterative optimization:   0%|          | 0/200 [00:00<?, ?it/s]"
      ]
     },
     "metadata": {},
     "output_type": "display_data"
    },
    {
     "data": {
      "application/vnd.jupyter.widget-view+json": {
       "model_id": "91cdc6935b794912819dcc32b2c9838e",
       "version_major": 2,
       "version_minor": 0
      },
      "text/plain": [
       "Iterative optimization:   0%|          | 0/200 [00:00<?, ?it/s]"
      ]
     },
     "metadata": {},
     "output_type": "display_data"
    },
    {
     "data": {
      "application/vnd.jupyter.widget-view+json": {
       "model_id": "131c7dda70414c9982380be9d0c6401e",
       "version_major": 2,
       "version_minor": 0
      },
      "text/plain": [
       "Iterative optimization:   0%|          | 0/200 [00:00<?, ?it/s]"
      ]
     },
     "metadata": {},
     "output_type": "display_data"
    },
    {
     "data": {
      "application/vnd.jupyter.widget-view+json": {
       "model_id": "a447866e1beb438080d7272196f42426",
       "version_major": 2,
       "version_minor": 0
      },
      "text/plain": [
       "Iterative optimization:   0%|          | 0/200 [00:00<?, ?it/s]"
      ]
     },
     "metadata": {},
     "output_type": "display_data"
    },
    {
     "data": {
      "application/vnd.jupyter.widget-view+json": {
       "model_id": "9fc2fa797d604b6196e2a2c0a226246b",
       "version_major": 2,
       "version_minor": 0
      },
      "text/plain": [
       "Iterative optimization:   0%|          | 0/200 [00:00<?, ?it/s]"
      ]
     },
     "metadata": {},
     "output_type": "display_data"
    },
    {
     "data": {
      "application/vnd.jupyter.widget-view+json": {
       "model_id": "bbb316388e7b4b07b2d37aa463cfb6ea",
       "version_major": 2,
       "version_minor": 0
      },
      "text/plain": [
       "Computing synthetic controls:   0%|          | 0/5 [00:00<?, ?it/s]"
      ]
     },
     "metadata": {},
     "output_type": "display_data"
    },
    {
     "data": {
      "application/vnd.jupyter.widget-view+json": {
       "model_id": "78fc417a3cdb4648a3211a2e5d4f8c44",
       "version_major": 2,
       "version_minor": 0
      },
      "text/plain": [
       "Iterative optimization:   0%|          | 0/200 [00:00<?, ?it/s]"
      ]
     },
     "metadata": {},
     "output_type": "display_data"
    },
    {
     "data": {
      "application/vnd.jupyter.widget-view+json": {
       "model_id": "51c0914f6a534563928cc8c60c08d945",
       "version_major": 2,
       "version_minor": 0
      },
      "text/plain": [
       "Iterative optimization:   0%|          | 0/200 [00:00<?, ?it/s]"
      ]
     },
     "metadata": {},
     "output_type": "display_data"
    },
    {
     "data": {
      "application/vnd.jupyter.widget-view+json": {
       "model_id": "cd7a028230bd475a92196eae5a55d09c",
       "version_major": 2,
       "version_minor": 0
      },
      "text/plain": [
       "Iterative optimization:   0%|          | 0/200 [00:00<?, ?it/s]"
      ]
     },
     "metadata": {},
     "output_type": "display_data"
    },
    {
     "data": {
      "application/vnd.jupyter.widget-view+json": {
       "model_id": "8dd49e79b2fa446e9351f5e4c4f86791",
       "version_major": 2,
       "version_minor": 0
      },
      "text/plain": [
       "Iterative optimization:   0%|          | 0/200 [00:00<?, ?it/s]"
      ]
     },
     "metadata": {},
     "output_type": "display_data"
    },
    {
     "data": {
      "application/vnd.jupyter.widget-view+json": {
       "model_id": "fb3106bdecfc46cd9841b3dfb90a225e",
       "version_major": 2,
       "version_minor": 0
      },
      "text/plain": [
       "Iterative optimization:   0%|          | 0/200 [00:00<?, ?it/s]"
      ]
     },
     "metadata": {},
     "output_type": "display_data"
    },
    {
     "data": {
      "application/vnd.jupyter.widget-view+json": {
       "model_id": "cf1178c9812049c79d6d62fa58e8d49a",
       "version_major": 2,
       "version_minor": 0
      },
      "text/plain": [
       "Iterative optimization:   0%|          | 0/200 [00:00<?, ?it/s]"
      ]
     },
     "metadata": {},
     "output_type": "display_data"
    },
    {
     "data": {
      "application/vnd.jupyter.widget-view+json": {
       "model_id": "460865001f70484b9ee7d00759922c74",
       "version_major": 2,
       "version_minor": 0
      },
      "text/plain": [
       "Computing synthetic controls:   0%|          | 0/5 [00:00<?, ?it/s]"
      ]
     },
     "metadata": {},
     "output_type": "display_data"
    },
    {
     "data": {
      "application/vnd.jupyter.widget-view+json": {
       "model_id": "bfebddbafb2e45798d8790e31c82a947",
       "version_major": 2,
       "version_minor": 0
      },
      "text/plain": [
       "Iterative optimization:   0%|          | 0/200 [00:00<?, ?it/s]"
      ]
     },
     "metadata": {},
     "output_type": "display_data"
    },
    {
     "data": {
      "application/vnd.jupyter.widget-view+json": {
       "model_id": "c5e456d49a3046ee9e037aff41871a50",
       "version_major": 2,
       "version_minor": 0
      },
      "text/plain": [
       "Iterative optimization:   0%|          | 0/200 [00:00<?, ?it/s]"
      ]
     },
     "metadata": {},
     "output_type": "display_data"
    },
    {
     "data": {
      "application/vnd.jupyter.widget-view+json": {
       "model_id": "b0ddf77e8f804f0e80f3e2c961245f97",
       "version_major": 2,
       "version_minor": 0
      },
      "text/plain": [
       "Iterative optimization:   0%|          | 0/200 [00:00<?, ?it/s]"
      ]
     },
     "metadata": {},
     "output_type": "display_data"
    },
    {
     "data": {
      "application/vnd.jupyter.widget-view+json": {
       "model_id": "fefdf2c1cd884504bc2c594752bc556a",
       "version_major": 2,
       "version_minor": 0
      },
      "text/plain": [
       "Iterative optimization:   0%|          | 0/200 [00:00<?, ?it/s]"
      ]
     },
     "metadata": {},
     "output_type": "display_data"
    },
    {
     "data": {
      "application/vnd.jupyter.widget-view+json": {
       "model_id": "96dacedf97784be2b3d6f9236b25b31f",
       "version_major": 2,
       "version_minor": 0
      },
      "text/plain": [
       "Iterative optimization:   0%|          | 0/200 [00:00<?, ?it/s]"
      ]
     },
     "metadata": {},
     "output_type": "display_data"
    },
    {
     "data": {
      "application/vnd.jupyter.widget-view+json": {
       "model_id": "5bb0cc20280342f7b1f9246a0f850037",
       "version_major": 2,
       "version_minor": 0
      },
      "text/plain": [
       "Iterative optimization:   0%|          | 0/200 [00:00<?, ?it/s]"
      ]
     },
     "metadata": {},
     "output_type": "display_data"
    },
    {
     "data": {
      "application/vnd.jupyter.widget-view+json": {
       "model_id": "06b0ec79c71547d08fc3560018b2bca8",
       "version_major": 2,
       "version_minor": 0
      },
      "text/plain": [
       "Computing synthetic controls:   0%|          | 0/5 [00:00<?, ?it/s]"
      ]
     },
     "metadata": {},
     "output_type": "display_data"
    },
    {
     "data": {
      "application/vnd.jupyter.widget-view+json": {
       "model_id": "1defa5e361eb4e7ba67bbd23c28a1ce2",
       "version_major": 2,
       "version_minor": 0
      },
      "text/plain": [
       "Iterative optimization:   0%|          | 0/200 [00:00<?, ?it/s]"
      ]
     },
     "metadata": {},
     "output_type": "display_data"
    },
    {
     "data": {
      "application/vnd.jupyter.widget-view+json": {
       "model_id": "2b20fa6083f343169a2a80fa43862ffc",
       "version_major": 2,
       "version_minor": 0
      },
      "text/plain": [
       "Iterative optimization:   0%|          | 0/200 [00:00<?, ?it/s]"
      ]
     },
     "metadata": {},
     "output_type": "display_data"
    },
    {
     "data": {
      "application/vnd.jupyter.widget-view+json": {
       "model_id": "1ed06a47230242ac8d2396d93cd48791",
       "version_major": 2,
       "version_minor": 0
      },
      "text/plain": [
       "Iterative optimization:   0%|          | 0/200 [00:00<?, ?it/s]"
      ]
     },
     "metadata": {},
     "output_type": "display_data"
    },
    {
     "data": {
      "application/vnd.jupyter.widget-view+json": {
       "model_id": "3ed2c8978d0f4610aef5e3918e3f05af",
       "version_major": 2,
       "version_minor": 0
      },
      "text/plain": [
       "Iterative optimization:   0%|          | 0/200 [00:00<?, ?it/s]"
      ]
     },
     "metadata": {},
     "output_type": "display_data"
    },
    {
     "data": {
      "application/vnd.jupyter.widget-view+json": {
       "model_id": "f23a0882a21c448d82a009ef2881135e",
       "version_major": 2,
       "version_minor": 0
      },
      "text/plain": [
       "Iterative optimization:   0%|          | 0/200 [00:00<?, ?it/s]"
      ]
     },
     "metadata": {},
     "output_type": "display_data"
    },
    {
     "data": {
      "application/vnd.jupyter.widget-view+json": {
       "model_id": "af157cc3b7e548768ff1fe821ca91654",
       "version_major": 2,
       "version_minor": 0
      },
      "text/plain": [
       "Iterative optimization:   0%|          | 0/200 [00:00<?, ?it/s]"
      ]
     },
     "metadata": {},
     "output_type": "display_data"
    },
    {
     "data": {
      "application/vnd.jupyter.widget-view+json": {
       "model_id": "dcd363b949e24eef8aacceee2d359235",
       "version_major": 2,
       "version_minor": 0
      },
      "text/plain": [
       "Computing synthetic controls:   0%|          | 0/5 [00:00<?, ?it/s]"
      ]
     },
     "metadata": {},
     "output_type": "display_data"
    },
    {
     "data": {
      "application/vnd.jupyter.widget-view+json": {
       "model_id": "f3b1d6b28e68458f9e06fe19245b03e4",
       "version_major": 2,
       "version_minor": 0
      },
      "text/plain": [
       "Iterative optimization:   0%|          | 0/200 [00:00<?, ?it/s]"
      ]
     },
     "metadata": {},
     "output_type": "display_data"
    },
    {
     "data": {
      "application/vnd.jupyter.widget-view+json": {
       "model_id": "90f2d2b13ab14973afd052f1e172d5af",
       "version_major": 2,
       "version_minor": 0
      },
      "text/plain": [
       "Iterative optimization:   0%|          | 0/200 [00:00<?, ?it/s]"
      ]
     },
     "metadata": {},
     "output_type": "display_data"
    },
    {
     "data": {
      "application/vnd.jupyter.widget-view+json": {
       "model_id": "1f46f4c70530450da7d7ad0cc2d63276",
       "version_major": 2,
       "version_minor": 0
      },
      "text/plain": [
       "Iterative optimization:   0%|          | 0/200 [00:00<?, ?it/s]"
      ]
     },
     "metadata": {},
     "output_type": "display_data"
    },
    {
     "data": {
      "application/vnd.jupyter.widget-view+json": {
       "model_id": "8695d9af018c49119142cb2f4bc0534d",
       "version_major": 2,
       "version_minor": 0
      },
      "text/plain": [
       "Iterative optimization:   0%|          | 0/200 [00:00<?, ?it/s]"
      ]
     },
     "metadata": {},
     "output_type": "display_data"
    },
    {
     "data": {
      "application/vnd.jupyter.widget-view+json": {
       "model_id": "9f7430c019cf4684b603a6ecfb7a1d26",
       "version_major": 2,
       "version_minor": 0
      },
      "text/plain": [
       "Iterative optimization:   0%|          | 0/200 [00:00<?, ?it/s]"
      ]
     },
     "metadata": {},
     "output_type": "display_data"
    },
    {
     "data": {
      "application/vnd.jupyter.widget-view+json": {
       "model_id": "ac4b9b1336b248018984e2b6e1dae65f",
       "version_major": 2,
       "version_minor": 0
      },
      "text/plain": [
       "Iterative optimization:   0%|          | 0/200 [00:00<?, ?it/s]"
      ]
     },
     "metadata": {},
     "output_type": "display_data"
    },
    {
     "data": {
      "application/vnd.jupyter.widget-view+json": {
       "model_id": "a24310a7f11447689ee374aabbaa928f",
       "version_major": 2,
       "version_minor": 0
      },
      "text/plain": [
       "Computing synthetic controls:   0%|          | 0/5 [00:00<?, ?it/s]"
      ]
     },
     "metadata": {},
     "output_type": "display_data"
    },
    {
     "data": {
      "application/vnd.jupyter.widget-view+json": {
       "model_id": "9a696f2d4f434a8fb894c8289e4f6d38",
       "version_major": 2,
       "version_minor": 0
      },
      "text/plain": [
       "Iterative optimization:   0%|          | 0/200 [00:00<?, ?it/s]"
      ]
     },
     "metadata": {},
     "output_type": "display_data"
    },
    {
     "data": {
      "application/vnd.jupyter.widget-view+json": {
       "model_id": "59c12ffdbf4049f0a6e00f78de9925e4",
       "version_major": 2,
       "version_minor": 0
      },
      "text/plain": [
       "Iterative optimization:   0%|          | 0/200 [00:00<?, ?it/s]"
      ]
     },
     "metadata": {},
     "output_type": "display_data"
    },
    {
     "data": {
      "application/vnd.jupyter.widget-view+json": {
       "model_id": "47a9d3f6df2149718f6373f087b2f6b6",
       "version_major": 2,
       "version_minor": 0
      },
      "text/plain": [
       "Iterative optimization:   0%|          | 0/200 [00:00<?, ?it/s]"
      ]
     },
     "metadata": {},
     "output_type": "display_data"
    },
    {
     "data": {
      "application/vnd.jupyter.widget-view+json": {
       "model_id": "0f5dae100e154dbeb31f7393297d845d",
       "version_major": 2,
       "version_minor": 0
      },
      "text/plain": [
       "Iterative optimization:   0%|          | 0/200 [00:00<?, ?it/s]"
      ]
     },
     "metadata": {},
     "output_type": "display_data"
    },
    {
     "data": {
      "application/vnd.jupyter.widget-view+json": {
       "model_id": "f6fe34c62514439eb966e861c1feea53",
       "version_major": 2,
       "version_minor": 0
      },
      "text/plain": [
       "Iterative optimization:   0%|          | 0/200 [00:00<?, ?it/s]"
      ]
     },
     "metadata": {},
     "output_type": "display_data"
    },
    {
     "data": {
      "application/vnd.jupyter.widget-view+json": {
       "model_id": "1bd86555852b4b0d9d913bf27d92fae3",
       "version_major": 2,
       "version_minor": 0
      },
      "text/plain": [
       "Iterative optimization:   0%|          | 0/200 [00:00<?, ?it/s]"
      ]
     },
     "metadata": {},
     "output_type": "display_data"
    },
    {
     "data": {
      "application/vnd.jupyter.widget-view+json": {
       "model_id": "eacf0d6de5314a53b7f7070784f49d01",
       "version_major": 2,
       "version_minor": 0
      },
      "text/plain": [
       "Computing synthetic controls:   0%|          | 0/5 [00:00<?, ?it/s]"
      ]
     },
     "metadata": {},
     "output_type": "display_data"
    },
    {
     "data": {
      "application/vnd.jupyter.widget-view+json": {
       "model_id": "4570797a7a5b42529be9976e94dd8a1a",
       "version_major": 2,
       "version_minor": 0
      },
      "text/plain": [
       "Iterative optimization:   0%|          | 0/200 [00:00<?, ?it/s]"
      ]
     },
     "metadata": {},
     "output_type": "display_data"
    },
    {
     "data": {
      "application/vnd.jupyter.widget-view+json": {
       "model_id": "0f491e8a811f4ef693db34c785ccddb4",
       "version_major": 2,
       "version_minor": 0
      },
      "text/plain": [
       "Iterative optimization:   0%|          | 0/200 [00:00<?, ?it/s]"
      ]
     },
     "metadata": {},
     "output_type": "display_data"
    },
    {
     "data": {
      "application/vnd.jupyter.widget-view+json": {
       "model_id": "6d58a4bb852944df8681778ac338c978",
       "version_major": 2,
       "version_minor": 0
      },
      "text/plain": [
       "Iterative optimization:   0%|          | 0/200 [00:00<?, ?it/s]"
      ]
     },
     "metadata": {},
     "output_type": "display_data"
    },
    {
     "data": {
      "application/vnd.jupyter.widget-view+json": {
       "model_id": "67debd759e4c46ce97c9f75a3a864839",
       "version_major": 2,
       "version_minor": 0
      },
      "text/plain": [
       "Iterative optimization:   0%|          | 0/200 [00:00<?, ?it/s]"
      ]
     },
     "metadata": {},
     "output_type": "display_data"
    },
    {
     "data": {
      "application/vnd.jupyter.widget-view+json": {
       "model_id": "35801c802fe54c3caf6a73a978a6a899",
       "version_major": 2,
       "version_minor": 0
      },
      "text/plain": [
       "Iterative optimization:   0%|          | 0/200 [00:00<?, ?it/s]"
      ]
     },
     "metadata": {},
     "output_type": "display_data"
    },
    {
     "data": {
      "application/vnd.jupyter.widget-view+json": {
       "model_id": "3ba7872865f24dc2893b7649958be0e2",
       "version_major": 2,
       "version_minor": 0
      },
      "text/plain": [
       "Iterative optimization:   0%|          | 0/200 [00:00<?, ?it/s]"
      ]
     },
     "metadata": {},
     "output_type": "display_data"
    },
    {
     "data": {
      "application/vnd.jupyter.widget-view+json": {
       "model_id": "b6931938e65540a29c3ab7bc578f63d1",
       "version_major": 2,
       "version_minor": 0
      },
      "text/plain": [
       "Computing synthetic controls:   0%|          | 0/5 [00:00<?, ?it/s]"
      ]
     },
     "metadata": {},
     "output_type": "display_data"
    },
    {
     "data": {
      "application/vnd.jupyter.widget-view+json": {
       "model_id": "88e19a3fa8644041986d8ced553663d4",
       "version_major": 2,
       "version_minor": 0
      },
      "text/plain": [
       "Iterative optimization:   0%|          | 0/200 [00:00<?, ?it/s]"
      ]
     },
     "metadata": {},
     "output_type": "display_data"
    },
    {
     "data": {
      "application/vnd.jupyter.widget-view+json": {
       "model_id": "a6f5ca2597a04bfe816efb8d661d7632",
       "version_major": 2,
       "version_minor": 0
      },
      "text/plain": [
       "Iterative optimization:   0%|          | 0/200 [00:00<?, ?it/s]"
      ]
     },
     "metadata": {},
     "output_type": "display_data"
    },
    {
     "data": {
      "application/vnd.jupyter.widget-view+json": {
       "model_id": "9ccb1b7695e943d78bbfb1d5e4383dd2",
       "version_major": 2,
       "version_minor": 0
      },
      "text/plain": [
       "Iterative optimization:   0%|          | 0/200 [00:00<?, ?it/s]"
      ]
     },
     "metadata": {},
     "output_type": "display_data"
    },
    {
     "data": {
      "application/vnd.jupyter.widget-view+json": {
       "model_id": "37f2d0b79a38402ea7a3fdb42118046d",
       "version_major": 2,
       "version_minor": 0
      },
      "text/plain": [
       "Iterative optimization:   0%|          | 0/200 [00:00<?, ?it/s]"
      ]
     },
     "metadata": {},
     "output_type": "display_data"
    },
    {
     "data": {
      "application/vnd.jupyter.widget-view+json": {
       "model_id": "52ea1691b3e543c7b6b0cfb22472bdc1",
       "version_major": 2,
       "version_minor": 0
      },
      "text/plain": [
       "Iterative optimization:   0%|          | 0/200 [00:00<?, ?it/s]"
      ]
     },
     "metadata": {},
     "output_type": "display_data"
    },
    {
     "data": {
      "application/vnd.jupyter.widget-view+json": {
       "model_id": "18126bf6f1b54812aa31ec785e0b8df4",
       "version_major": 2,
       "version_minor": 0
      },
      "text/plain": [
       "Iterative optimization:   0%|          | 0/200 [00:00<?, ?it/s]"
      ]
     },
     "metadata": {},
     "output_type": "display_data"
    },
    {
     "data": {
      "application/vnd.jupyter.widget-view+json": {
       "model_id": "aadedcc7d3964d7394990514be07b155",
       "version_major": 2,
       "version_minor": 0
      },
      "text/plain": [
       "Computing synthetic controls:   0%|          | 0/5 [00:00<?, ?it/s]"
      ]
     },
     "metadata": {},
     "output_type": "display_data"
    },
    {
     "data": {
      "application/vnd.jupyter.widget-view+json": {
       "model_id": "47344fb89b46409d8a2b1511c90d0584",
       "version_major": 2,
       "version_minor": 0
      },
      "text/plain": [
       "Iterative optimization:   0%|          | 0/200 [00:00<?, ?it/s]"
      ]
     },
     "metadata": {},
     "output_type": "display_data"
    },
    {
     "data": {
      "application/vnd.jupyter.widget-view+json": {
       "model_id": "937af8b6578f48de8803305c66c90f35",
       "version_major": 2,
       "version_minor": 0
      },
      "text/plain": [
       "Iterative optimization:   0%|          | 0/200 [00:00<?, ?it/s]"
      ]
     },
     "metadata": {},
     "output_type": "display_data"
    },
    {
     "data": {
      "application/vnd.jupyter.widget-view+json": {
       "model_id": "17903bb6fed746feabebfc7aece935ef",
       "version_major": 2,
       "version_minor": 0
      },
      "text/plain": [
       "Iterative optimization:   0%|          | 0/200 [00:00<?, ?it/s]"
      ]
     },
     "metadata": {},
     "output_type": "display_data"
    },
    {
     "data": {
      "application/vnd.jupyter.widget-view+json": {
       "model_id": "05009d1ce7004101a8461ccdae73c69d",
       "version_major": 2,
       "version_minor": 0
      },
      "text/plain": [
       "Iterative optimization:   0%|          | 0/200 [00:00<?, ?it/s]"
      ]
     },
     "metadata": {},
     "output_type": "display_data"
    },
    {
     "data": {
      "application/vnd.jupyter.widget-view+json": {
       "model_id": "1af88623b7744702b6d41b1e29de4deb",
       "version_major": 2,
       "version_minor": 0
      },
      "text/plain": [
       "Iterative optimization:   0%|          | 0/200 [00:00<?, ?it/s]"
      ]
     },
     "metadata": {},
     "output_type": "display_data"
    },
    {
     "data": {
      "application/vnd.jupyter.widget-view+json": {
       "model_id": "0a9680acdb0848c381b676924853db41",
       "version_major": 2,
       "version_minor": 0
      },
      "text/plain": [
       "Iterative optimization:   0%|          | 0/200 [00:00<?, ?it/s]"
      ]
     },
     "metadata": {},
     "output_type": "display_data"
    },
    {
     "data": {
      "application/vnd.jupyter.widget-view+json": {
       "model_id": "74d18f508c684e7297ea7098d41454aa",
       "version_major": 2,
       "version_minor": 0
      },
      "text/plain": [
       "Computing synthetic controls:   0%|          | 0/5 [00:00<?, ?it/s]"
      ]
     },
     "metadata": {},
     "output_type": "display_data"
    },
    {
     "data": {
      "application/vnd.jupyter.widget-view+json": {
       "model_id": "87027b98eabe424bb759fe40ea7f0dea",
       "version_major": 2,
       "version_minor": 0
      },
      "text/plain": [
       "Iterative optimization:   0%|          | 0/200 [00:00<?, ?it/s]"
      ]
     },
     "metadata": {},
     "output_type": "display_data"
    },
    {
     "data": {
      "application/vnd.jupyter.widget-view+json": {
       "model_id": "ca1c4ec2e0ce4c55a9ad70ed3b380c33",
       "version_major": 2,
       "version_minor": 0
      },
      "text/plain": [
       "Iterative optimization:   0%|          | 0/200 [00:00<?, ?it/s]"
      ]
     },
     "metadata": {},
     "output_type": "display_data"
    },
    {
     "data": {
      "application/vnd.jupyter.widget-view+json": {
       "model_id": "3cec51674a044a6d90debfae8a304c35",
       "version_major": 2,
       "version_minor": 0
      },
      "text/plain": [
       "Iterative optimization:   0%|          | 0/200 [00:00<?, ?it/s]"
      ]
     },
     "metadata": {},
     "output_type": "display_data"
    },
    {
     "data": {
      "application/vnd.jupyter.widget-view+json": {
       "model_id": "b3d2599e8966434f9e4e605562e58ad3",
       "version_major": 2,
       "version_minor": 0
      },
      "text/plain": [
       "Iterative optimization:   0%|          | 0/200 [00:00<?, ?it/s]"
      ]
     },
     "metadata": {},
     "output_type": "display_data"
    },
    {
     "data": {
      "application/vnd.jupyter.widget-view+json": {
       "model_id": "77bf2611cb5d4f78843b66afea6d9bf8",
       "version_major": 2,
       "version_minor": 0
      },
      "text/plain": [
       "Iterative optimization:   0%|          | 0/200 [00:00<?, ?it/s]"
      ]
     },
     "metadata": {},
     "output_type": "display_data"
    },
    {
     "data": {
      "application/vnd.jupyter.widget-view+json": {
       "model_id": "a7bb7529fedb4aeaa91b14e780f43517",
       "version_major": 2,
       "version_minor": 0
      },
      "text/plain": [
       "Iterative optimization:   0%|          | 0/200 [00:00<?, ?it/s]"
      ]
     },
     "metadata": {},
     "output_type": "display_data"
    },
    {
     "data": {
      "application/vnd.jupyter.widget-view+json": {
       "model_id": "3590b8d30b55446ca97e3f5ea0e96808",
       "version_major": 2,
       "version_minor": 0
      },
      "text/plain": [
       "Computing synthetic controls:   0%|          | 0/5 [00:00<?, ?it/s]"
      ]
     },
     "metadata": {},
     "output_type": "display_data"
    },
    {
     "data": {
      "application/vnd.jupyter.widget-view+json": {
       "model_id": "71b1a743433f42c7981f0f9ada10d9be",
       "version_major": 2,
       "version_minor": 0
      },
      "text/plain": [
       "Iterative optimization:   0%|          | 0/200 [00:00<?, ?it/s]"
      ]
     },
     "metadata": {},
     "output_type": "display_data"
    },
    {
     "data": {
      "application/vnd.jupyter.widget-view+json": {
       "model_id": "947024c9981b45738e9dd0f962a8e326",
       "version_major": 2,
       "version_minor": 0
      },
      "text/plain": [
       "Iterative optimization:   0%|          | 0/200 [00:00<?, ?it/s]"
      ]
     },
     "metadata": {},
     "output_type": "display_data"
    },
    {
     "data": {
      "application/vnd.jupyter.widget-view+json": {
       "model_id": "78458dd624df40d38aec4105dc5d1398",
       "version_major": 2,
       "version_minor": 0
      },
      "text/plain": [
       "Iterative optimization:   0%|          | 0/200 [00:00<?, ?it/s]"
      ]
     },
     "metadata": {},
     "output_type": "display_data"
    },
    {
     "data": {
      "application/vnd.jupyter.widget-view+json": {
       "model_id": "e3df00a8f0454cfeaa115517d3dd5445",
       "version_major": 2,
       "version_minor": 0
      },
      "text/plain": [
       "Iterative optimization:   0%|          | 0/200 [00:00<?, ?it/s]"
      ]
     },
     "metadata": {},
     "output_type": "display_data"
    },
    {
     "data": {
      "application/vnd.jupyter.widget-view+json": {
       "model_id": "f41de72f27fa45abb2e2ad3f35f82c84",
       "version_major": 2,
       "version_minor": 0
      },
      "text/plain": [
       "Iterative optimization:   0%|          | 0/200 [00:00<?, ?it/s]"
      ]
     },
     "metadata": {},
     "output_type": "display_data"
    },
    {
     "data": {
      "application/vnd.jupyter.widget-view+json": {
       "model_id": "3fbebce885b144b3bfbd308b2f834793",
       "version_major": 2,
       "version_minor": 0
      },
      "text/plain": [
       "Iterative optimization:   0%|          | 0/200 [00:00<?, ?it/s]"
      ]
     },
     "metadata": {},
     "output_type": "display_data"
    },
    {
     "data": {
      "application/vnd.jupyter.widget-view+json": {
       "model_id": "0226067af79546b58feff54ebcb04fb5",
       "version_major": 2,
       "version_minor": 0
      },
      "text/plain": [
       "Computing synthetic controls:   0%|          | 0/5 [00:00<?, ?it/s]"
      ]
     },
     "metadata": {},
     "output_type": "display_data"
    },
    {
     "data": {
      "application/vnd.jupyter.widget-view+json": {
       "model_id": "3285c2e84fbf49e2ad038066c8867817",
       "version_major": 2,
       "version_minor": 0
      },
      "text/plain": [
       "Iterative optimization:   0%|          | 0/200 [00:00<?, ?it/s]"
      ]
     },
     "metadata": {},
     "output_type": "display_data"
    },
    {
     "data": {
      "application/vnd.jupyter.widget-view+json": {
       "model_id": "ffc8bca14f49448392027ff1d06ef183",
       "version_major": 2,
       "version_minor": 0
      },
      "text/plain": [
       "Iterative optimization:   0%|          | 0/200 [00:00<?, ?it/s]"
      ]
     },
     "metadata": {},
     "output_type": "display_data"
    },
    {
     "data": {
      "application/vnd.jupyter.widget-view+json": {
       "model_id": "cc6951d801664c4a8b913f16eecb3e46",
       "version_major": 2,
       "version_minor": 0
      },
      "text/plain": [
       "Iterative optimization:   0%|          | 0/200 [00:00<?, ?it/s]"
      ]
     },
     "metadata": {},
     "output_type": "display_data"
    },
    {
     "data": {
      "application/vnd.jupyter.widget-view+json": {
       "model_id": "f4a8cbc520ce4b2cb06f7d377f854c51",
       "version_major": 2,
       "version_minor": 0
      },
      "text/plain": [
       "Iterative optimization:   0%|          | 0/200 [00:00<?, ?it/s]"
      ]
     },
     "metadata": {},
     "output_type": "display_data"
    },
    {
     "data": {
      "application/vnd.jupyter.widget-view+json": {
       "model_id": "10886a4081784757a72bd6c209646e47",
       "version_major": 2,
       "version_minor": 0
      },
      "text/plain": [
       "Iterative optimization:   0%|          | 0/200 [00:00<?, ?it/s]"
      ]
     },
     "metadata": {},
     "output_type": "display_data"
    },
    {
     "data": {
      "application/vnd.jupyter.widget-view+json": {
       "model_id": "785d96bd3c484f13809a498367d4bc59",
       "version_major": 2,
       "version_minor": 0
      },
      "text/plain": [
       "Iterative optimization:   0%|          | 0/200 [00:00<?, ?it/s]"
      ]
     },
     "metadata": {},
     "output_type": "display_data"
    },
    {
     "data": {
      "application/vnd.jupyter.widget-view+json": {
       "model_id": "f3794face1004a8fa2cd4caa2132531b",
       "version_major": 2,
       "version_minor": 0
      },
      "text/plain": [
       "Computing synthetic controls:   0%|          | 0/5 [00:00<?, ?it/s]"
      ]
     },
     "metadata": {},
     "output_type": "display_data"
    },
    {
     "data": {
      "application/vnd.jupyter.widget-view+json": {
       "model_id": "8027d610fcb746009292744b7f7f7fdd",
       "version_major": 2,
       "version_minor": 0
      },
      "text/plain": [
       "  0%|          | 0/33 [00:00<?, ?it/s]"
      ]
     },
     "metadata": {},
     "output_type": "display_data"
    },
    {
     "data": {
      "application/vnd.jupyter.widget-view+json": {
       "model_id": "560e392968304406a048b13b375c8cf3",
       "version_major": 2,
       "version_minor": 0
      },
      "text/plain": [
       "Iterative optimization:   0%|          | 0/200 [00:00<?, ?it/s]"
      ]
     },
     "metadata": {},
     "output_type": "display_data"
    },
    {
     "data": {
      "application/vnd.jupyter.widget-view+json": {
       "model_id": "0b9b6e032fad4c1ab46d93f406590878",
       "version_major": 2,
       "version_minor": 0
      },
      "text/plain": [
       "Iterative optimization:   0%|          | 0/200 [00:00<?, ?it/s]"
      ]
     },
     "metadata": {},
     "output_type": "display_data"
    },
    {
     "data": {
      "application/vnd.jupyter.widget-view+json": {
       "model_id": "d92d376206094f39be961d70018f42bb",
       "version_major": 2,
       "version_minor": 0
      },
      "text/plain": [
       "Iterative optimization:   0%|          | 0/200 [00:00<?, ?it/s]"
      ]
     },
     "metadata": {},
     "output_type": "display_data"
    },
    {
     "data": {
      "application/vnd.jupyter.widget-view+json": {
       "model_id": "9fea0e5823bb4bc9ad7ea925d9404686",
       "version_major": 2,
       "version_minor": 0
      },
      "text/plain": [
       "Iterative optimization:   0%|          | 0/200 [00:00<?, ?it/s]"
      ]
     },
     "metadata": {},
     "output_type": "display_data"
    },
    {
     "data": {
      "application/vnd.jupyter.widget-view+json": {
       "model_id": "9739eb3cfc974e56947408ced4cb6ba5",
       "version_major": 2,
       "version_minor": 0
      },
      "text/plain": [
       "Iterative optimization:   0%|          | 0/200 [00:00<?, ?it/s]"
      ]
     },
     "metadata": {},
     "output_type": "display_data"
    },
    {
     "data": {
      "application/vnd.jupyter.widget-view+json": {
       "model_id": "e523d2790fa148129e62f572736b57eb",
       "version_major": 2,
       "version_minor": 0
      },
      "text/plain": [
       "Iterative optimization:   0%|          | 0/200 [00:00<?, ?it/s]"
      ]
     },
     "metadata": {},
     "output_type": "display_data"
    },
    {
     "data": {
      "application/vnd.jupyter.widget-view+json": {
       "model_id": "88fbc54ba47f432291fd765092abb358",
       "version_major": 2,
       "version_minor": 0
      },
      "text/plain": [
       "Computing synthetic controls:   0%|          | 0/5 [00:00<?, ?it/s]"
      ]
     },
     "metadata": {},
     "output_type": "display_data"
    },
    {
     "data": {
      "application/vnd.jupyter.widget-view+json": {
       "model_id": "92c7fe7239e84015a822e7131d83a2b0",
       "version_major": 2,
       "version_minor": 0
      },
      "text/plain": [
       "Iterative optimization:   0%|          | 0/200 [00:00<?, ?it/s]"
      ]
     },
     "metadata": {},
     "output_type": "display_data"
    },
    {
     "data": {
      "application/vnd.jupyter.widget-view+json": {
       "model_id": "1ca6fa5278e942d4a35aededc032b421",
       "version_major": 2,
       "version_minor": 0
      },
      "text/plain": [
       "Iterative optimization:   0%|          | 0/200 [00:00<?, ?it/s]"
      ]
     },
     "metadata": {},
     "output_type": "display_data"
    },
    {
     "data": {
      "application/vnd.jupyter.widget-view+json": {
       "model_id": "e31707b046cb49338d61edf235b99621",
       "version_major": 2,
       "version_minor": 0
      },
      "text/plain": [
       "Iterative optimization:   0%|          | 0/200 [00:00<?, ?it/s]"
      ]
     },
     "metadata": {},
     "output_type": "display_data"
    },
    {
     "data": {
      "application/vnd.jupyter.widget-view+json": {
       "model_id": "7984cf1e2c104479b96110319d5e78cf",
       "version_major": 2,
       "version_minor": 0
      },
      "text/plain": [
       "Iterative optimization:   0%|          | 0/200 [00:00<?, ?it/s]"
      ]
     },
     "metadata": {},
     "output_type": "display_data"
    },
    {
     "data": {
      "application/vnd.jupyter.widget-view+json": {
       "model_id": "395296757f6e4c5ba09ce13445217b81",
       "version_major": 2,
       "version_minor": 0
      },
      "text/plain": [
       "Iterative optimization:   0%|          | 0/200 [00:00<?, ?it/s]"
      ]
     },
     "metadata": {},
     "output_type": "display_data"
    },
    {
     "data": {
      "application/vnd.jupyter.widget-view+json": {
       "model_id": "9f968d7ae43b4273b315ad8125655a6b",
       "version_major": 2,
       "version_minor": 0
      },
      "text/plain": [
       "Iterative optimization:   0%|          | 0/200 [00:00<?, ?it/s]"
      ]
     },
     "metadata": {},
     "output_type": "display_data"
    },
    {
     "data": {
      "application/vnd.jupyter.widget-view+json": {
       "model_id": "1fdceae928f942b19a287fa02a9eaa59",
       "version_major": 2,
       "version_minor": 0
      },
      "text/plain": [
       "Computing synthetic controls:   0%|          | 0/5 [00:00<?, ?it/s]"
      ]
     },
     "metadata": {},
     "output_type": "display_data"
    },
    {
     "data": {
      "application/vnd.jupyter.widget-view+json": {
       "model_id": "b9ebebab690d450889704cc18f66faaa",
       "version_major": 2,
       "version_minor": 0
      },
      "text/plain": [
       "Iterative optimization:   0%|          | 0/200 [00:00<?, ?it/s]"
      ]
     },
     "metadata": {},
     "output_type": "display_data"
    },
    {
     "data": {
      "application/vnd.jupyter.widget-view+json": {
       "model_id": "4298eef8410c447488aa0170ce0b5008",
       "version_major": 2,
       "version_minor": 0
      },
      "text/plain": [
       "Iterative optimization:   0%|          | 0/200 [00:00<?, ?it/s]"
      ]
     },
     "metadata": {},
     "output_type": "display_data"
    },
    {
     "data": {
      "application/vnd.jupyter.widget-view+json": {
       "model_id": "c5186e47598d473e91dbc6dae8581059",
       "version_major": 2,
       "version_minor": 0
      },
      "text/plain": [
       "Iterative optimization:   0%|          | 0/200 [00:00<?, ?it/s]"
      ]
     },
     "metadata": {},
     "output_type": "display_data"
    },
    {
     "data": {
      "application/vnd.jupyter.widget-view+json": {
       "model_id": "5ee5cd0390d24e1c97330340792659e5",
       "version_major": 2,
       "version_minor": 0
      },
      "text/plain": [
       "Iterative optimization:   0%|          | 0/200 [00:00<?, ?it/s]"
      ]
     },
     "metadata": {},
     "output_type": "display_data"
    },
    {
     "data": {
      "application/vnd.jupyter.widget-view+json": {
       "model_id": "d6c260e15e194e219e21409d9e36bbd0",
       "version_major": 2,
       "version_minor": 0
      },
      "text/plain": [
       "Iterative optimization:   0%|          | 0/200 [00:00<?, ?it/s]"
      ]
     },
     "metadata": {},
     "output_type": "display_data"
    },
    {
     "data": {
      "application/vnd.jupyter.widget-view+json": {
       "model_id": "94fd9dca575e404ab9e67e691ff27a81",
       "version_major": 2,
       "version_minor": 0
      },
      "text/plain": [
       "Iterative optimization:   0%|          | 0/200 [00:00<?, ?it/s]"
      ]
     },
     "metadata": {},
     "output_type": "display_data"
    },
    {
     "data": {
      "application/vnd.jupyter.widget-view+json": {
       "model_id": "7c6c0f643097418e9278de9ab57a3726",
       "version_major": 2,
       "version_minor": 0
      },
      "text/plain": [
       "Computing synthetic controls:   0%|          | 0/5 [00:00<?, ?it/s]"
      ]
     },
     "metadata": {},
     "output_type": "display_data"
    },
    {
     "data": {
      "application/vnd.jupyter.widget-view+json": {
       "model_id": "ded1673466914776b39b839520900b54",
       "version_major": 2,
       "version_minor": 0
      },
      "text/plain": [
       "Iterative optimization:   0%|          | 0/200 [00:00<?, ?it/s]"
      ]
     },
     "metadata": {},
     "output_type": "display_data"
    },
    {
     "data": {
      "application/vnd.jupyter.widget-view+json": {
       "model_id": "e448b94f35b8425c9e59945b0575ff4e",
       "version_major": 2,
       "version_minor": 0
      },
      "text/plain": [
       "Iterative optimization:   0%|          | 0/200 [00:00<?, ?it/s]"
      ]
     },
     "metadata": {},
     "output_type": "display_data"
    },
    {
     "data": {
      "application/vnd.jupyter.widget-view+json": {
       "model_id": "d17fe83eb3874ff98fccce1acbb69786",
       "version_major": 2,
       "version_minor": 0
      },
      "text/plain": [
       "Iterative optimization:   0%|          | 0/200 [00:00<?, ?it/s]"
      ]
     },
     "metadata": {},
     "output_type": "display_data"
    },
    {
     "data": {
      "application/vnd.jupyter.widget-view+json": {
       "model_id": "ec47f9bcb02346788077d2cbf0b3bc0b",
       "version_major": 2,
       "version_minor": 0
      },
      "text/plain": [
       "Iterative optimization:   0%|          | 0/200 [00:00<?, ?it/s]"
      ]
     },
     "metadata": {},
     "output_type": "display_data"
    },
    {
     "data": {
      "application/vnd.jupyter.widget-view+json": {
       "model_id": "505ddbb4bcab4f72955134e0ccdcecf7",
       "version_major": 2,
       "version_minor": 0
      },
      "text/plain": [
       "Iterative optimization:   0%|          | 0/200 [00:00<?, ?it/s]"
      ]
     },
     "metadata": {},
     "output_type": "display_data"
    },
    {
     "data": {
      "application/vnd.jupyter.widget-view+json": {
       "model_id": "7c725bc4c6d54ce7a4676b9e12e1c510",
       "version_major": 2,
       "version_minor": 0
      },
      "text/plain": [
       "Iterative optimization:   0%|          | 0/200 [00:00<?, ?it/s]"
      ]
     },
     "metadata": {},
     "output_type": "display_data"
    },
    {
     "data": {
      "application/vnd.jupyter.widget-view+json": {
       "model_id": "ec981bb653a446e1ad99b16867f332a7",
       "version_major": 2,
       "version_minor": 0
      },
      "text/plain": [
       "Computing synthetic controls:   0%|          | 0/5 [00:00<?, ?it/s]"
      ]
     },
     "metadata": {},
     "output_type": "display_data"
    },
    {
     "data": {
      "application/vnd.jupyter.widget-view+json": {
       "model_id": "52624e4b92524ad8a94c612e355c4544",
       "version_major": 2,
       "version_minor": 0
      },
      "text/plain": [
       "Iterative optimization:   0%|          | 0/200 [00:00<?, ?it/s]"
      ]
     },
     "metadata": {},
     "output_type": "display_data"
    },
    {
     "data": {
      "application/vnd.jupyter.widget-view+json": {
       "model_id": "5f91dfb64ebd4655afea8a124d9ef7ef",
       "version_major": 2,
       "version_minor": 0
      },
      "text/plain": [
       "Iterative optimization:   0%|          | 0/200 [00:00<?, ?it/s]"
      ]
     },
     "metadata": {},
     "output_type": "display_data"
    },
    {
     "data": {
      "application/vnd.jupyter.widget-view+json": {
       "model_id": "81ad93b18ee245ba8023152b757664d0",
       "version_major": 2,
       "version_minor": 0
      },
      "text/plain": [
       "Iterative optimization:   0%|          | 0/200 [00:00<?, ?it/s]"
      ]
     },
     "metadata": {},
     "output_type": "display_data"
    },
    {
     "data": {
      "application/vnd.jupyter.widget-view+json": {
       "model_id": "0db74be8af504f2b866a4337254a6017",
       "version_major": 2,
       "version_minor": 0
      },
      "text/plain": [
       "Iterative optimization:   0%|          | 0/200 [00:00<?, ?it/s]"
      ]
     },
     "metadata": {},
     "output_type": "display_data"
    },
    {
     "data": {
      "application/vnd.jupyter.widget-view+json": {
       "model_id": "7b56aea9a24a4ffc9d580e7b76a923e0",
       "version_major": 2,
       "version_minor": 0
      },
      "text/plain": [
       "Iterative optimization:   0%|          | 0/200 [00:00<?, ?it/s]"
      ]
     },
     "metadata": {},
     "output_type": "display_data"
    },
    {
     "data": {
      "application/vnd.jupyter.widget-view+json": {
       "model_id": "4730ecc47fa74edd97790814a4be34a6",
       "version_major": 2,
       "version_minor": 0
      },
      "text/plain": [
       "Iterative optimization:   0%|          | 0/200 [00:00<?, ?it/s]"
      ]
     },
     "metadata": {},
     "output_type": "display_data"
    },
    {
     "data": {
      "application/vnd.jupyter.widget-view+json": {
       "model_id": "37b8b3df8fad44e2ad905ebd8c0f4ae0",
       "version_major": 2,
       "version_minor": 0
      },
      "text/plain": [
       "Computing synthetic controls:   0%|          | 0/5 [00:00<?, ?it/s]"
      ]
     },
     "metadata": {},
     "output_type": "display_data"
    },
    {
     "data": {
      "application/vnd.jupyter.widget-view+json": {
       "model_id": "d502c11341a24659853be648ef1a56f4",
       "version_major": 2,
       "version_minor": 0
      },
      "text/plain": [
       "Iterative optimization:   0%|          | 0/200 [00:00<?, ?it/s]"
      ]
     },
     "metadata": {},
     "output_type": "display_data"
    },
    {
     "data": {
      "application/vnd.jupyter.widget-view+json": {
       "model_id": "4f451bdebe974a928fcecf0604e38dd8",
       "version_major": 2,
       "version_minor": 0
      },
      "text/plain": [
       "Iterative optimization:   0%|          | 0/200 [00:00<?, ?it/s]"
      ]
     },
     "metadata": {},
     "output_type": "display_data"
    },
    {
     "data": {
      "application/vnd.jupyter.widget-view+json": {
       "model_id": "a7e6096b9400462f8404b9c8256e3fa3",
       "version_major": 2,
       "version_minor": 0
      },
      "text/plain": [
       "Iterative optimization:   0%|          | 0/200 [00:00<?, ?it/s]"
      ]
     },
     "metadata": {},
     "output_type": "display_data"
    },
    {
     "data": {
      "application/vnd.jupyter.widget-view+json": {
       "model_id": "5c2bc37b7101407d8122b4532fb2a74b",
       "version_major": 2,
       "version_minor": 0
      },
      "text/plain": [
       "Iterative optimization:   0%|          | 0/200 [00:00<?, ?it/s]"
      ]
     },
     "metadata": {},
     "output_type": "display_data"
    },
    {
     "data": {
      "application/vnd.jupyter.widget-view+json": {
       "model_id": "ed28b970d51b474484775dd6592b6680",
       "version_major": 2,
       "version_minor": 0
      },
      "text/plain": [
       "Iterative optimization:   0%|          | 0/200 [00:00<?, ?it/s]"
      ]
     },
     "metadata": {},
     "output_type": "display_data"
    },
    {
     "data": {
      "application/vnd.jupyter.widget-view+json": {
       "model_id": "60cfc5fcc00f40e09e10078bc864977e",
       "version_major": 2,
       "version_minor": 0
      },
      "text/plain": [
       "Iterative optimization:   0%|          | 0/200 [00:00<?, ?it/s]"
      ]
     },
     "metadata": {},
     "output_type": "display_data"
    },
    {
     "data": {
      "application/vnd.jupyter.widget-view+json": {
       "model_id": "54d03e0990ba493fa599e969a7e9abe6",
       "version_major": 2,
       "version_minor": 0
      },
      "text/plain": [
       "Computing synthetic controls:   0%|          | 0/5 [00:00<?, ?it/s]"
      ]
     },
     "metadata": {},
     "output_type": "display_data"
    },
    {
     "data": {
      "application/vnd.jupyter.widget-view+json": {
       "model_id": "9d28c6bb8f9c404ab9d5fb5fd5c41e24",
       "version_major": 2,
       "version_minor": 0
      },
      "text/plain": [
       "Iterative optimization:   0%|          | 0/200 [00:00<?, ?it/s]"
      ]
     },
     "metadata": {},
     "output_type": "display_data"
    },
    {
     "data": {
      "application/vnd.jupyter.widget-view+json": {
       "model_id": "4e14ecb08d0a427e996ec384e3e8bec9",
       "version_major": 2,
       "version_minor": 0
      },
      "text/plain": [
       "Iterative optimization:   0%|          | 0/200 [00:00<?, ?it/s]"
      ]
     },
     "metadata": {},
     "output_type": "display_data"
    },
    {
     "data": {
      "application/vnd.jupyter.widget-view+json": {
       "model_id": "fa074edb0c9d41f98f217e99871c8976",
       "version_major": 2,
       "version_minor": 0
      },
      "text/plain": [
       "Iterative optimization:   0%|          | 0/200 [00:00<?, ?it/s]"
      ]
     },
     "metadata": {},
     "output_type": "display_data"
    },
    {
     "data": {
      "application/vnd.jupyter.widget-view+json": {
       "model_id": "4827ec6686d04352bd5bf8308458c6ab",
       "version_major": 2,
       "version_minor": 0
      },
      "text/plain": [
       "Iterative optimization:   0%|          | 0/200 [00:00<?, ?it/s]"
      ]
     },
     "metadata": {},
     "output_type": "display_data"
    },
    {
     "data": {
      "application/vnd.jupyter.widget-view+json": {
       "model_id": "0757fb0872dc455cb5d29d7466a22802",
       "version_major": 2,
       "version_minor": 0
      },
      "text/plain": [
       "Iterative optimization:   0%|          | 0/200 [00:00<?, ?it/s]"
      ]
     },
     "metadata": {},
     "output_type": "display_data"
    },
    {
     "data": {
      "application/vnd.jupyter.widget-view+json": {
       "model_id": "49b6851f83ac4609968cab2737584bd9",
       "version_major": 2,
       "version_minor": 0
      },
      "text/plain": [
       "Iterative optimization:   0%|          | 0/200 [00:00<?, ?it/s]"
      ]
     },
     "metadata": {},
     "output_type": "display_data"
    },
    {
     "data": {
      "application/vnd.jupyter.widget-view+json": {
       "model_id": "8ac2efcb5f514a6db15033095cffa9e3",
       "version_major": 2,
       "version_minor": 0
      },
      "text/plain": [
       "Computing synthetic controls:   0%|          | 0/5 [00:00<?, ?it/s]"
      ]
     },
     "metadata": {},
     "output_type": "display_data"
    },
    {
     "data": {
      "application/vnd.jupyter.widget-view+json": {
       "model_id": "3d6ac23d8c9942a2bfad199f5e457348",
       "version_major": 2,
       "version_minor": 0
      },
      "text/plain": [
       "Iterative optimization:   0%|          | 0/200 [00:00<?, ?it/s]"
      ]
     },
     "metadata": {},
     "output_type": "display_data"
    },
    {
     "data": {
      "application/vnd.jupyter.widget-view+json": {
       "model_id": "6b3a0257332241e6842a363b99da0319",
       "version_major": 2,
       "version_minor": 0
      },
      "text/plain": [
       "Iterative optimization:   0%|          | 0/200 [00:00<?, ?it/s]"
      ]
     },
     "metadata": {},
     "output_type": "display_data"
    },
    {
     "data": {
      "application/vnd.jupyter.widget-view+json": {
       "model_id": "718433820b5d4404bc0d714595b2fe81",
       "version_major": 2,
       "version_minor": 0
      },
      "text/plain": [
       "Iterative optimization:   0%|          | 0/200 [00:00<?, ?it/s]"
      ]
     },
     "metadata": {},
     "output_type": "display_data"
    },
    {
     "data": {
      "application/vnd.jupyter.widget-view+json": {
       "model_id": "9a79fa3daa514e0597fbb2919c811406",
       "version_major": 2,
       "version_minor": 0
      },
      "text/plain": [
       "Iterative optimization:   0%|          | 0/200 [00:00<?, ?it/s]"
      ]
     },
     "metadata": {},
     "output_type": "display_data"
    },
    {
     "data": {
      "application/vnd.jupyter.widget-view+json": {
       "model_id": "64ebdd49e97a47d09c1ee5cc85d938bd",
       "version_major": 2,
       "version_minor": 0
      },
      "text/plain": [
       "Iterative optimization:   0%|          | 0/200 [00:00<?, ?it/s]"
      ]
     },
     "metadata": {},
     "output_type": "display_data"
    },
    {
     "data": {
      "application/vnd.jupyter.widget-view+json": {
       "model_id": "23e34b1bbad149b0bf0309e3ec954d52",
       "version_major": 2,
       "version_minor": 0
      },
      "text/plain": [
       "Iterative optimization:   0%|          | 0/200 [00:00<?, ?it/s]"
      ]
     },
     "metadata": {},
     "output_type": "display_data"
    },
    {
     "data": {
      "application/vnd.jupyter.widget-view+json": {
       "model_id": "2a14fc96c0f04f58bff621edacefe340",
       "version_major": 2,
       "version_minor": 0
      },
      "text/plain": [
       "Computing synthetic controls:   0%|          | 0/5 [00:00<?, ?it/s]"
      ]
     },
     "metadata": {},
     "output_type": "display_data"
    },
    {
     "data": {
      "application/vnd.jupyter.widget-view+json": {
       "model_id": "04504317c88546f1910ef70afa06008f",
       "version_major": 2,
       "version_minor": 0
      },
      "text/plain": [
       "Iterative optimization:   0%|          | 0/200 [00:00<?, ?it/s]"
      ]
     },
     "metadata": {},
     "output_type": "display_data"
    },
    {
     "data": {
      "application/vnd.jupyter.widget-view+json": {
       "model_id": "49687c60aa47414eb22f899515ded287",
       "version_major": 2,
       "version_minor": 0
      },
      "text/plain": [
       "Iterative optimization:   0%|          | 0/200 [00:00<?, ?it/s]"
      ]
     },
     "metadata": {},
     "output_type": "display_data"
    },
    {
     "data": {
      "application/vnd.jupyter.widget-view+json": {
       "model_id": "e6a307d9711e4e53a4805bd4b6848f3e",
       "version_major": 2,
       "version_minor": 0
      },
      "text/plain": [
       "Iterative optimization:   0%|          | 0/200 [00:00<?, ?it/s]"
      ]
     },
     "metadata": {},
     "output_type": "display_data"
    },
    {
     "data": {
      "application/vnd.jupyter.widget-view+json": {
       "model_id": "1e77390eb3964aeebd7c107853831fd2",
       "version_major": 2,
       "version_minor": 0
      },
      "text/plain": [
       "Iterative optimization:   0%|          | 0/200 [00:00<?, ?it/s]"
      ]
     },
     "metadata": {},
     "output_type": "display_data"
    },
    {
     "data": {
      "application/vnd.jupyter.widget-view+json": {
       "model_id": "23ffb43490944f79a9832d5a786b343a",
       "version_major": 2,
       "version_minor": 0
      },
      "text/plain": [
       "Iterative optimization:   0%|          | 0/200 [00:00<?, ?it/s]"
      ]
     },
     "metadata": {},
     "output_type": "display_data"
    },
    {
     "data": {
      "application/vnd.jupyter.widget-view+json": {
       "model_id": "d2dd3bf4452143f2b695ab2089f7bbd6",
       "version_major": 2,
       "version_minor": 0
      },
      "text/plain": [
       "Iterative optimization:   0%|          | 0/200 [00:00<?, ?it/s]"
      ]
     },
     "metadata": {},
     "output_type": "display_data"
    },
    {
     "data": {
      "application/vnd.jupyter.widget-view+json": {
       "model_id": "ca3df3e627d6444f848ef2a4ae1f062c",
       "version_major": 2,
       "version_minor": 0
      },
      "text/plain": [
       "Computing synthetic controls:   0%|          | 0/5 [00:00<?, ?it/s]"
      ]
     },
     "metadata": {},
     "output_type": "display_data"
    },
    {
     "data": {
      "application/vnd.jupyter.widget-view+json": {
       "model_id": "aa545dc11fc04d9394d8eab416228642",
       "version_major": 2,
       "version_minor": 0
      },
      "text/plain": [
       "Iterative optimization:   0%|          | 0/200 [00:00<?, ?it/s]"
      ]
     },
     "metadata": {},
     "output_type": "display_data"
    },
    {
     "data": {
      "application/vnd.jupyter.widget-view+json": {
       "model_id": "b98de49bdd704216ac70583f5118b60c",
       "version_major": 2,
       "version_minor": 0
      },
      "text/plain": [
       "Iterative optimization:   0%|          | 0/200 [00:00<?, ?it/s]"
      ]
     },
     "metadata": {},
     "output_type": "display_data"
    },
    {
     "data": {
      "application/vnd.jupyter.widget-view+json": {
       "model_id": "2f634df5cb6e4644b4478ef2decf7ca2",
       "version_major": 2,
       "version_minor": 0
      },
      "text/plain": [
       "Iterative optimization:   0%|          | 0/200 [00:00<?, ?it/s]"
      ]
     },
     "metadata": {},
     "output_type": "display_data"
    },
    {
     "data": {
      "application/vnd.jupyter.widget-view+json": {
       "model_id": "8e0123f7ba69434091cdeb9d98b7204b",
       "version_major": 2,
       "version_minor": 0
      },
      "text/plain": [
       "Iterative optimization:   0%|          | 0/200 [00:00<?, ?it/s]"
      ]
     },
     "metadata": {},
     "output_type": "display_data"
    },
    {
     "data": {
      "application/vnd.jupyter.widget-view+json": {
       "model_id": "6ad832f19d9a4bf0875c8a1787e0d249",
       "version_major": 2,
       "version_minor": 0
      },
      "text/plain": [
       "Iterative optimization:   0%|          | 0/200 [00:00<?, ?it/s]"
      ]
     },
     "metadata": {},
     "output_type": "display_data"
    },
    {
     "data": {
      "application/vnd.jupyter.widget-view+json": {
       "model_id": "f26c8c28c1534fb2a4bc0035f908a2c3",
       "version_major": 2,
       "version_minor": 0
      },
      "text/plain": [
       "Iterative optimization:   0%|          | 0/200 [00:00<?, ?it/s]"
      ]
     },
     "metadata": {},
     "output_type": "display_data"
    },
    {
     "data": {
      "application/vnd.jupyter.widget-view+json": {
       "model_id": "ccfcd904ce734178b5a2adf2ac32f6cf",
       "version_major": 2,
       "version_minor": 0
      },
      "text/plain": [
       "Computing synthetic controls:   0%|          | 0/5 [00:00<?, ?it/s]"
      ]
     },
     "metadata": {},
     "output_type": "display_data"
    },
    {
     "data": {
      "application/vnd.jupyter.widget-view+json": {
       "model_id": "6890eb06962c40039f23a9a14468c017",
       "version_major": 2,
       "version_minor": 0
      },
      "text/plain": [
       "Iterative optimization:   0%|          | 0/200 [00:00<?, ?it/s]"
      ]
     },
     "metadata": {},
     "output_type": "display_data"
    },
    {
     "data": {
      "application/vnd.jupyter.widget-view+json": {
       "model_id": "91e6d9a3b240479595816dcdcb03b4a9",
       "version_major": 2,
       "version_minor": 0
      },
      "text/plain": [
       "Iterative optimization:   0%|          | 0/200 [00:00<?, ?it/s]"
      ]
     },
     "metadata": {},
     "output_type": "display_data"
    },
    {
     "data": {
      "application/vnd.jupyter.widget-view+json": {
       "model_id": "3e1c8e3e593443ab94848995b9b6dcd3",
       "version_major": 2,
       "version_minor": 0
      },
      "text/plain": [
       "Iterative optimization:   0%|          | 0/200 [00:00<?, ?it/s]"
      ]
     },
     "metadata": {},
     "output_type": "display_data"
    },
    {
     "data": {
      "application/vnd.jupyter.widget-view+json": {
       "model_id": "c7090726b38845238c25ec4ff7c71c85",
       "version_major": 2,
       "version_minor": 0
      },
      "text/plain": [
       "Iterative optimization:   0%|          | 0/200 [00:00<?, ?it/s]"
      ]
     },
     "metadata": {},
     "output_type": "display_data"
    },
    {
     "data": {
      "application/vnd.jupyter.widget-view+json": {
       "model_id": "0d9ab0848455420788aa74988dc7e072",
       "version_major": 2,
       "version_minor": 0
      },
      "text/plain": [
       "Iterative optimization:   0%|          | 0/200 [00:00<?, ?it/s]"
      ]
     },
     "metadata": {},
     "output_type": "display_data"
    },
    {
     "data": {
      "application/vnd.jupyter.widget-view+json": {
       "model_id": "aa0e7afd73eb4cae9900a47ce505b447",
       "version_major": 2,
       "version_minor": 0
      },
      "text/plain": [
       "Iterative optimization:   0%|          | 0/200 [00:00<?, ?it/s]"
      ]
     },
     "metadata": {},
     "output_type": "display_data"
    },
    {
     "data": {
      "application/vnd.jupyter.widget-view+json": {
       "model_id": "12372d97654a4bc9a2bd7169d32b703b",
       "version_major": 2,
       "version_minor": 0
      },
      "text/plain": [
       "Computing synthetic controls:   0%|          | 0/5 [00:00<?, ?it/s]"
      ]
     },
     "metadata": {},
     "output_type": "display_data"
    },
    {
     "data": {
      "application/vnd.jupyter.widget-view+json": {
       "model_id": "a02c9c6f1dfd4ea18528d30c6421369c",
       "version_major": 2,
       "version_minor": 0
      },
      "text/plain": [
       "Iterative optimization:   0%|          | 0/200 [00:00<?, ?it/s]"
      ]
     },
     "metadata": {},
     "output_type": "display_data"
    },
    {
     "data": {
      "application/vnd.jupyter.widget-view+json": {
       "model_id": "b0c65af3f540474a89614b706a817007",
       "version_major": 2,
       "version_minor": 0
      },
      "text/plain": [
       "Iterative optimization:   0%|          | 0/200 [00:00<?, ?it/s]"
      ]
     },
     "metadata": {},
     "output_type": "display_data"
    },
    {
     "data": {
      "application/vnd.jupyter.widget-view+json": {
       "model_id": "f356597e34944f0f991df6360638fde8",
       "version_major": 2,
       "version_minor": 0
      },
      "text/plain": [
       "Iterative optimization:   0%|          | 0/200 [00:00<?, ?it/s]"
      ]
     },
     "metadata": {},
     "output_type": "display_data"
    },
    {
     "data": {
      "application/vnd.jupyter.widget-view+json": {
       "model_id": "2d32096c0c354f72b57da410eeb2bb87",
       "version_major": 2,
       "version_minor": 0
      },
      "text/plain": [
       "Iterative optimization:   0%|          | 0/200 [00:00<?, ?it/s]"
      ]
     },
     "metadata": {},
     "output_type": "display_data"
    },
    {
     "data": {
      "application/vnd.jupyter.widget-view+json": {
       "model_id": "10fef72515ae4f2e8c84db9e1e85f165",
       "version_major": 2,
       "version_minor": 0
      },
      "text/plain": [
       "Iterative optimization:   0%|          | 0/200 [00:00<?, ?it/s]"
      ]
     },
     "metadata": {},
     "output_type": "display_data"
    },
    {
     "data": {
      "application/vnd.jupyter.widget-view+json": {
       "model_id": "dd71e5f22f5646fdbf01dc1b5cfa837c",
       "version_major": 2,
       "version_minor": 0
      },
      "text/plain": [
       "Iterative optimization:   0%|          | 0/200 [00:00<?, ?it/s]"
      ]
     },
     "metadata": {},
     "output_type": "display_data"
    },
    {
     "data": {
      "application/vnd.jupyter.widget-view+json": {
       "model_id": "5786ddf916e94f678163f8f82afc2b8c",
       "version_major": 2,
       "version_minor": 0
      },
      "text/plain": [
       "Computing synthetic controls:   0%|          | 0/5 [00:00<?, ?it/s]"
      ]
     },
     "metadata": {},
     "output_type": "display_data"
    },
    {
     "data": {
      "application/vnd.jupyter.widget-view+json": {
       "model_id": "1f6abfa98859483b87f6172e57e80191",
       "version_major": 2,
       "version_minor": 0
      },
      "text/plain": [
       "Iterative optimization:   0%|          | 0/200 [00:00<?, ?it/s]"
      ]
     },
     "metadata": {},
     "output_type": "display_data"
    },
    {
     "data": {
      "application/vnd.jupyter.widget-view+json": {
       "model_id": "f0a009d5dcd24a5a8d3926d83e6f8327",
       "version_major": 2,
       "version_minor": 0
      },
      "text/plain": [
       "Iterative optimization:   0%|          | 0/200 [00:00<?, ?it/s]"
      ]
     },
     "metadata": {},
     "output_type": "display_data"
    },
    {
     "data": {
      "application/vnd.jupyter.widget-view+json": {
       "model_id": "ddcdf1e03e65491c89e0d89e34b58816",
       "version_major": 2,
       "version_minor": 0
      },
      "text/plain": [
       "Iterative optimization:   0%|          | 0/200 [00:00<?, ?it/s]"
      ]
     },
     "metadata": {},
     "output_type": "display_data"
    },
    {
     "data": {
      "application/vnd.jupyter.widget-view+json": {
       "model_id": "026775f96a754c97a52a33aef580ca38",
       "version_major": 2,
       "version_minor": 0
      },
      "text/plain": [
       "Iterative optimization:   0%|          | 0/200 [00:00<?, ?it/s]"
      ]
     },
     "metadata": {},
     "output_type": "display_data"
    },
    {
     "data": {
      "application/vnd.jupyter.widget-view+json": {
       "model_id": "10acdc1cc2ab44e9b2173e918a8cb295",
       "version_major": 2,
       "version_minor": 0
      },
      "text/plain": [
       "Iterative optimization:   0%|          | 0/200 [00:00<?, ?it/s]"
      ]
     },
     "metadata": {},
     "output_type": "display_data"
    },
    {
     "data": {
      "application/vnd.jupyter.widget-view+json": {
       "model_id": "9962d815949e4072beeae9bb9fdb42a1",
       "version_major": 2,
       "version_minor": 0
      },
      "text/plain": [
       "Iterative optimization:   0%|          | 0/200 [00:00<?, ?it/s]"
      ]
     },
     "metadata": {},
     "output_type": "display_data"
    },
    {
     "data": {
      "application/vnd.jupyter.widget-view+json": {
       "model_id": "31d63087943443b286486111aa1b0a5d",
       "version_major": 2,
       "version_minor": 0
      },
      "text/plain": [
       "Computing synthetic controls:   0%|          | 0/5 [00:00<?, ?it/s]"
      ]
     },
     "metadata": {},
     "output_type": "display_data"
    },
    {
     "data": {
      "application/vnd.jupyter.widget-view+json": {
       "model_id": "ca1bea18f92e44c2893c8f58cc502ab1",
       "version_major": 2,
       "version_minor": 0
      },
      "text/plain": [
       "Iterative optimization:   0%|          | 0/200 [00:00<?, ?it/s]"
      ]
     },
     "metadata": {},
     "output_type": "display_data"
    },
    {
     "data": {
      "application/vnd.jupyter.widget-view+json": {
       "model_id": "0e35881fea504fd0a77ceac5decc9e18",
       "version_major": 2,
       "version_minor": 0
      },
      "text/plain": [
       "Iterative optimization:   0%|          | 0/200 [00:00<?, ?it/s]"
      ]
     },
     "metadata": {},
     "output_type": "display_data"
    },
    {
     "data": {
      "application/vnd.jupyter.widget-view+json": {
       "model_id": "af922a77a7454f8ca41d45c79a44f4b4",
       "version_major": 2,
       "version_minor": 0
      },
      "text/plain": [
       "Iterative optimization:   0%|          | 0/200 [00:00<?, ?it/s]"
      ]
     },
     "metadata": {},
     "output_type": "display_data"
    },
    {
     "data": {
      "application/vnd.jupyter.widget-view+json": {
       "model_id": "207e4eb99d75400b95f286684cf7d31e",
       "version_major": 2,
       "version_minor": 0
      },
      "text/plain": [
       "Iterative optimization:   0%|          | 0/200 [00:00<?, ?it/s]"
      ]
     },
     "metadata": {},
     "output_type": "display_data"
    },
    {
     "data": {
      "application/vnd.jupyter.widget-view+json": {
       "model_id": "05f88036bab24212ae15129653326749",
       "version_major": 2,
       "version_minor": 0
      },
      "text/plain": [
       "Iterative optimization:   0%|          | 0/200 [00:00<?, ?it/s]"
      ]
     },
     "metadata": {},
     "output_type": "display_data"
    },
    {
     "data": {
      "application/vnd.jupyter.widget-view+json": {
       "model_id": "295021dce81643b3a166568a93569f1d",
       "version_major": 2,
       "version_minor": 0
      },
      "text/plain": [
       "Iterative optimization:   0%|          | 0/200 [00:00<?, ?it/s]"
      ]
     },
     "metadata": {},
     "output_type": "display_data"
    },
    {
     "data": {
      "application/vnd.jupyter.widget-view+json": {
       "model_id": "9a0385c855cd4682863fda69c9a01d35",
       "version_major": 2,
       "version_minor": 0
      },
      "text/plain": [
       "Computing synthetic controls:   0%|          | 0/5 [00:00<?, ?it/s]"
      ]
     },
     "metadata": {},
     "output_type": "display_data"
    },
    {
     "data": {
      "application/vnd.jupyter.widget-view+json": {
       "model_id": "f360ff4bf9124ed4be99c920c122bbee",
       "version_major": 2,
       "version_minor": 0
      },
      "text/plain": [
       "Iterative optimization:   0%|          | 0/200 [00:00<?, ?it/s]"
      ]
     },
     "metadata": {},
     "output_type": "display_data"
    },
    {
     "data": {
      "application/vnd.jupyter.widget-view+json": {
       "model_id": "c35835dca39f44f0977fc0cb317e74dd",
       "version_major": 2,
       "version_minor": 0
      },
      "text/plain": [
       "Iterative optimization:   0%|          | 0/200 [00:00<?, ?it/s]"
      ]
     },
     "metadata": {},
     "output_type": "display_data"
    },
    {
     "data": {
      "application/vnd.jupyter.widget-view+json": {
       "model_id": "ad0a5fc83735484bbc39b9719b83873d",
       "version_major": 2,
       "version_minor": 0
      },
      "text/plain": [
       "Iterative optimization:   0%|          | 0/200 [00:00<?, ?it/s]"
      ]
     },
     "metadata": {},
     "output_type": "display_data"
    },
    {
     "data": {
      "application/vnd.jupyter.widget-view+json": {
       "model_id": "a32aef4a1201462bb7cab3d81b3c50ca",
       "version_major": 2,
       "version_minor": 0
      },
      "text/plain": [
       "Iterative optimization:   0%|          | 0/200 [00:00<?, ?it/s]"
      ]
     },
     "metadata": {},
     "output_type": "display_data"
    },
    {
     "data": {
      "application/vnd.jupyter.widget-view+json": {
       "model_id": "16f0b48e995f4b52a6d37a3d2a904ad1",
       "version_major": 2,
       "version_minor": 0
      },
      "text/plain": [
       "Iterative optimization:   0%|          | 0/200 [00:00<?, ?it/s]"
      ]
     },
     "metadata": {},
     "output_type": "display_data"
    },
    {
     "data": {
      "application/vnd.jupyter.widget-view+json": {
       "model_id": "f76a3d9d459d4a14a5d9025bd11d4205",
       "version_major": 2,
       "version_minor": 0
      },
      "text/plain": [
       "Iterative optimization:   0%|          | 0/200 [00:00<?, ?it/s]"
      ]
     },
     "metadata": {},
     "output_type": "display_data"
    },
    {
     "data": {
      "application/vnd.jupyter.widget-view+json": {
       "model_id": "ed782c156cd84fbdaa7152f6d8b82001",
       "version_major": 2,
       "version_minor": 0
      },
      "text/plain": [
       "Computing synthetic controls:   0%|          | 0/5 [00:00<?, ?it/s]"
      ]
     },
     "metadata": {},
     "output_type": "display_data"
    },
    {
     "data": {
      "application/vnd.jupyter.widget-view+json": {
       "model_id": "7ca297a3f8df4b66ab51788121dd1e83",
       "version_major": 2,
       "version_minor": 0
      },
      "text/plain": [
       "Iterative optimization:   0%|          | 0/200 [00:00<?, ?it/s]"
      ]
     },
     "metadata": {},
     "output_type": "display_data"
    },
    {
     "data": {
      "application/vnd.jupyter.widget-view+json": {
       "model_id": "9ce5f484265e4befaf57d482a619e03d",
       "version_major": 2,
       "version_minor": 0
      },
      "text/plain": [
       "Iterative optimization:   0%|          | 0/200 [00:00<?, ?it/s]"
      ]
     },
     "metadata": {},
     "output_type": "display_data"
    },
    {
     "data": {
      "application/vnd.jupyter.widget-view+json": {
       "model_id": "8d152de7702c4868b3798cd6ed977b25",
       "version_major": 2,
       "version_minor": 0
      },
      "text/plain": [
       "Iterative optimization:   0%|          | 0/200 [00:00<?, ?it/s]"
      ]
     },
     "metadata": {},
     "output_type": "display_data"
    },
    {
     "data": {
      "application/vnd.jupyter.widget-view+json": {
       "model_id": "6fc66dddf4034914bb59446dd63e33bc",
       "version_major": 2,
       "version_minor": 0
      },
      "text/plain": [
       "Iterative optimization:   0%|          | 0/200 [00:00<?, ?it/s]"
      ]
     },
     "metadata": {},
     "output_type": "display_data"
    },
    {
     "data": {
      "application/vnd.jupyter.widget-view+json": {
       "model_id": "f7e2c5c0b785485c8f96dae774cd3f88",
       "version_major": 2,
       "version_minor": 0
      },
      "text/plain": [
       "Iterative optimization:   0%|          | 0/200 [00:00<?, ?it/s]"
      ]
     },
     "metadata": {},
     "output_type": "display_data"
    },
    {
     "data": {
      "application/vnd.jupyter.widget-view+json": {
       "model_id": "f2e6726a9550464e9b491192efefa80a",
       "version_major": 2,
       "version_minor": 0
      },
      "text/plain": [
       "Iterative optimization:   0%|          | 0/200 [00:00<?, ?it/s]"
      ]
     },
     "metadata": {},
     "output_type": "display_data"
    },
    {
     "data": {
      "application/vnd.jupyter.widget-view+json": {
       "model_id": "92b0d7ad816f4cfda0d15af62ca96563",
       "version_major": 2,
       "version_minor": 0
      },
      "text/plain": [
       "Computing synthetic controls:   0%|          | 0/5 [00:00<?, ?it/s]"
      ]
     },
     "metadata": {},
     "output_type": "display_data"
    },
    {
     "data": {
      "application/vnd.jupyter.widget-view+json": {
       "model_id": "e5d789cf7cbd4e86855424c6729b9d06",
       "version_major": 2,
       "version_minor": 0
      },
      "text/plain": [
       "Iterative optimization:   0%|          | 0/200 [00:00<?, ?it/s]"
      ]
     },
     "metadata": {},
     "output_type": "display_data"
    },
    {
     "data": {
      "application/vnd.jupyter.widget-view+json": {
       "model_id": "a7a9e687c98045ccb8160bfc94d6d2b2",
       "version_major": 2,
       "version_minor": 0
      },
      "text/plain": [
       "Iterative optimization:   0%|          | 0/200 [00:00<?, ?it/s]"
      ]
     },
     "metadata": {},
     "output_type": "display_data"
    },
    {
     "data": {
      "application/vnd.jupyter.widget-view+json": {
       "model_id": "7c7224d9ba0349c38004ef940d6f4202",
       "version_major": 2,
       "version_minor": 0
      },
      "text/plain": [
       "Iterative optimization:   0%|          | 0/200 [00:00<?, ?it/s]"
      ]
     },
     "metadata": {},
     "output_type": "display_data"
    },
    {
     "data": {
      "application/vnd.jupyter.widget-view+json": {
       "model_id": "1b6c760ab3214aba88742b3db6fa0641",
       "version_major": 2,
       "version_minor": 0
      },
      "text/plain": [
       "Iterative optimization:   0%|          | 0/200 [00:00<?, ?it/s]"
      ]
     },
     "metadata": {},
     "output_type": "display_data"
    },
    {
     "data": {
      "application/vnd.jupyter.widget-view+json": {
       "model_id": "9a166df523b74136af69f58b2f727887",
       "version_major": 2,
       "version_minor": 0
      },
      "text/plain": [
       "Iterative optimization:   0%|          | 0/200 [00:00<?, ?it/s]"
      ]
     },
     "metadata": {},
     "output_type": "display_data"
    },
    {
     "data": {
      "application/vnd.jupyter.widget-view+json": {
       "model_id": "4829e2857f23429a849fc5e9a47be9f1",
       "version_major": 2,
       "version_minor": 0
      },
      "text/plain": [
       "Iterative optimization:   0%|          | 0/200 [00:00<?, ?it/s]"
      ]
     },
     "metadata": {},
     "output_type": "display_data"
    },
    {
     "data": {
      "application/vnd.jupyter.widget-view+json": {
       "model_id": "bdee83fc78384d0abe34a9ff3c9c5435",
       "version_major": 2,
       "version_minor": 0
      },
      "text/plain": [
       "Computing synthetic controls:   0%|          | 0/5 [00:00<?, ?it/s]"
      ]
     },
     "metadata": {},
     "output_type": "display_data"
    },
    {
     "data": {
      "application/vnd.jupyter.widget-view+json": {
       "model_id": "c49f19e7fc3b4dd789eb045d62c108a3",
       "version_major": 2,
       "version_minor": 0
      },
      "text/plain": [
       "Iterative optimization:   0%|          | 0/200 [00:00<?, ?it/s]"
      ]
     },
     "metadata": {},
     "output_type": "display_data"
    },
    {
     "data": {
      "application/vnd.jupyter.widget-view+json": {
       "model_id": "6cf322dee4404bbc88c2ae8e5b103636",
       "version_major": 2,
       "version_minor": 0
      },
      "text/plain": [
       "Iterative optimization:   0%|          | 0/200 [00:00<?, ?it/s]"
      ]
     },
     "metadata": {},
     "output_type": "display_data"
    },
    {
     "data": {
      "application/vnd.jupyter.widget-view+json": {
       "model_id": "547d825b158246c9865b7a6d7797870a",
       "version_major": 2,
       "version_minor": 0
      },
      "text/plain": [
       "Iterative optimization:   0%|          | 0/200 [00:00<?, ?it/s]"
      ]
     },
     "metadata": {},
     "output_type": "display_data"
    },
    {
     "data": {
      "application/vnd.jupyter.widget-view+json": {
       "model_id": "135badf25020490e8d402635668c4239",
       "version_major": 2,
       "version_minor": 0
      },
      "text/plain": [
       "Iterative optimization:   0%|          | 0/200 [00:00<?, ?it/s]"
      ]
     },
     "metadata": {},
     "output_type": "display_data"
    },
    {
     "data": {
      "application/vnd.jupyter.widget-view+json": {
       "model_id": "93082ed0cc2a48a990c943f2560f06e7",
       "version_major": 2,
       "version_minor": 0
      },
      "text/plain": [
       "Iterative optimization:   0%|          | 0/200 [00:00<?, ?it/s]"
      ]
     },
     "metadata": {},
     "output_type": "display_data"
    },
    {
     "data": {
      "application/vnd.jupyter.widget-view+json": {
       "model_id": "11ac2677ad364209a44db882b401dbf9",
       "version_major": 2,
       "version_minor": 0
      },
      "text/plain": [
       "Iterative optimization:   0%|          | 0/200 [00:00<?, ?it/s]"
      ]
     },
     "metadata": {},
     "output_type": "display_data"
    },
    {
     "data": {
      "application/vnd.jupyter.widget-view+json": {
       "model_id": "695481986d4a48dea6821cf32e497070",
       "version_major": 2,
       "version_minor": 0
      },
      "text/plain": [
       "Computing synthetic controls:   0%|          | 0/5 [00:00<?, ?it/s]"
      ]
     },
     "metadata": {},
     "output_type": "display_data"
    },
    {
     "data": {
      "application/vnd.jupyter.widget-view+json": {
       "model_id": "9ffb2934c9b0489d8de7f0d6c4c63de1",
       "version_major": 2,
       "version_minor": 0
      },
      "text/plain": [
       "Iterative optimization:   0%|          | 0/200 [00:00<?, ?it/s]"
      ]
     },
     "metadata": {},
     "output_type": "display_data"
    },
    {
     "data": {
      "application/vnd.jupyter.widget-view+json": {
       "model_id": "ae68a42a641f41f192f935f9449a03cd",
       "version_major": 2,
       "version_minor": 0
      },
      "text/plain": [
       "Iterative optimization:   0%|          | 0/200 [00:00<?, ?it/s]"
      ]
     },
     "metadata": {},
     "output_type": "display_data"
    },
    {
     "data": {
      "application/vnd.jupyter.widget-view+json": {
       "model_id": "30a8bdac2c024701a0d083016271d5a1",
       "version_major": 2,
       "version_minor": 0
      },
      "text/plain": [
       "Iterative optimization:   0%|          | 0/200 [00:00<?, ?it/s]"
      ]
     },
     "metadata": {},
     "output_type": "display_data"
    },
    {
     "data": {
      "application/vnd.jupyter.widget-view+json": {
       "model_id": "4d659575046e4a5db7b326b0931555a0",
       "version_major": 2,
       "version_minor": 0
      },
      "text/plain": [
       "Iterative optimization:   0%|          | 0/200 [00:00<?, ?it/s]"
      ]
     },
     "metadata": {},
     "output_type": "display_data"
    },
    {
     "data": {
      "application/vnd.jupyter.widget-view+json": {
       "model_id": "eba78ed329534c77bb01151478cf6ac6",
       "version_major": 2,
       "version_minor": 0
      },
      "text/plain": [
       "Iterative optimization:   0%|          | 0/200 [00:00<?, ?it/s]"
      ]
     },
     "metadata": {},
     "output_type": "display_data"
    },
    {
     "data": {
      "application/vnd.jupyter.widget-view+json": {
       "model_id": "bc3dce2642774295959de7808b243a88",
       "version_major": 2,
       "version_minor": 0
      },
      "text/plain": [
       "Iterative optimization:   0%|          | 0/200 [00:00<?, ?it/s]"
      ]
     },
     "metadata": {},
     "output_type": "display_data"
    },
    {
     "data": {
      "application/vnd.jupyter.widget-view+json": {
       "model_id": "4d6007dc4d98461faca21364615e1599",
       "version_major": 2,
       "version_minor": 0
      },
      "text/plain": [
       "Computing synthetic controls:   0%|          | 0/5 [00:00<?, ?it/s]"
      ]
     },
     "metadata": {},
     "output_type": "display_data"
    },
    {
     "data": {
      "application/vnd.jupyter.widget-view+json": {
       "model_id": "fb8a800cba7d41e8a2316edc36fa6915",
       "version_major": 2,
       "version_minor": 0
      },
      "text/plain": [
       "Iterative optimization:   0%|          | 0/200 [00:00<?, ?it/s]"
      ]
     },
     "metadata": {},
     "output_type": "display_data"
    },
    {
     "data": {
      "application/vnd.jupyter.widget-view+json": {
       "model_id": "e5621ee01afc4355b5515904e59aed33",
       "version_major": 2,
       "version_minor": 0
      },
      "text/plain": [
       "Iterative optimization:   0%|          | 0/200 [00:00<?, ?it/s]"
      ]
     },
     "metadata": {},
     "output_type": "display_data"
    },
    {
     "data": {
      "application/vnd.jupyter.widget-view+json": {
       "model_id": "f0daf555abb54530bafdb5857af6383f",
       "version_major": 2,
       "version_minor": 0
      },
      "text/plain": [
       "Iterative optimization:   0%|          | 0/200 [00:00<?, ?it/s]"
      ]
     },
     "metadata": {},
     "output_type": "display_data"
    },
    {
     "data": {
      "application/vnd.jupyter.widget-view+json": {
       "model_id": "60f6d1cbef7a4ede955aa41fd9de09c0",
       "version_major": 2,
       "version_minor": 0
      },
      "text/plain": [
       "Iterative optimization:   0%|          | 0/200 [00:00<?, ?it/s]"
      ]
     },
     "metadata": {},
     "output_type": "display_data"
    },
    {
     "data": {
      "application/vnd.jupyter.widget-view+json": {
       "model_id": "407eaf1f7d4c4343ae660cfaddb4f365",
       "version_major": 2,
       "version_minor": 0
      },
      "text/plain": [
       "Iterative optimization:   0%|          | 0/200 [00:00<?, ?it/s]"
      ]
     },
     "metadata": {},
     "output_type": "display_data"
    },
    {
     "data": {
      "application/vnd.jupyter.widget-view+json": {
       "model_id": "ac55ef1cdcd64c30ad95f088134eb481",
       "version_major": 2,
       "version_minor": 0
      },
      "text/plain": [
       "Iterative optimization:   0%|          | 0/200 [00:00<?, ?it/s]"
      ]
     },
     "metadata": {},
     "output_type": "display_data"
    },
    {
     "data": {
      "application/vnd.jupyter.widget-view+json": {
       "model_id": "165bc9fe9b8f46598400338dbdb19710",
       "version_major": 2,
       "version_minor": 0
      },
      "text/plain": [
       "Computing synthetic controls:   0%|          | 0/5 [00:00<?, ?it/s]"
      ]
     },
     "metadata": {},
     "output_type": "display_data"
    },
    {
     "data": {
      "application/vnd.jupyter.widget-view+json": {
       "model_id": "90998353488447fe890f119747098797",
       "version_major": 2,
       "version_minor": 0
      },
      "text/plain": [
       "Iterative optimization:   0%|          | 0/200 [00:00<?, ?it/s]"
      ]
     },
     "metadata": {},
     "output_type": "display_data"
    },
    {
     "data": {
      "application/vnd.jupyter.widget-view+json": {
       "model_id": "d0b3e8fe64e14bd4a473fe63d578f85b",
       "version_major": 2,
       "version_minor": 0
      },
      "text/plain": [
       "Iterative optimization:   0%|          | 0/200 [00:00<?, ?it/s]"
      ]
     },
     "metadata": {},
     "output_type": "display_data"
    },
    {
     "data": {
      "application/vnd.jupyter.widget-view+json": {
       "model_id": "f16700c5de5045c6b44cb48d953ec9c0",
       "version_major": 2,
       "version_minor": 0
      },
      "text/plain": [
       "Iterative optimization:   0%|          | 0/200 [00:00<?, ?it/s]"
      ]
     },
     "metadata": {},
     "output_type": "display_data"
    },
    {
     "data": {
      "application/vnd.jupyter.widget-view+json": {
       "model_id": "537e36e4b1d34ee3bf8899e372e5f5f0",
       "version_major": 2,
       "version_minor": 0
      },
      "text/plain": [
       "Iterative optimization:   0%|          | 0/200 [00:00<?, ?it/s]"
      ]
     },
     "metadata": {},
     "output_type": "display_data"
    },
    {
     "data": {
      "application/vnd.jupyter.widget-view+json": {
       "model_id": "58b686b567a0415f8b47b709a12b62f5",
       "version_major": 2,
       "version_minor": 0
      },
      "text/plain": [
       "Iterative optimization:   0%|          | 0/200 [00:00<?, ?it/s]"
      ]
     },
     "metadata": {},
     "output_type": "display_data"
    },
    {
     "data": {
      "application/vnd.jupyter.widget-view+json": {
       "model_id": "b29e889e7eb24f84abe2a8698707cd21",
       "version_major": 2,
       "version_minor": 0
      },
      "text/plain": [
       "Iterative optimization:   0%|          | 0/200 [00:00<?, ?it/s]"
      ]
     },
     "metadata": {},
     "output_type": "display_data"
    },
    {
     "data": {
      "application/vnd.jupyter.widget-view+json": {
       "model_id": "9b05a1a6e1c3473389329a582041c47a",
       "version_major": 2,
       "version_minor": 0
      },
      "text/plain": [
       "Computing synthetic controls:   0%|          | 0/5 [00:00<?, ?it/s]"
      ]
     },
     "metadata": {},
     "output_type": "display_data"
    },
    {
     "data": {
      "application/vnd.jupyter.widget-view+json": {
       "model_id": "0eada6199d1f4c27bc0badaa4afe1d90",
       "version_major": 2,
       "version_minor": 0
      },
      "text/plain": [
       "Iterative optimization:   0%|          | 0/200 [00:00<?, ?it/s]"
      ]
     },
     "metadata": {},
     "output_type": "display_data"
    },
    {
     "data": {
      "application/vnd.jupyter.widget-view+json": {
       "model_id": "791748531a5f4e77bc77ad43d894f22f",
       "version_major": 2,
       "version_minor": 0
      },
      "text/plain": [
       "Iterative optimization:   0%|          | 0/200 [00:00<?, ?it/s]"
      ]
     },
     "metadata": {},
     "output_type": "display_data"
    },
    {
     "data": {
      "application/vnd.jupyter.widget-view+json": {
       "model_id": "62ef12c07ccb440196c1d0f2c3a0315f",
       "version_major": 2,
       "version_minor": 0
      },
      "text/plain": [
       "Iterative optimization:   0%|          | 0/200 [00:00<?, ?it/s]"
      ]
     },
     "metadata": {},
     "output_type": "display_data"
    },
    {
     "data": {
      "application/vnd.jupyter.widget-view+json": {
       "model_id": "6bd5ae82e4794acdb57a8e251bc31631",
       "version_major": 2,
       "version_minor": 0
      },
      "text/plain": [
       "Iterative optimization:   0%|          | 0/200 [00:00<?, ?it/s]"
      ]
     },
     "metadata": {},
     "output_type": "display_data"
    },
    {
     "data": {
      "application/vnd.jupyter.widget-view+json": {
       "model_id": "813affe2f4a24d90b9371ed8eab244ad",
       "version_major": 2,
       "version_minor": 0
      },
      "text/plain": [
       "Iterative optimization:   0%|          | 0/200 [00:00<?, ?it/s]"
      ]
     },
     "metadata": {},
     "output_type": "display_data"
    },
    {
     "data": {
      "application/vnd.jupyter.widget-view+json": {
       "model_id": "58e43f2b6ce64c8e8787b5570975587d",
       "version_major": 2,
       "version_minor": 0
      },
      "text/plain": [
       "Iterative optimization:   0%|          | 0/200 [00:00<?, ?it/s]"
      ]
     },
     "metadata": {},
     "output_type": "display_data"
    },
    {
     "data": {
      "application/vnd.jupyter.widget-view+json": {
       "model_id": "bee89b5f6794440ea1995fe4704e2b62",
       "version_major": 2,
       "version_minor": 0
      },
      "text/plain": [
       "Computing synthetic controls:   0%|          | 0/5 [00:00<?, ?it/s]"
      ]
     },
     "metadata": {},
     "output_type": "display_data"
    },
    {
     "data": {
      "application/vnd.jupyter.widget-view+json": {
       "model_id": "24b149ca10554bed803dae236978d632",
       "version_major": 2,
       "version_minor": 0
      },
      "text/plain": [
       "Iterative optimization:   0%|          | 0/200 [00:00<?, ?it/s]"
      ]
     },
     "metadata": {},
     "output_type": "display_data"
    },
    {
     "data": {
      "application/vnd.jupyter.widget-view+json": {
       "model_id": "d122fb31b11748c29f5822a46960bb1a",
       "version_major": 2,
       "version_minor": 0
      },
      "text/plain": [
       "Iterative optimization:   0%|          | 0/200 [00:00<?, ?it/s]"
      ]
     },
     "metadata": {},
     "output_type": "display_data"
    },
    {
     "data": {
      "application/vnd.jupyter.widget-view+json": {
       "model_id": "0b515bf9f3204b38ae90c2735d57acfb",
       "version_major": 2,
       "version_minor": 0
      },
      "text/plain": [
       "Iterative optimization:   0%|          | 0/200 [00:00<?, ?it/s]"
      ]
     },
     "metadata": {},
     "output_type": "display_data"
    },
    {
     "data": {
      "application/vnd.jupyter.widget-view+json": {
       "model_id": "a82013d6655d42ed8745a05ab8979671",
       "version_major": 2,
       "version_minor": 0
      },
      "text/plain": [
       "Iterative optimization:   0%|          | 0/200 [00:00<?, ?it/s]"
      ]
     },
     "metadata": {},
     "output_type": "display_data"
    },
    {
     "data": {
      "application/vnd.jupyter.widget-view+json": {
       "model_id": "7e48e38f475b43c58e18c1e90190c707",
       "version_major": 2,
       "version_minor": 0
      },
      "text/plain": [
       "Iterative optimization:   0%|          | 0/200 [00:00<?, ?it/s]"
      ]
     },
     "metadata": {},
     "output_type": "display_data"
    },
    {
     "data": {
      "application/vnd.jupyter.widget-view+json": {
       "model_id": "a9a46142b2604e91b77276a9963f0894",
       "version_major": 2,
       "version_minor": 0
      },
      "text/plain": [
       "Iterative optimization:   0%|          | 0/200 [00:00<?, ?it/s]"
      ]
     },
     "metadata": {},
     "output_type": "display_data"
    },
    {
     "data": {
      "application/vnd.jupyter.widget-view+json": {
       "model_id": "eecaba600cd8447b86529cd1444a1d31",
       "version_major": 2,
       "version_minor": 0
      },
      "text/plain": [
       "Computing synthetic controls:   0%|          | 0/5 [00:00<?, ?it/s]"
      ]
     },
     "metadata": {},
     "output_type": "display_data"
    },
    {
     "data": {
      "application/vnd.jupyter.widget-view+json": {
       "model_id": "17784bc69ed74611b72d54ea4c7ba11c",
       "version_major": 2,
       "version_minor": 0
      },
      "text/plain": [
       "Iterative optimization:   0%|          | 0/200 [00:00<?, ?it/s]"
      ]
     },
     "metadata": {},
     "output_type": "display_data"
    },
    {
     "data": {
      "application/vnd.jupyter.widget-view+json": {
       "model_id": "00b09651cd15492daf4b269f3864bdd3",
       "version_major": 2,
       "version_minor": 0
      },
      "text/plain": [
       "Iterative optimization:   0%|          | 0/200 [00:00<?, ?it/s]"
      ]
     },
     "metadata": {},
     "output_type": "display_data"
    },
    {
     "data": {
      "application/vnd.jupyter.widget-view+json": {
       "model_id": "94d57e348c1e43749fbdaf83bda728d2",
       "version_major": 2,
       "version_minor": 0
      },
      "text/plain": [
       "Iterative optimization:   0%|          | 0/200 [00:00<?, ?it/s]"
      ]
     },
     "metadata": {},
     "output_type": "display_data"
    },
    {
     "data": {
      "application/vnd.jupyter.widget-view+json": {
       "model_id": "a8145bc0496048ecaf89cc62139246c7",
       "version_major": 2,
       "version_minor": 0
      },
      "text/plain": [
       "Iterative optimization:   0%|          | 0/200 [00:00<?, ?it/s]"
      ]
     },
     "metadata": {},
     "output_type": "display_data"
    },
    {
     "data": {
      "application/vnd.jupyter.widget-view+json": {
       "model_id": "8af4a4b1354644c29cb71d1150fcc7b9",
       "version_major": 2,
       "version_minor": 0
      },
      "text/plain": [
       "Iterative optimization:   0%|          | 0/200 [00:00<?, ?it/s]"
      ]
     },
     "metadata": {},
     "output_type": "display_data"
    },
    {
     "data": {
      "application/vnd.jupyter.widget-view+json": {
       "model_id": "5e475b62ce904e45a2c3abb47fff5ec5",
       "version_major": 2,
       "version_minor": 0
      },
      "text/plain": [
       "Iterative optimization:   0%|          | 0/200 [00:00<?, ?it/s]"
      ]
     },
     "metadata": {},
     "output_type": "display_data"
    },
    {
     "data": {
      "application/vnd.jupyter.widget-view+json": {
       "model_id": "c2183a35c2e54639b152adb92f71c3d9",
       "version_major": 2,
       "version_minor": 0
      },
      "text/plain": [
       "Computing synthetic controls:   0%|          | 0/5 [00:00<?, ?it/s]"
      ]
     },
     "metadata": {},
     "output_type": "display_data"
    },
    {
     "data": {
      "application/vnd.jupyter.widget-view+json": {
       "model_id": "48757a178b1c4dcb9268f5b3dd6623ea",
       "version_major": 2,
       "version_minor": 0
      },
      "text/plain": [
       "Iterative optimization:   0%|          | 0/200 [00:00<?, ?it/s]"
      ]
     },
     "metadata": {},
     "output_type": "display_data"
    },
    {
     "data": {
      "application/vnd.jupyter.widget-view+json": {
       "model_id": "4027d76c12d24cf39105c88d2c698379",
       "version_major": 2,
       "version_minor": 0
      },
      "text/plain": [
       "Iterative optimization:   0%|          | 0/200 [00:00<?, ?it/s]"
      ]
     },
     "metadata": {},
     "output_type": "display_data"
    },
    {
     "data": {
      "application/vnd.jupyter.widget-view+json": {
       "model_id": "24b7068d3a58409da0d96bdb649c84a4",
       "version_major": 2,
       "version_minor": 0
      },
      "text/plain": [
       "Iterative optimization:   0%|          | 0/200 [00:00<?, ?it/s]"
      ]
     },
     "metadata": {},
     "output_type": "display_data"
    },
    {
     "data": {
      "application/vnd.jupyter.widget-view+json": {
       "model_id": "3720d10a9370452fac33d5c590d26a45",
       "version_major": 2,
       "version_minor": 0
      },
      "text/plain": [
       "Iterative optimization:   0%|          | 0/200 [00:00<?, ?it/s]"
      ]
     },
     "metadata": {},
     "output_type": "display_data"
    },
    {
     "data": {
      "application/vnd.jupyter.widget-view+json": {
       "model_id": "ecd1c0179ac44ca9bfa5d9fbde4d0a51",
       "version_major": 2,
       "version_minor": 0
      },
      "text/plain": [
       "Iterative optimization:   0%|          | 0/200 [00:00<?, ?it/s]"
      ]
     },
     "metadata": {},
     "output_type": "display_data"
    },
    {
     "data": {
      "application/vnd.jupyter.widget-view+json": {
       "model_id": "2349569300294f1ca64a37f1dda311b9",
       "version_major": 2,
       "version_minor": 0
      },
      "text/plain": [
       "Iterative optimization:   0%|          | 0/200 [00:00<?, ?it/s]"
      ]
     },
     "metadata": {},
     "output_type": "display_data"
    },
    {
     "data": {
      "application/vnd.jupyter.widget-view+json": {
       "model_id": "45d39735501744aebcbe24349cc4d3b9",
       "version_major": 2,
       "version_minor": 0
      },
      "text/plain": [
       "Computing synthetic controls:   0%|          | 0/5 [00:00<?, ?it/s]"
      ]
     },
     "metadata": {},
     "output_type": "display_data"
    },
    {
     "data": {
      "application/vnd.jupyter.widget-view+json": {
       "model_id": "2ad7004de2c24fed91344c94ee56b221",
       "version_major": 2,
       "version_minor": 0
      },
      "text/plain": [
       "Iterative optimization:   0%|          | 0/200 [00:00<?, ?it/s]"
      ]
     },
     "metadata": {},
     "output_type": "display_data"
    },
    {
     "data": {
      "application/vnd.jupyter.widget-view+json": {
       "model_id": "f108c38f7130475eb20db9e729bf93d9",
       "version_major": 2,
       "version_minor": 0
      },
      "text/plain": [
       "Iterative optimization:   0%|          | 0/200 [00:00<?, ?it/s]"
      ]
     },
     "metadata": {},
     "output_type": "display_data"
    },
    {
     "data": {
      "application/vnd.jupyter.widget-view+json": {
       "model_id": "4fde8c7582834f5ba3836441f1763d18",
       "version_major": 2,
       "version_minor": 0
      },
      "text/plain": [
       "Iterative optimization:   0%|          | 0/200 [00:00<?, ?it/s]"
      ]
     },
     "metadata": {},
     "output_type": "display_data"
    },
    {
     "data": {
      "application/vnd.jupyter.widget-view+json": {
       "model_id": "2d84a751001b40938d24cbdecaff1ce8",
       "version_major": 2,
       "version_minor": 0
      },
      "text/plain": [
       "Iterative optimization:   0%|          | 0/200 [00:00<?, ?it/s]"
      ]
     },
     "metadata": {},
     "output_type": "display_data"
    },
    {
     "data": {
      "application/vnd.jupyter.widget-view+json": {
       "model_id": "3a48664d05084c13bc6e7bf3b2e9ddbe",
       "version_major": 2,
       "version_minor": 0
      },
      "text/plain": [
       "Iterative optimization:   0%|          | 0/200 [00:00<?, ?it/s]"
      ]
     },
     "metadata": {},
     "output_type": "display_data"
    },
    {
     "data": {
      "application/vnd.jupyter.widget-view+json": {
       "model_id": "db21d3dda753482c8e8bd5226b23e675",
       "version_major": 2,
       "version_minor": 0
      },
      "text/plain": [
       "Iterative optimization:   0%|          | 0/200 [00:00<?, ?it/s]"
      ]
     },
     "metadata": {},
     "output_type": "display_data"
    },
    {
     "data": {
      "application/vnd.jupyter.widget-view+json": {
       "model_id": "faca86c0ccdf4e60818edae9ff46b4a9",
       "version_major": 2,
       "version_minor": 0
      },
      "text/plain": [
       "Computing synthetic controls:   0%|          | 0/5 [00:00<?, ?it/s]"
      ]
     },
     "metadata": {},
     "output_type": "display_data"
    },
    {
     "data": {
      "application/vnd.jupyter.widget-view+json": {
       "model_id": "9e4666bfb39341ff816b235325cfe0bb",
       "version_major": 2,
       "version_minor": 0
      },
      "text/plain": [
       "Iterative optimization:   0%|          | 0/200 [00:00<?, ?it/s]"
      ]
     },
     "metadata": {},
     "output_type": "display_data"
    },
    {
     "data": {
      "application/vnd.jupyter.widget-view+json": {
       "model_id": "764f950f7b7e4053beb9f59e0f4fed57",
       "version_major": 2,
       "version_minor": 0
      },
      "text/plain": [
       "Iterative optimization:   0%|          | 0/200 [00:00<?, ?it/s]"
      ]
     },
     "metadata": {},
     "output_type": "display_data"
    },
    {
     "data": {
      "application/vnd.jupyter.widget-view+json": {
       "model_id": "32e1be454faf4fe889c1591600828a83",
       "version_major": 2,
       "version_minor": 0
      },
      "text/plain": [
       "Iterative optimization:   0%|          | 0/200 [00:00<?, ?it/s]"
      ]
     },
     "metadata": {},
     "output_type": "display_data"
    },
    {
     "data": {
      "application/vnd.jupyter.widget-view+json": {
       "model_id": "18758c9b59f147069240f1a88e73bed0",
       "version_major": 2,
       "version_minor": 0
      },
      "text/plain": [
       "Iterative optimization:   0%|          | 0/200 [00:00<?, ?it/s]"
      ]
     },
     "metadata": {},
     "output_type": "display_data"
    },
    {
     "data": {
      "application/vnd.jupyter.widget-view+json": {
       "model_id": "7f8e3ca9bb494724b58b1b2c5c5cb54d",
       "version_major": 2,
       "version_minor": 0
      },
      "text/plain": [
       "Iterative optimization:   0%|          | 0/200 [00:00<?, ?it/s]"
      ]
     },
     "metadata": {},
     "output_type": "display_data"
    },
    {
     "data": {
      "application/vnd.jupyter.widget-view+json": {
       "model_id": "84c78b452a1b4929a19d1e12880d911b",
       "version_major": 2,
       "version_minor": 0
      },
      "text/plain": [
       "Iterative optimization:   0%|          | 0/200 [00:00<?, ?it/s]"
      ]
     },
     "metadata": {},
     "output_type": "display_data"
    },
    {
     "data": {
      "application/vnd.jupyter.widget-view+json": {
       "model_id": "3ffc2fd3eeac43e0bf820d94805411c1",
       "version_major": 2,
       "version_minor": 0
      },
      "text/plain": [
       "Computing synthetic controls:   0%|          | 0/5 [00:00<?, ?it/s]"
      ]
     },
     "metadata": {},
     "output_type": "display_data"
    },
    {
     "data": {
      "application/vnd.jupyter.widget-view+json": {
       "model_id": "4cbd36106d2f458dbb0fafc126040a09",
       "version_major": 2,
       "version_minor": 0
      },
      "text/plain": [
       "Iterative optimization:   0%|          | 0/200 [00:00<?, ?it/s]"
      ]
     },
     "metadata": {},
     "output_type": "display_data"
    },
    {
     "data": {
      "application/vnd.jupyter.widget-view+json": {
       "model_id": "fad21826c2fa489fa166a609164061ba",
       "version_major": 2,
       "version_minor": 0
      },
      "text/plain": [
       "Iterative optimization:   0%|          | 0/200 [00:00<?, ?it/s]"
      ]
     },
     "metadata": {},
     "output_type": "display_data"
    },
    {
     "data": {
      "application/vnd.jupyter.widget-view+json": {
       "model_id": "f1fdf35cdf74419e9eae07622ab9c7a9",
       "version_major": 2,
       "version_minor": 0
      },
      "text/plain": [
       "Iterative optimization:   0%|          | 0/200 [00:00<?, ?it/s]"
      ]
     },
     "metadata": {},
     "output_type": "display_data"
    },
    {
     "data": {
      "application/vnd.jupyter.widget-view+json": {
       "model_id": "7104ee6be178413bbb82aa18ef98d398",
       "version_major": 2,
       "version_minor": 0
      },
      "text/plain": [
       "Iterative optimization:   0%|          | 0/200 [00:00<?, ?it/s]"
      ]
     },
     "metadata": {},
     "output_type": "display_data"
    },
    {
     "data": {
      "application/vnd.jupyter.widget-view+json": {
       "model_id": "a86ef4325895408aae85701648e3ef36",
       "version_major": 2,
       "version_minor": 0
      },
      "text/plain": [
       "Iterative optimization:   0%|          | 0/200 [00:00<?, ?it/s]"
      ]
     },
     "metadata": {},
     "output_type": "display_data"
    },
    {
     "data": {
      "application/vnd.jupyter.widget-view+json": {
       "model_id": "7b86f66d912542678455d2479f144568",
       "version_major": 2,
       "version_minor": 0
      },
      "text/plain": [
       "Iterative optimization:   0%|          | 0/200 [00:00<?, ?it/s]"
      ]
     },
     "metadata": {},
     "output_type": "display_data"
    },
    {
     "data": {
      "application/vnd.jupyter.widget-view+json": {
       "model_id": "c22bfbf0f4744656a9d272681d137417",
       "version_major": 2,
       "version_minor": 0
      },
      "text/plain": [
       "Computing synthetic controls:   0%|          | 0/5 [00:00<?, ?it/s]"
      ]
     },
     "metadata": {},
     "output_type": "display_data"
    },
    {
     "data": {
      "application/vnd.jupyter.widget-view+json": {
       "model_id": "697f33e27e064833943de524747517e0",
       "version_major": 2,
       "version_minor": 0
      },
      "text/plain": [
       "Iterative optimization:   0%|          | 0/200 [00:00<?, ?it/s]"
      ]
     },
     "metadata": {},
     "output_type": "display_data"
    },
    {
     "data": {
      "application/vnd.jupyter.widget-view+json": {
       "model_id": "1592dcccffe04fd2aca9f685e300d05a",
       "version_major": 2,
       "version_minor": 0
      },
      "text/plain": [
       "Iterative optimization:   0%|          | 0/200 [00:00<?, ?it/s]"
      ]
     },
     "metadata": {},
     "output_type": "display_data"
    },
    {
     "data": {
      "application/vnd.jupyter.widget-view+json": {
       "model_id": "9b2d3fa11cbd4297ad707711e18dfbfc",
       "version_major": 2,
       "version_minor": 0
      },
      "text/plain": [
       "Iterative optimization:   0%|          | 0/200 [00:00<?, ?it/s]"
      ]
     },
     "metadata": {},
     "output_type": "display_data"
    },
    {
     "data": {
      "application/vnd.jupyter.widget-view+json": {
       "model_id": "3ffd53fc305a45289b3d55117ac1c482",
       "version_major": 2,
       "version_minor": 0
      },
      "text/plain": [
       "Iterative optimization:   0%|          | 0/200 [00:00<?, ?it/s]"
      ]
     },
     "metadata": {},
     "output_type": "display_data"
    },
    {
     "data": {
      "application/vnd.jupyter.widget-view+json": {
       "model_id": "ae5230a16d5d40db93a853654faf8931",
       "version_major": 2,
       "version_minor": 0
      },
      "text/plain": [
       "Iterative optimization:   0%|          | 0/200 [00:00<?, ?it/s]"
      ]
     },
     "metadata": {},
     "output_type": "display_data"
    },
    {
     "data": {
      "application/vnd.jupyter.widget-view+json": {
       "model_id": "fa90cca625a34174a7375da72f6182ad",
       "version_major": 2,
       "version_minor": 0
      },
      "text/plain": [
       "Iterative optimization:   0%|          | 0/200 [00:00<?, ?it/s]"
      ]
     },
     "metadata": {},
     "output_type": "display_data"
    },
    {
     "data": {
      "application/vnd.jupyter.widget-view+json": {
       "model_id": "abba63612de04dabb9f73f1de49007f2",
       "version_major": 2,
       "version_minor": 0
      },
      "text/plain": [
       "Computing synthetic controls:   0%|          | 0/5 [00:00<?, ?it/s]"
      ]
     },
     "metadata": {},
     "output_type": "display_data"
    },
    {
     "data": {
      "application/vnd.jupyter.widget-view+json": {
       "model_id": "aed6c84a819f462a85b7c951b9e2c6a8",
       "version_major": 2,
       "version_minor": 0
      },
      "text/plain": [
       "Iterative optimization:   0%|          | 0/200 [00:00<?, ?it/s]"
      ]
     },
     "metadata": {},
     "output_type": "display_data"
    },
    {
     "data": {
      "application/vnd.jupyter.widget-view+json": {
       "model_id": "28d51e8c6cab4fa9987b43eb8cbaabc7",
       "version_major": 2,
       "version_minor": 0
      },
      "text/plain": [
       "Iterative optimization:   0%|          | 0/200 [00:00<?, ?it/s]"
      ]
     },
     "metadata": {},
     "output_type": "display_data"
    },
    {
     "data": {
      "application/vnd.jupyter.widget-view+json": {
       "model_id": "b09eb7d13e8a4696b10e86dfae8f1cd5",
       "version_major": 2,
       "version_minor": 0
      },
      "text/plain": [
       "Iterative optimization:   0%|          | 0/200 [00:00<?, ?it/s]"
      ]
     },
     "metadata": {},
     "output_type": "display_data"
    },
    {
     "data": {
      "application/vnd.jupyter.widget-view+json": {
       "model_id": "31e1cbabfe784b27a229ad2eac342ada",
       "version_major": 2,
       "version_minor": 0
      },
      "text/plain": [
       "Iterative optimization:   0%|          | 0/200 [00:00<?, ?it/s]"
      ]
     },
     "metadata": {},
     "output_type": "display_data"
    },
    {
     "data": {
      "application/vnd.jupyter.widget-view+json": {
       "model_id": "99980099104a4126a64c1ae0164fca2c",
       "version_major": 2,
       "version_minor": 0
      },
      "text/plain": [
       "Iterative optimization:   0%|          | 0/200 [00:00<?, ?it/s]"
      ]
     },
     "metadata": {},
     "output_type": "display_data"
    },
    {
     "data": {
      "application/vnd.jupyter.widget-view+json": {
       "model_id": "37487f58e9e741769e7ee8110b626b6d",
       "version_major": 2,
       "version_minor": 0
      },
      "text/plain": [
       "Iterative optimization:   0%|          | 0/200 [00:00<?, ?it/s]"
      ]
     },
     "metadata": {},
     "output_type": "display_data"
    },
    {
     "data": {
      "application/vnd.jupyter.widget-view+json": {
       "model_id": "4fab71866ff741b0b52b32dbfdd7049d",
       "version_major": 2,
       "version_minor": 0
      },
      "text/plain": [
       "Computing synthetic controls:   0%|          | 0/5 [00:00<?, ?it/s]"
      ]
     },
     "metadata": {},
     "output_type": "display_data"
    },
    {
     "data": {
      "application/vnd.jupyter.widget-view+json": {
       "model_id": "9299dfb5d17c48208b349a64778aba75",
       "version_major": 2,
       "version_minor": 0
      },
      "text/plain": [
       "Iterative optimization:   0%|          | 0/200 [00:00<?, ?it/s]"
      ]
     },
     "metadata": {},
     "output_type": "display_data"
    },
    {
     "data": {
      "application/vnd.jupyter.widget-view+json": {
       "model_id": "cb93b5e23ca84ccba014309e89ebd639",
       "version_major": 2,
       "version_minor": 0
      },
      "text/plain": [
       "Iterative optimization:   0%|          | 0/200 [00:00<?, ?it/s]"
      ]
     },
     "metadata": {},
     "output_type": "display_data"
    },
    {
     "data": {
      "application/vnd.jupyter.widget-view+json": {
       "model_id": "4e55ff3b58c74fe693290804f3d9a172",
       "version_major": 2,
       "version_minor": 0
      },
      "text/plain": [
       "Iterative optimization:   0%|          | 0/200 [00:00<?, ?it/s]"
      ]
     },
     "metadata": {},
     "output_type": "display_data"
    },
    {
     "data": {
      "application/vnd.jupyter.widget-view+json": {
       "model_id": "0ee7a1f96b9a435fa38eab767609714d",
       "version_major": 2,
       "version_minor": 0
      },
      "text/plain": [
       "Iterative optimization:   0%|          | 0/200 [00:00<?, ?it/s]"
      ]
     },
     "metadata": {},
     "output_type": "display_data"
    },
    {
     "data": {
      "application/vnd.jupyter.widget-view+json": {
       "model_id": "2e08e98524fd4e85b4e4f4bf4da6748b",
       "version_major": 2,
       "version_minor": 0
      },
      "text/plain": [
       "Iterative optimization:   0%|          | 0/200 [00:00<?, ?it/s]"
      ]
     },
     "metadata": {},
     "output_type": "display_data"
    },
    {
     "data": {
      "application/vnd.jupyter.widget-view+json": {
       "model_id": "08132aecbfb04be6bca283e4fad02689",
       "version_major": 2,
       "version_minor": 0
      },
      "text/plain": [
       "Iterative optimization:   0%|          | 0/200 [00:00<?, ?it/s]"
      ]
     },
     "metadata": {},
     "output_type": "display_data"
    },
    {
     "data": {
      "application/vnd.jupyter.widget-view+json": {
       "model_id": "1cf58f8d59d24dc5a3834572b4582795",
       "version_major": 2,
       "version_minor": 0
      },
      "text/plain": [
       "Computing synthetic controls:   0%|          | 0/5 [00:00<?, ?it/s]"
      ]
     },
     "metadata": {},
     "output_type": "display_data"
    },
    {
     "data": {
      "application/vnd.jupyter.widget-view+json": {
       "model_id": "9d51bfb62d5746d89124ff165cc94bca",
       "version_major": 2,
       "version_minor": 0
      },
      "text/plain": [
       "Iterative optimization:   0%|          | 0/200 [00:00<?, ?it/s]"
      ]
     },
     "metadata": {},
     "output_type": "display_data"
    },
    {
     "data": {
      "application/vnd.jupyter.widget-view+json": {
       "model_id": "d37fd70a2b1f44fa9c7efb954f168d8b",
       "version_major": 2,
       "version_minor": 0
      },
      "text/plain": [
       "Iterative optimization:   0%|          | 0/200 [00:00<?, ?it/s]"
      ]
     },
     "metadata": {},
     "output_type": "display_data"
    },
    {
     "data": {
      "application/vnd.jupyter.widget-view+json": {
       "model_id": "08a11d2e033f45468389675827312a9e",
       "version_major": 2,
       "version_minor": 0
      },
      "text/plain": [
       "Iterative optimization:   0%|          | 0/200 [00:00<?, ?it/s]"
      ]
     },
     "metadata": {},
     "output_type": "display_data"
    },
    {
     "data": {
      "application/vnd.jupyter.widget-view+json": {
       "model_id": "d2d09dfb7b2f41b0aa2898de5237f4c6",
       "version_major": 2,
       "version_minor": 0
      },
      "text/plain": [
       "Iterative optimization:   0%|          | 0/200 [00:00<?, ?it/s]"
      ]
     },
     "metadata": {},
     "output_type": "display_data"
    },
    {
     "data": {
      "application/vnd.jupyter.widget-view+json": {
       "model_id": "d54b5d6bdd3343fa9de60bf3c413bfe7",
       "version_major": 2,
       "version_minor": 0
      },
      "text/plain": [
       "Iterative optimization:   0%|          | 0/200 [00:00<?, ?it/s]"
      ]
     },
     "metadata": {},
     "output_type": "display_data"
    },
    {
     "data": {
      "application/vnd.jupyter.widget-view+json": {
       "model_id": "7369faf777b84b7baa807c075021f450",
       "version_major": 2,
       "version_minor": 0
      },
      "text/plain": [
       "Iterative optimization:   0%|          | 0/200 [00:00<?, ?it/s]"
      ]
     },
     "metadata": {},
     "output_type": "display_data"
    },
    {
     "data": {
      "application/vnd.jupyter.widget-view+json": {
       "model_id": "2f90dd3fb2d541ea8baa893b2be4021f",
       "version_major": 2,
       "version_minor": 0
      },
      "text/plain": [
       "Computing synthetic controls:   0%|          | 0/5 [00:00<?, ?it/s]"
      ]
     },
     "metadata": {},
     "output_type": "display_data"
    },
    {
     "data": {
      "application/vnd.jupyter.widget-view+json": {
       "model_id": "5b61662ba7bb44769c1933d6e0291590",
       "version_major": 2,
       "version_minor": 0
      },
      "text/plain": [
       "Iterative optimization:   0%|          | 0/200 [00:00<?, ?it/s]"
      ]
     },
     "metadata": {},
     "output_type": "display_data"
    },
    {
     "data": {
      "application/vnd.jupyter.widget-view+json": {
       "model_id": "3f0a4271898f42dabdbf39f5c8034d73",
       "version_major": 2,
       "version_minor": 0
      },
      "text/plain": [
       "Iterative optimization:   0%|          | 0/200 [00:00<?, ?it/s]"
      ]
     },
     "metadata": {},
     "output_type": "display_data"
    },
    {
     "data": {
      "application/vnd.jupyter.widget-view+json": {
       "model_id": "e848e2deaa7446678a08e1d31b62bb14",
       "version_major": 2,
       "version_minor": 0
      },
      "text/plain": [
       "Iterative optimization:   0%|          | 0/200 [00:00<?, ?it/s]"
      ]
     },
     "metadata": {},
     "output_type": "display_data"
    },
    {
     "data": {
      "application/vnd.jupyter.widget-view+json": {
       "model_id": "f2a7cbc779eb40c2b10882ac53696b34",
       "version_major": 2,
       "version_minor": 0
      },
      "text/plain": [
       "Iterative optimization:   0%|          | 0/200 [00:00<?, ?it/s]"
      ]
     },
     "metadata": {},
     "output_type": "display_data"
    },
    {
     "data": {
      "application/vnd.jupyter.widget-view+json": {
       "model_id": "fc47f63e2af04b259a2d582ac836f82e",
       "version_major": 2,
       "version_minor": 0
      },
      "text/plain": [
       "Iterative optimization:   0%|          | 0/200 [00:00<?, ?it/s]"
      ]
     },
     "metadata": {},
     "output_type": "display_data"
    },
    {
     "data": {
      "application/vnd.jupyter.widget-view+json": {
       "model_id": "1e362f0f85584896a0655d4fd89d0af5",
       "version_major": 2,
       "version_minor": 0
      },
      "text/plain": [
       "Iterative optimization:   0%|          | 0/200 [00:00<?, ?it/s]"
      ]
     },
     "metadata": {},
     "output_type": "display_data"
    },
    {
     "data": {
      "application/vnd.jupyter.widget-view+json": {
       "model_id": "7dc707ac0e20424f9e47af59d0c388d5",
       "version_major": 2,
       "version_minor": 0
      },
      "text/plain": [
       "Computing synthetic controls:   0%|          | 0/5 [00:00<?, ?it/s]"
      ]
     },
     "metadata": {},
     "output_type": "display_data"
    },
    {
     "data": {
      "image/png": "[encoded data removed]",
      "text/plain": [
       "<Figure size 1000x400 with 2 Axes>"
      ]
     },
     "metadata": {},
     "output_type": "display_data"
    }
   ],
   "source": [
    "data = prop99_data\n",
    "# data = cancer_data\n",
    "\n",
    "_, num_time_steps = data.shape\n",
    "\n",
    "eopr_rmses = []\n",
    "mcnnm_rmses = []\n",
    "eopr_maes = []\n",
    "mcnnm_maes = []\n",
    "\n",
    "num_seeds = 4\n",
    "start_time = 5\n",
    "\n",
    "for seed in tqdm(range(num_seeds)):\n",
    "    for i in tqdm(list(range(num_time_steps))[start_time:]):\n",
    "        masked_data = simulate_treatment(\n",
    "            data=data,\n",
    "            treatment_time_idx=i,\n",
    "            num_treated_units=5,\n",
    "            treatment_type='simultaneous',\n",
    "            seed=seed,\n",
    "        )\n",
    "\n",
    "        best_rmse = float('inf')\n",
    "        best_mae = float('inf')\n",
    "        for threshold in [0.05, 0.01, 0.005, 0.001, 0.0005, 0.0001]:\n",
    "            mcnnm_output = MCNNM(shrinkage_threshold=0.001, num_iters=200).impute(masked_data)\n",
    "            mcnnm_rmse = metrics.root_mean_squared_error(data, mcnnm_output.imputed_data)\n",
    "            mcnnm_mae = metrics.mean_absolute_error(data, mcnnm_output.imputed_data)\n",
    "\n",
    "            if mcnnm_rmse < best_rmse:\n",
    "                best_rmse = mcnnm_rmse\n",
    "            if mcnnm_mae < best_mae:\n",
    "                best_mae = mcnnm_mae\n",
    "\n",
    "        eopr_output = EOpR(reg_coef=1e-5).impute(masked_data)\n",
    "        eopr_rmse = metrics.root_mean_squared_error(data, eopr_output.imputed_data)\n",
    "        eopr_mae = metrics.mean_absolute_error(data, eopr_output.imputed_data)\n",
    "\n",
    "        mcnnm_rmses.append(best_rmse)\n",
    "        eopr_rmses.append(eopr_rmse)\n",
    "        mcnnm_maes.append(best_mae)\n",
    "        eopr_maes.append(eopr_mae)\n",
    "\n",
    "plt.subplots(1, 2, figsize=(10, 4))\n",
    "\n",
    "plt.subplot(1, 2, 1)\n",
    "plt.plot(\n",
    "    np.arange(start_time, num_time_steps),\n",
    "    ei.reduce(\n",
    "        ei.rearrange(np.asarray(mcnnm_rmses), '(b d) -> b d', b=num_seeds),\n",
    "        'b d -> d',\n",
    "        np.mean,\n",
    "    ),\n",
    "    label='MCNNM RMSE',\n",
    ")\n",
    "plt.plot(\n",
    "    np.arange(start_time, num_time_steps),\n",
    "    ei.reduce(\n",
    "        ei.rearrange(np.asarray(eopr_rmses), '(b d) -> b d', b=num_seeds),\n",
    "        'b d -> d',\n",
    "        np.mean,\n",
    "    ),\n",
    "    label='EOpR RMSE',\n",
    ")\n",
    "plt.xlabel('T0')\n",
    "plt.ylabel('RMSE')\n",
    "plt.legend()\n",
    "\n",
    "plt.subplot(1, 2, 2)\n",
    "plt.plot(\n",
    "    np.arange(start_time, num_time_steps),\n",
    "    ei.reduce(\n",
    "        ei.rearrange(np.asarray(mcnnm_maes), '(b d) -> b d', b=num_seeds),\n",
    "        'b d -> d',\n",
    "        np.mean,\n",
    "    ),\n",
    "    label='MCNNM MAE',\n",
    ")\n",
    "plt.plot(\n",
    "    np.arange(start_time, num_time_steps),\n",
    "    ei.reduce(\n",
    "        ei.rearrange(np.asarray(eopr_maes), '(b d) -> b d', b=num_seeds),\n",
    "        'b d -> d',\n",
    "        np.mean,\n",
    "    ),\n",
    "    label='EOpR MAE',\n",
    ")\n",
    "plt.xlabel('T0')\n",
    "plt.ylabel('MAE')\n",
    "plt.legend()\n",
    "\n",
    "plt.show()"
   ]
  },
  {
   "cell_type": "code",
   "execution_count": 10,
   "metadata": {},
   "outputs": [
    {
     "data": {
      "image/png": "[encoded data removed]",
      "text/plain": [
       "<Figure size 1000x400 with 2 Axes>"
      ]
     },
     "metadata": {},
     "output_type": "display_data"
    }
   ],
   "source": [
    "plt.subplots(1, 2, figsize=(10, 4))\n",
    "\n",
    "plt.subplot(1, 2, 1)\n",
    "plt.plot(\n",
    "    np.arange(start_time, num_time_steps),\n",
    "    ei.reduce(\n",
    "        ei.rearrange(np.asarray(mcnnm_rmses), '(b d) -> b d', b=num_seeds),\n",
    "        'b d -> d',\n",
    "        np.mean,\n",
    "    ),\n",
    "    label='MCNNM RMSE',\n",
    ")\n",
    "plt.plot(\n",
    "    np.arange(start_time, num_time_steps),\n",
    "    ei.reduce(\n",
    "        ei.rearrange(np.asarray(eopr_rmses), '(b d) -> b d', b=num_seeds),\n",
    "        'b d -> d',\n",
    "        np.mean,\n",
    "    ),\n",
    "    label='EOpR RMSE',\n",
    ")\n",
    "plt.xlabel('T0')\n",
    "plt.ylabel('RMSE')\n",
    "plt.legend()\n",
    "\n",
    "plt.subplot(1, 2, 2)\n",
    "plt.plot(\n",
    "    np.arange(start_time, num_time_steps),\n",
    "    ei.reduce(\n",
    "        ei.rearrange(np.asarray(mcnnm_maes), '(b d) -> b d', b=num_seeds),\n",
    "        'b d -> d',\n",
    "        np.mean,\n",
    "    ),\n",
    "    label='MCNNM MAE',\n",
    ")\n",
    "plt.plot(\n",
    "    np.arange(start_time, num_time_steps),\n",
    "    ei.reduce(\n",
    "        ei.rearrange(np.asarray(eopr_maes), '(b d) -> b d', b=num_seeds),\n",
    "        'b d -> d',\n",
    "        np.mean,\n",
    "    ),\n",
    "    label='EOpR MAE',\n",
    ")\n",
    "plt.xlabel('T0')\n",
    "plt.ylabel('MAE')\n",
    "plt.legend()\n",
    "\n",
    "plt.show()"
   ]
  }
 ],
 "metadata": {
  "kernelspec": {
   "display_name": ".venv",
   "language": "python",
   "name": "python3"
  },
  "language_info": {
   "codemirror_mode": {
    "name": "ipython",
    "version": 3
   },
   "file_extension": ".py",
   "mimetype": "text/x-python",
   "name": "python",
   "nbconvert_exporter": "python",
   "pygments_lexer": "ipython3",
   "version": "3.11.9"
  }
 },
 "nbformat": 4,
 "nbformat_minor": 2
}
